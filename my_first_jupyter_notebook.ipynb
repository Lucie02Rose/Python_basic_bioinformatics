{
 "cells": [
  {
   "cell_type": "code",
   "execution_count": null,
   "id": "9e8db4ba",
   "metadata": {},
   "outputs": [],
   "source": [
    "# stacking things together\n",
    "for number in range(5):\n",
    "    if number == 0:\n",
    "        print('Zero')\n",
    "    elif number%2 == 1:\n",
    "        print('Odd')\n",
    "    else:\n",
    "        print('Even')"
   ]
  },
  {
   "cell_type": "markdown",
   "id": "7fa0e496",
   "metadata": {},
   "source": [
    "Add a cell using the plus sign"
   ]
  },
  {
   "cell_type": "code",
   "execution_count": null,
   "id": "bbcbde6f",
   "metadata": {},
   "outputs": [],
   "source": [
    "names = ['maria', 'isaac', 'sam', 'aisha']"
   ]
  },
  {
   "cell_type": "markdown",
   "id": "d160be71",
   "metadata": {},
   "source": [
    "Another line as non-code"
   ]
  },
  {
   "cell_type": "code",
   "execution_count": null,
   "id": "67268b41",
   "metadata": {},
   "outputs": [],
   "source": []
  }
 ],
 "metadata": {
  "kernelspec": {
   "display_name": "Python 3 (ipykernel)",
   "language": "python",
   "name": "python3"
  },
  "language_info": {
   "codemirror_mode": {
    "name": "ipython",
    "version": 3
   },
   "file_extension": ".py",
   "mimetype": "text/x-python",
   "name": "python",
   "nbconvert_exporter": "python",
   "pygments_lexer": "ipython3",
   "version": "3.9.7"
  }
 },
 "nbformat": 4,
 "nbformat_minor": 5
}
