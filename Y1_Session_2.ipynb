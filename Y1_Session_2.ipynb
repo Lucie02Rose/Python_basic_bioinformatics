{
 "cells": [
  {
   "cell_type": "markdown",
   "metadata": {},
   "source": [
    "<h1><center>An Introduction to Python - Session 2</center></h1>\n",
    "The activitities set out in this workbook are intended to teach you how to use coding skills to solve real-world biological problems. There are many aspects to programming in Python and there will be a few optional exercises along the way.\n",
    "\n",
    "Remember that we will be running Python code inside a Jupyter notebook and so all code must be written in code blocks. __Code written in one code block can be used in another code block further down the page, as long as you have run the first code block__. This will be important for the problems later on as they are broken down into smaller problems. As you work through this practical, you will likely encounter error codes. These are shown in the <span style=\"color: red\">red boxes</span> and will help you figure out what has gone wrong.\n",
    "\n",
    "Also, remember to save your progress as you go along by pressing __File --> Save and Checkpoint__."
   ]
  },
  {
   "cell_type": "markdown",
   "metadata": {},
   "source": [
    "## Functions\n",
    "You may have noticed that in the last session, we used functions like `print()` and `len()` to carry out certain tasks. Functions are a bit like cooking recipies as they usually have ingredients (arguments) passed to them and then they carry out a set of instructions to generate a result. So __functions are reusable bits of code__ that save us from having to copy and paste the same code multiple times. You will now learn how to write your own functions as this will make things easier for the problems later on.\n",
    "\n",
    "Let's say that we wanted to write a program that interprets some data about a person. Without a function it would look like this:"
   ]
  },
  {
   "cell_type": "code",
   "execution_count": null,
   "metadata": {},
   "outputs": [],
   "source": [
    "first_name_1 = \"John\"\n",
    "last_name_1 = \"Doe\"\n",
    "age_1 = 25\n",
    "first_name_2 = \"Julian\"\n",
    "last_name_2 = \"Rodgers\"\n",
    "age_2 = 34\n",
    "\n",
    "print(\"Name:\", first_name_1, last_name_1)\n",
    "print(\"In \" + str(100 - age_1) + \" years \" + first_name_1 + \" will be 100.\")\n",
    "print(\"Name:\", first_name_2, last_name_2)\n",
    "print(\"In \" + str(100 - age_2) + \" years \" + first_name_2 + \" will be 100.\")"
   ]
  },
  {
   "cell_type": "markdown",
   "metadata": {},
   "source": [
    "See how we have to repeat ourselves and write `print()` multiple times? If this was to be scaled up, the code would become very repetitive. An example of this is when working with 1000s of DNA sequences. Writing code to manipulate each sequence individually would take a very long time! With a function, the code does not repeat itself:"
   ]
  },
  {
   "cell_type": "code",
   "execution_count": 3,
   "metadata": {},
   "outputs": [
    {
     "name": "stdout",
     "output_type": "stream",
     "text": [
      "Name: John Doe\n",
      "In 75 years John will be 100.\n",
      "Name: Julian Rodgers\n",
      "In 66 years Julian will be 100.\n"
     ]
    }
   ],
   "source": [
    "first_name_1 = \"John\"\n",
    "last_name_1 = \"Doe\"\n",
    "age_1 = 25\n",
    "first_name_2 = \"Julian\"\n",
    "last_name_2 = \"Rodgers\"\n",
    "age_2 = 34\n",
    "\n",
    "# This function takes 3 arguments and these are variables that can then be used inside the function\n",
    "def print_full_name(first, last, age):\n",
    "    print(\"Name:\", first, last)\n",
    "    print(\"In \" + str(100 - age) + \" years \" + first + \" will be 100.\")\n",
    "\n",
    "# We then 'call' the function and pass variables to it\n",
    "print_full_name(first_name_1, last_name_1, age_1)\n",
    "print_full_name(first_name_2, last_name_2, age_2)"
   ]
  },
  {
   "cell_type": "markdown",
   "metadata": {},
   "source": [
    "We now only need 2 lines of code instead of 4 lines to print the result. To write a function, the general syntax is:\n",
    "\n",
    "<img src=\"figures/S2_1.png\" width=\"520\"/>\n",
    "\n",
    "__Now rewrite the function below so that it takes user input using the `input()` function for the first name, last name and age.__ Remember that numeric strings will have to be cast to integers to be able to perform math with them.\n",
    "\n",
    "How might you also remove the `first_name_1`, `last_name_1`, `age_1`, etc, variables from the code? Try parsing the user input directly into the function instead."
   ]
  },
  {
   "cell_type": "code",
   "execution_count": 6,
   "metadata": {},
   "outputs": [
    {
     "name": "stdout",
     "output_type": "stream",
     "text": [
      "Please enter first name:lucie\n",
      "Please enter surname:rose\n",
      "Please enter age:20\n",
      "Name: lucie rose\n",
      "In 80 years lucie will be 100.\n"
     ]
    }
   ],
   "source": [
    "input_first_name = input('Please enter first name:')\n",
    "input_surname = input('Please enter surname:')\n",
    "input_age = int(input('Please enter age:'))\n",
    "\n",
    "# This function takes 3 arguments and these are variables that can then be used inside the function\n",
    "def print_full_name(first, last, age):\n",
    "    print(\"Name:\", first, last)\n",
    "    print(\"In \" + str(100 - age) + \" years \" + first + \" will be 100.\")\n",
    "\n",
    "# We then 'call' the function and give it arguments\n",
    "print_full_name(input_first_name, input_surname, input_age)\n",
    "\n"
   ]
  },
  {
   "cell_type": "markdown",
   "metadata": {},
   "source": [
    "### Getting Output from a Function\n",
    "Functions can also return output instead of just performing a task such as printing lines. An example of such a function is `len()`. This calculates the length of string and returns an integer. An equivalent of this function is shown below:"
   ]
  },
  {
   "cell_type": "code",
   "execution_count": 7,
   "metadata": {},
   "outputs": [
    {
     "name": "stdout",
     "output_type": "stream",
     "text": [
      "57\n",
      "29\n"
     ]
    }
   ],
   "source": [
    "protein_seq = \"NYHDCMVRGKGAERDHCQATQSLWIAFYFKLEGGIHETNSKPHFGGQTVLKRMLAAV\"\n",
    "sentence = \"Functions can output results!\"\n",
    "\n",
    "def calculate_length(string):\n",
    "    length = int()\n",
    "    for character in string:\n",
    "        length += 1\n",
    "    return length\n",
    "\n",
    "print(calculate_length(protein_seq))\n",
    "print(calculate_length(sentence))"
   ]
  },
  {
   "cell_type": "markdown",
   "metadata": {},
   "source": [
    "Note that within the function, we created a variable called 'length'. Note that this variable (and any others created inside the function) cannot be accessed outside of the function. So, if we ask Python to print length, you'll get an error, as follows:"
   ]
  },
  {
   "cell_type": "code",
   "execution_count": 8,
   "metadata": {},
   "outputs": [
    {
     "name": "stdout",
     "output_type": "stream",
     "text": [
      "57\n",
      "29\n"
     ]
    },
    {
     "ename": "NameError",
     "evalue": "name 'length' is not defined",
     "output_type": "error",
     "traceback": [
      "\u001b[1;31m---------------------------------------------------------------------------\u001b[0m",
      "\u001b[1;31mNameError\u001b[0m                                 Traceback (most recent call last)",
      "\u001b[1;32m~\\AppData\\Local\\Temp/ipykernel_36156/4014683464.py\u001b[0m in \u001b[0;36m<module>\u001b[1;34m\u001b[0m\n\u001b[0;32m     11\u001b[0m \u001b[0mprint\u001b[0m\u001b[1;33m(\u001b[0m\u001b[0mcalculate_length\u001b[0m\u001b[1;33m(\u001b[0m\u001b[0msentence\u001b[0m\u001b[1;33m)\u001b[0m\u001b[1;33m)\u001b[0m\u001b[1;33m\u001b[0m\u001b[1;33m\u001b[0m\u001b[0m\n\u001b[0;32m     12\u001b[0m \u001b[1;33m\u001b[0m\u001b[0m\n\u001b[1;32m---> 13\u001b[1;33m \u001b[0mprint\u001b[0m\u001b[1;33m(\u001b[0m\u001b[0mlength\u001b[0m\u001b[1;33m)\u001b[0m \u001b[1;31m# this will generate an error\u001b[0m\u001b[1;33m\u001b[0m\u001b[1;33m\u001b[0m\u001b[0m\n\u001b[0m",
      "\u001b[1;31mNameError\u001b[0m: name 'length' is not defined"
     ]
    }
   ],
   "source": [
    "protein_seq = \"NYHDCMVRGKGAERDHCQATQSLWIAFYFKLEGGIHETNSKPHFGGQTVLKRMLAAV\"\n",
    "sentence = \"Functions can output results!\"\n",
    "\n",
    "def calculate_length(string):\n",
    "    length = int()\n",
    "    for character in string:\n",
    "        length += 1\n",
    "    return length\n",
    "\n",
    "print(calculate_length(protein_seq))\n",
    "print(calculate_length(sentence))\n",
    "\n",
    "print(length) # this will generate an error"
   ]
  },
  {
   "cell_type": "markdown",
   "metadata": {},
   "source": [
    "`length` cannot be accessed outside the function because of something called __scope__. In Python, all this means is that variables created inside functions cannot be accessed outside. Because of this, there is an official way to output results from functions so that we can go on to access and use them in the rest of the code.\n",
    "\n",
    "By writing `return` and then a variable afterwards, the variable can be output to another piece of code. This can be used to store the result of a function in a variable:"
   ]
  },
  {
   "cell_type": "code",
   "execution_count": 9,
   "metadata": {},
   "outputs": [
    {
     "name": "stdout",
     "output_type": "stream",
     "text": [
      "57 29\n"
     ]
    }
   ],
   "source": [
    "protein_seq = \"NYHDCMVRGKGAERDHCQATQSLWIAFYFKLEGGIHETNSKPHFGGQTVLKRMLAAV\"\n",
    "sentence = \"Functions can output results!\"\n",
    "\n",
    "def calculate_length(string):\n",
    "    length = int()\n",
    "    for character in string:\n",
    "        length += 1\n",
    "    return length\n",
    "\n",
    "length1 = calculate_length(protein_seq) # this will store the returned result in a variable: length1\n",
    "length2 = calculate_length(sentence) # this will store the returned result in a variable: length2\n",
    "\n",
    "print(length1, length2) # See how we can now print the output from the functions after they are called."
   ]
  },
  {
   "cell_type": "markdown",
   "metadata": {},
   "source": [
    "__Use the__ `return` __statement to create a function that calculates the number of a particular type of amino acid residue in a given protein sequence.__ Your code should print results to the screen like this:\n",
    "\n",
    "    Sequence: NYHDCMVRGKGAERDH\n",
    "    Count: H\n",
    "    Result: 2"
   ]
  },
  {
   "cell_type": "code",
   "execution_count": 12,
   "metadata": {},
   "outputs": [
    {
     "name": "stdout",
     "output_type": "stream",
     "text": [
      "57\n"
     ]
    }
   ],
   "source": [
    "protein_seq = \"NYHDCMVRGKGAERDHCQATQSLWIAFYFKLEGGIHETNSKPHFGGQTVLKRMLAAV\"\n",
    "\n",
    "def count_aa_residues(residue):\n",
    "    count = 0\n",
    "    for residue in protein_seq:\n",
    "        count += 1\n",
    "    return count\n",
    "count1 = count_aa_residues(protein_seq)\n",
    "print(count1)\n",
    "        # Write a loop here\n",
    "    \n",
    "    \n",
    "    \n",
    "    \n",
    "    # Now return the count\n",
    "    \n",
    "    \n",
    "# Use the function and print the result\n",
    "\n",
    "\n",
    "\n"
   ]
  },
  {
   "cell_type": "markdown",
   "metadata": {},
   "source": [
    "__Now modify the code so that the user can input a sequence and an amino acid residue to count.__ Copy your code from the previous codeblock, into the codeblock below and complete this exercise there."
   ]
  },
  {
   "cell_type": "code",
   "execution_count": 13,
   "metadata": {},
   "outputs": [
    {
     "name": "stdout",
     "output_type": "stream",
     "text": [
      "Please input protein sequence:ADIHIFSOFHSIOIFH\n",
      "16\n"
     ]
    }
   ],
   "source": [
    "# Your code here\n",
    "protein_seq = input(\"Please input protein sequence:\")\n",
    "\n",
    "def count_aa_residues(residue):\n",
    "    count = 0\n",
    "    for residue in protein_seq:\n",
    "        count += 1\n",
    "    return count\n",
    "count1 = count_aa_residues(protein_seq)\n",
    "print(count1)\n",
    "\n",
    "\n",
    "\n",
    "\n",
    "\n"
   ]
  },
  {
   "cell_type": "markdown",
   "metadata": {},
   "source": [
    "### Simplifying Code with Functions\n",
    "We will now turn the pseudocode examples from the last session into functions, to practise writing functions and to demonstrate the usefulness of them. If you remember from the last session, one of the pseudocode examples was an algorithm that found the reverse complement of a given sequence. The equivalent Python code for this is shown below:"
   ]
  },
  {
   "cell_type": "code",
   "execution_count": 32,
   "metadata": {},
   "outputs": [
    {
     "name": "stdout",
     "output_type": "stream",
     "text": [
      "Reverse complement of TTTAGACAGCATCATTGGCCGAAGTTATTG is CAATAACTTCGGCCAATGATGCTGTCTAAA\n"
     ]
    }
   ],
   "source": [
    "sequence_1 = \"TTTAGACAGCATCATTGGCCGAAGTTATTG\"\n",
    "\n",
    "# Find reverse complement of sequences\n",
    "rc_sequence_1 = str()\n",
    "for nucleotide in sequence_1[::-1]:\n",
    "    if (nucleotide == 'G'):\n",
    "        rc_sequence_1 += 'C'\n",
    "    elif (nucleotide == 'C'):\n",
    "        rc_sequence_1 += 'G'\n",
    "    elif (nucleotide == 'T'):\n",
    "        rc_sequence_1 += 'A'\n",
    "    else:\n",
    "        rc_sequence_1 += 'T'\n",
    "\n",
    "print(\"Reverse complement of\", sequence_1, \"is\", rc_sequence_1)"
   ]
  },
  {
   "cell_type": "markdown",
   "metadata": {},
   "source": [
    "Now if this was scaled up for 3 sequences, the code would look like this:"
   ]
  },
  {
   "cell_type": "code",
   "execution_count": 15,
   "metadata": {},
   "outputs": [
    {
     "name": "stdout",
     "output_type": "stream",
     "text": [
      "Reverse complement of TTTAGACAGCATCATTGGCCGAAGTTATTG is CAATAACTTCGGCCAATGATGCTGTCTAAA\n",
      "Reverse complement of GGCGTGCCCACCGTGGAGTCCTCCCCGGGC is GCCCGGGGAGGACTCCACGGTGGGCACGCC\n",
      "Reverse complement of GTCCCTCCTTTAAAAGATGATAAGCTCCGG is CCGGAGCTTATCATCTTTTAAAGGAGGGAC\n"
     ]
    }
   ],
   "source": [
    "sequence_1 = \"TTTAGACAGCATCATTGGCCGAAGTTATTG\"\n",
    "sequence_2 = \"GGCGTGCCCACCGTGGAGTCCTCCCCGGGC\"\n",
    "sequence_3 = \"GTCCCTCCTTTAAAAGATGATAAGCTCCGG\"\n",
    "\n",
    "# Find reverse complement of sequences\n",
    "rc_sequence_1 = str()\n",
    "for nucleotide in sequence_1[::-1]:\n",
    "    if (nucleotide == 'G'):\n",
    "        rc_sequence_1 += 'C'\n",
    "    elif (nucleotide == 'C'):\n",
    "        rc_sequence_1 += 'G'\n",
    "    elif (nucleotide == 'T'):\n",
    "        rc_sequence_1 += 'A'\n",
    "    else:\n",
    "        rc_sequence_1 += 'T'\n",
    "\n",
    "rc_sequence_2 = str()\n",
    "for nucleotide in sequence_2[::-1]:\n",
    "    if (nucleotide == 'G'):\n",
    "        rc_sequence_2 += 'C'\n",
    "    elif (nucleotide == 'C'):\n",
    "        rc_sequence_2 += 'G'\n",
    "    elif (nucleotide == 'T'):\n",
    "        rc_sequence_2 += 'A'\n",
    "    else:\n",
    "        rc_sequence_2 += 'T'\n",
    "\n",
    "rc_sequence_3 = str()\n",
    "for nucleotide in sequence_3[::-1]:\n",
    "    if (nucleotide == 'G'):\n",
    "        rc_sequence_3 += 'C'\n",
    "    elif (nucleotide == 'C'):\n",
    "        rc_sequence_3 += 'G'\n",
    "    elif (nucleotide == 'T'):\n",
    "        rc_sequence_3 += 'A'\n",
    "    else:\n",
    "        rc_sequence_3 += 'T'\n",
    "\n",
    "print(\"Reverse complement of\", sequence_1, \"is\", rc_sequence_1)\n",
    "print(\"Reverse complement of\", sequence_2, \"is\", rc_sequence_2)\n",
    "print(\"Reverse complement of\", sequence_3, \"is\", rc_sequence_3)"
   ]
  },
  {
   "cell_type": "markdown",
   "metadata": {},
   "source": [
    "With the use of functions, a lot of this code can become redundant. __Modify the code below and write a function that calculates the reverse complement of a given sequence.__ You will be able to delete a lot of the code below as it performs the same task."
   ]
  },
  {
   "cell_type": "code",
   "execution_count": 50,
   "metadata": {},
   "outputs": [
    {
     "name": "stdout",
     "output_type": "stream",
     "text": [
      "Reverse complement of TTTAGACAGCATCATTGGCCGAAGTTATTG is CAATAACTTCGGCCAATGATGCTGTCTAAA\n",
      "Reverse complement of GGCGTGCCCACCGTGGAGTCCTCCCCGGGC is GCCCGGGGAGGACTCCACGGTGGGCACGCC\n",
      "Reverse complement of GTCCCTCCTTTAAAAGATGATAAGCTCCGG is CCGGAGCTTATCATCTTTTAAAGGAGGGAC\n"
     ]
    }
   ],
   "source": [
    "sequence_1 = \"TTTAGACAGCATCATTGGCCGAAGTTATTG\"\n",
    "sequence_2 = \"GGCGTGCCCACCGTGGAGTCCTCCCCGGGC\"\n",
    "sequence_3 = \"GTCCCTCCTTTAAAAGATGATAAGCTCCGG\"\n",
    "\n",
    "def reverse_complement(sequence, nucleotide):\n",
    "    rc_sequence = str()\n",
    "    for nucleotide in sequence[::-1]:\n",
    "        if (nucleotide == 'G'):\n",
    "            rc_sequence += 'C'\n",
    "        elif (nucleotide == 'C'):\n",
    "            rc_sequence += 'G'\n",
    "        elif (nucleotide == 'T'):\n",
    "            rc_sequence += 'A'\n",
    "        else:\n",
    "            rc_sequence += 'T'\n",
    "    return rc_sequence\n",
    "rc_sequence_1 = reverse_complement(sequence_1, nucleotide)\n",
    "rc_sequence_2 = reverse_complement(sequence_2, nucleotide)\n",
    "rc_sequence_3 = reverse_complement(sequence_3, nucleotide)\n",
    "# Find reverse complement of sequences\n",
    "\n",
    "print(\"Reverse complement of\", sequence_1, \"is\", rc_sequence_1)\n",
    "print(\"Reverse complement of\", sequence_2, \"is\", rc_sequence_2)\n",
    "print(\"Reverse complement of\", sequence_3, \"is\", rc_sequence_3)\n",
    "\n",
    "\n"
   ]
  },
  {
   "cell_type": "markdown",
   "metadata": {},
   "source": [
    "One of the other pseudocode examples calculated the GC content of a given sequence. This is the percentage of GCs present and can be calculated in Python as follows:"
   ]
  },
  {
   "cell_type": "code",
   "execution_count": null,
   "metadata": {},
   "outputs": [],
   "source": [
    "sequence_1 = \"TTTAGACAGCATCATTGGCCGAAGTTATTG\"\n",
    "\n",
    "# Calculate GC content of sequences\n",
    "GCs_1 = 0\n",
    "for nucleotide in sequence_1:\n",
    "    if (nucleotide == 'G' or nucleotide == 'C'):\n",
    "        GCs_1 += 1\n",
    "GC_sequence_1 = (GCs_1 / len(sequence_1)) * 100\n",
    "\n",
    "print(\"GC content of\", sequence_1, \"is\", GC_sequence_1, \"%\")"
   ]
  },
  {
   "cell_type": "markdown",
   "metadata": {},
   "source": [
    "This can be scaled up for multiple sequences, as seen previously, but a lot of the code repeats itself. __Once again, write a function that simplifies this code. Modify the code below to do this.__"
   ]
  },
  {
   "cell_type": "code",
   "execution_count": 51,
   "metadata": {},
   "outputs": [
    {
     "name": "stdout",
     "output_type": "stream",
     "text": [
      "GC content of TTTAGACAGCATCATTGGCCGAAGTTATTG is 40.0 %\n",
      "GC content of GGCGTGCCCACCGTGGAGTCCTCCCCGGGC is 80.0 %\n",
      "GC content of GTCCCTCCTTTAAAAGATGATAAGCTCCGG is 46.666666666666664 %\n"
     ]
    }
   ],
   "source": [
    "sequence_1 = \"TTTAGACAGCATCATTGGCCGAAGTTATTG\"\n",
    "sequence_2 = \"GGCGTGCCCACCGTGGAGTCCTCCCCGGGC\"\n",
    "sequence_3 = \"GTCCCTCCTTTAAAAGATGATAAGCTCCGG\"\n",
    "\n",
    "# Calculate GC content of sequences\n",
    "\n",
    "def gc_content(sequence, nucleotide):\n",
    "    GCs = 0\n",
    "    for nucleotide in sequence:\n",
    "        if (nucleotide == 'G' or nucleotide == 'C'):\n",
    "            GCs += 1\n",
    "    GC_sequence = (GCs / len(sequence)) * 100\n",
    "    return GC_sequence\n",
    "GC_sequence_1 = gc_content(sequence_1, nucleotide)\n",
    "GC_sequence_2 = gc_content(sequence_2, nucleotide)\n",
    "GC_sequence_3 = gc_content(sequence_3, nucleotide)\n",
    "\n",
    "print(\"GC content of\", sequence_1, \"is\", GC_sequence_1, \"%\")\n",
    "print(\"GC content of\", sequence_2, \"is\", GC_sequence_2, \"%\")\n",
    "print(\"GC content of\", sequence_3, \"is\", GC_sequence_3, \"%\")\n"
   ]
  },
  {
   "cell_type": "markdown",
   "metadata": {},
   "source": [
    "After completing this exercise, you should see the usefulness of functions as the code should be much shorter."
   ]
  },
  {
   "cell_type": "markdown",
   "metadata": {},
   "source": [
    "### A Note On Modules\n",
    "The functions that we have used so far have been accessible by simply writing their name and using brackets, such as the `print()` function. However, pre-built functions are often stored in modules such as the `math` module, which contains useful functions like `math.sqrt()` (calculates the squareroot of a number). These functions can be used in our Python code by writing `import module_name`. In the example of the `math` module we would write:"
   ]
  },
  {
   "cell_type": "code",
   "execution_count": null,
   "metadata": {},
   "outputs": [],
   "source": [
    "import math\n",
    "\n",
    "to_sqrt = 16\n",
    "result = math.sqrt(to_sqrt)\n",
    "print(\"The squareroot of\", to_sqrt, \"is\", result)"
   ]
  },
  {
   "cell_type": "markdown",
   "metadata": {},
   "source": [
    "__We will be using modules later on so you will get more practise with them later.__"
   ]
  },
  {
   "cell_type": "markdown",
   "metadata": {},
   "source": [
    "## Reading and Writing Files\n",
    "\n",
    "Reading and writing files is an essential part of any programming language and it will enable you to export results without having to display them on the screen. This is important with biological problems as the data, for example sequences, would be hard to interpret on a screen.\n",
    "\n",
    "To open a file, there is a special type of syntax that we can use:\n",
    "\n",
    "<img src=\"figures/S2_2.png\" width=\"600\"/>\n",
    "\n",
    "There are other ways to open files in Python but the `with` statement is a tidy way to do this. It is important to indent after the `with` statement using the `Tab` key so that Python knows what code to run after opening the file. \n",
    "\n",
    "Using this, we will try to read and write our own files. __Start by completing the code below to open a pre-existing file called__ `exercises/codons.txt` __and print each line in that file.__ (Note: This file has already been created for you and is contained within the 'exercises' folder of this workbook, so you will be able to read it in below.)\n",
    "\n",
    "If you get stuck, look at the image above and see what would need to be modified to make it work for the new file name."
   ]
  },
  {
   "cell_type": "code",
   "execution_count": 64,
   "metadata": {
    "scrolled": false
   },
   "outputs": [
    {
     "name": "stdout",
     "output_type": "stream",
     "text": [
      "ATA:I\n",
      "\n",
      "ATC:I\n",
      "\n",
      "ATT:I\n",
      "\n",
      "ATG:M\n",
      "\n",
      "ACA:T\n",
      "\n",
      "ACC:T\n",
      "\n",
      "ACG:T\n",
      "\n",
      "ACT:T\n",
      "\n",
      "AAC:N\n",
      "\n",
      "AAT:N\n",
      "\n",
      "AAA:K\n",
      "\n",
      "AAG:K\n",
      "\n",
      "AGC:S\n",
      "\n",
      "AGT:S\n",
      "\n",
      "AGA:R\n",
      "\n",
      "AGG:R\n",
      "\n",
      "CTA:L\n",
      "\n",
      "CTC:L\n",
      "\n",
      "CTG:L\n",
      "\n",
      "CTT:L\n",
      "\n",
      "CCA:P\n",
      "\n",
      "CCC:P\n",
      "\n",
      "CCG:P\n",
      "\n",
      "CCT:P\n",
      "\n",
      "CAC:H\n",
      "\n",
      "CAT:H\n",
      "\n",
      "CAA:Q\n",
      "\n",
      "CAG:Q\n",
      "\n",
      "CGA:R\n",
      "\n",
      "CGC:R\n",
      "\n",
      "CGG:R\n",
      "\n",
      "CGT:R\n",
      "\n",
      "GTA:V\n",
      "\n",
      "GTC:V\n",
      "\n",
      "GTG:V\n",
      "\n",
      "GTT:V\n",
      "\n",
      "GCA:A\n",
      "\n",
      "GCC:A\n",
      "\n",
      "GCG:A\n",
      "\n",
      "GCT:A\n",
      "\n",
      "GAC:D\n",
      "\n",
      "GAT:D\n",
      "\n",
      "GAA:E\n",
      "\n",
      "GAG:E\n",
      "\n",
      "GGA:G\n",
      "\n",
      "GGC:G\n",
      "\n",
      "GGG:G\n",
      "\n",
      "GGT:G\n",
      "\n",
      "TCA:S\n",
      "\n",
      "TCC:S\n",
      "\n",
      "TCG:S\n",
      "\n",
      "TCT:S\n",
      "\n",
      "TTC:F\n",
      "\n",
      "TTT:F\n",
      "\n",
      "TTA:L\n",
      "\n",
      "TTG:L\n",
      "\n",
      "TAC:Y\n",
      "\n",
      "TAT:Y\n",
      "\n",
      "TAA:_\n",
      "\n",
      "TAG:_\n",
      "\n",
      "TGC:C\n",
      "\n",
      "TGT:C\n",
      "\n",
      "TGA:_\n",
      "\n",
      "TGG:W\n",
      "\n"
     ]
    }
   ],
   "source": [
    "# Your code here\n",
    "with open(\"codons.txt\") as file_in:\n",
    "    for line in file_in:\n",
    "        print(line)\n",
    "    \n",
    "\n",
    "\n",
    "\n"
   ]
  },
  {
   "cell_type": "markdown",
   "metadata": {},
   "source": [
    "After printing the contents of the file, you will see that it contains a list of DNA codons and their corresponding amino acids. At the end of the last session, you wrote a script that could translate a nucleotide sequence using a dictionary of codons. __You will now read in a file of the codons and build that dictionary yourself.__ If you've printed the file to the screen, you will see that each line follows this format:\n",
    "\n",
    "    codon:amino_acid\n",
    "\n",
    "Dictionaries are useful for storing codons as the corresponding amino acid can be quickly retrieved by using the codon as a key. Dictionaries work a bit like lists, except that they contain keys and their associated values:\n",
    "\n",
    "    my_dictionary = {'key1': 'value1', 'key2': 'value2', ...}\n",
    "\n",
    "Note that the key comes first, followed by a colon and then the associated value.\n",
    "\n",
    "If we wanted to store the codons in a dictionary, we would want the key to be the codon and the value to be the associated amino acid. This would eventually look like this:\n",
    "\n",
    "    codons = {'ATA': 'I', 'ATC': 'I', 'ATT': 'I', 'ATG': 'M', ...}\n",
    "\n",
    "### The Split and Strip Functions\n",
    "In order to handle each line in our file and separate the codon from the amino-acid, `codons.txt`, we can use the `split()` function to separate them by the ':' symbol. Run the code below to see how the function works in another scenario:"
   ]
  },
  {
   "cell_type": "code",
   "execution_count": null,
   "metadata": {},
   "outputs": [],
   "source": [
    "string_of_names = \"John, Jane, Bill, Martina, Gabriel, Fiona\"\n",
    "list_of_names = string_of_names.split(',')\n",
    "print(\"Before:\", string_of_names, \"\\nAfter:\", list_of_names)"
   ]
  },
  {
   "cell_type": "markdown",
   "metadata": {},
   "source": [
    "The `split()` function splits a string at definied positions/symbols, thereby creating a list. If you run the example above, you'll see that it splits the string every time there is a comma and returns a list with the commas removed and the names as elements of that list. You can change where/how a string is split by specifying different arguments:\n",
    "\n",
    "    my_string.split() # splits every time there is whitespace\n",
    "    my_string.split('and') # splits every time the word 'and' is encountered\n",
    "\n",
    "__Use the split function to turn the measurements below into a list. Convert each number to a float and then print the results.__ You will need a loop to do the last bit."
   ]
  },
  {
   "cell_type": "code",
   "execution_count": 2,
   "metadata": {},
   "outputs": [
    {
     "name": "stdout",
     "output_type": "stream",
     "text": [
      "['15.1', ' 17.4', ' 19.5', ' 27.2', ' 32.0']\n",
      "[15.1, 17.4, 19.5, 27.2, 32.0]\n"
     ]
    }
   ],
   "source": [
    "measurements = \"15.1, 17.4, 19.5, 27.2, 32.0\"\n",
    "numbers_str = measurements.split(\",\")\n",
    "print(numbers_str)\n",
    "numbers = []\n",
    "for number in numbers_str:\n",
    "    numbers.append(float(number))\n",
    "print(numbers)\n",
    "# Split the string\n",
    "\n",
    "\n",
    "# Convert the numbers to floats and print the result\n",
    "\n",
    "\n",
    "\n",
    "\n"
   ]
  },
  {
   "cell_type": "markdown",
   "metadata": {},
   "source": [
    "Sometimes though, the input string may contain escape characters. [Escape characters](https://docs.python.org/3/reference/lexical_analysis.html#literals) always start with a backslash and are followed by a letter or code. They represent certain characters or whitespace that would not be correctly interpreted when using them in string variables or with `print()`.\n",
    "\n",
    "The newline character `\\n` is an example of an escape character and you have been using it throughout these practicals. Often when reading files into Python, there are newline characters at the end of each line. \n",
    "\n",
    "There are also other escape characters such as:\n",
    "\n",
    "    \\t    Insert tab\n",
    "    \\'    Insert single quotation mark\n",
    "    \\\"    Insert double quotation mark\n",
    "    \\\\    Insert backslash\n",
    "\n",
    "__We can use the__ `strip()` __function to remove whitespace or characters, making manipulation of these variables easier later on:__"
   ]
  },
  {
   "cell_type": "code",
   "execution_count": 66,
   "metadata": {},
   "outputs": [
    {
     "name": "stdout",
     "output_type": "stream",
     "text": [
      "This is how it looks before:\n",
      "This is line 1.\n",
      "\n",
      "This is line 2.\n",
      "\n",
      "This is line 3.\n",
      "\n"
     ]
    }
   ],
   "source": [
    "lines = [\"This is line 1.\\n\", \"This is line 2.\\n\", \"This is line 3.\\n\"]\n",
    "\n",
    "print(\"This is how it looks before:\")\n",
    "for line in lines:\n",
    "    print(line)"
   ]
  },
  {
   "cell_type": "markdown",
   "metadata": {},
   "source": [
    "See how each line inserts a newline when printed? This can be fixed by using the `strip()` function."
   ]
  },
  {
   "cell_type": "code",
   "execution_count": 121,
   "metadata": {},
   "outputs": [
    {
     "name": "stdout",
     "output_type": "stream",
     "text": [
      "This is how it looks after using strip():\n",
      "This is line 1.\n",
      "This is line 2.\n",
      "This is line 3.\n"
     ]
    }
   ],
   "source": [
    "lines = [\"This is line 1.\\n\", \"This is line 2.\\n\", \"This is line 3.\\n\"]\n",
    "\n",
    "print(\"This is how it looks after using strip():\")\n",
    "for line in lines:\n",
    "    print(line.strip('\\n'))"
   ]
  },
  {
   "cell_type": "markdown",
   "metadata": {},
   "source": [
    "An argument can be given to the `strip()` function to specify what to remove from your string. If no argument is given, then the whitespace at the beginning and the end of the string will be removed. \n",
    "\n",
    "Each of the following DNA sequences (shown below) has a value associated with it for its GC content. The sequences and their associated GC values are stored in separate lists. \n",
    "\n",
    "__Use split and strip to isolate the sequences (as strings) and their respective GC contents (as floats, NOT strings). Then, print the sequences and the GC content as a percentage.__ \n",
    "\n",
    "Note that you can perform more than one function at once:\n",
    "\n",
    "    result = my_String.strip().split()\n",
    "\n",
    "If you are still stuck, remember that you can use the `float()` expression to cast a string to a float."
   ]
  },
  {
   "cell_type": "code",
   "execution_count": 9,
   "metadata": {},
   "outputs": [
    {
     "name": "stdout",
     "output_type": "stream",
     "text": [
      "GC content of AATTAGGACC is 0.43 %\n",
      "GC content of ATGTAGTACA is 0.61 %\n",
      "GC content of TTTGTTACAA is 0.15 %\n",
      "AATTAGGACC has a GC content of 0.43\n",
      "ATGTAGTACA has a GC content of 0.61\n",
      "TTTGTTACAA has a GC content of 0.15\n"
     ]
    }
   ],
   "source": [
    "sequences = \"AATTAGGACC,ATGTAGTACA,TTTGTTACAA\\n\"\n",
    "GC_contents = \"0.43,0.61,0.15\\n\"\n",
    "result_sequences = sequences.strip(\"\\n\").split(\",\")\n",
    "result = GC_contents.strip(\"\\n\").split(\",\")\n",
    "GC_floats_list = list()\n",
    "for number in result:\n",
    "    GC_floats_list.append(float(number))\n",
    "print(\"GC content of\", result_sequences[0], \"is\", result[0], \"%\")\n",
    "print(\"GC content of\", result_sequences[1], \"is\", result[1], \"%\")\n",
    "print(\"GC content of\", result_sequences[2], \"is\", result[2], \"%\")\n",
    "\n",
    "for i in range(len(result_sequences)):\n",
    "    print(result_sequences[i], \"has a GC content of\", GC_floats_list[i])\n",
    "\n",
    "# Loop through the split GC_contents and convert the values to floats \n",
    "# and add them to the list below\n",
    "\n",
    "# Print the results\n",
    "\n",
    "\n",
    "\n",
    "\n"
   ]
  },
  {
   "cell_type": "markdown",
   "metadata": {},
   "source": [
    "### Extracting Codon Translations From a File\n",
    "To put all of the above together, you will now extract the codons from the codon file. __Use__ `line.split()` __to split each line by the__ `:` __(colon) and  print the result.__"
   ]
  },
  {
   "cell_type": "code",
   "execution_count": 18,
   "metadata": {},
   "outputs": [
    {
     "name": "stdout",
     "output_type": "stream",
     "text": [
      "['ATA', 'I']\n",
      "['ATC', 'I']\n",
      "['ATT', 'I']\n",
      "['ATG', 'M']\n",
      "['ACA', 'T']\n",
      "['ACC', 'T']\n",
      "['ACG', 'T']\n",
      "['ACT', 'T']\n",
      "['AAC', 'N']\n",
      "['AAT', 'N']\n",
      "['AAA', 'K']\n",
      "['AAG', 'K']\n",
      "['AGC', 'S']\n",
      "['AGT', 'S']\n",
      "['AGA', 'R']\n",
      "['AGG', 'R']\n",
      "['CTA', 'L']\n",
      "['CTC', 'L']\n",
      "['CTG', 'L']\n",
      "['CTT', 'L']\n",
      "['CCA', 'P']\n",
      "['CCC', 'P']\n",
      "['CCG', 'P']\n",
      "['CCT', 'P']\n",
      "['CAC', 'H']\n",
      "['CAT', 'H']\n",
      "['CAA', 'Q']\n",
      "['CAG', 'Q']\n",
      "['CGA', 'R']\n",
      "['CGC', 'R']\n",
      "['CGG', 'R']\n",
      "['CGT', 'R']\n",
      "['GTA', 'V']\n",
      "['GTC', 'V']\n",
      "['GTG', 'V']\n",
      "['GTT', 'V']\n",
      "['GCA', 'A']\n",
      "['GCC', 'A']\n",
      "['GCG', 'A']\n",
      "['GCT', 'A']\n",
      "['GAC', 'D']\n",
      "['GAT', 'D']\n",
      "['GAA', 'E']\n",
      "['GAG', 'E']\n",
      "['GGA', 'G']\n",
      "['GGC', 'G']\n",
      "['GGG', 'G']\n",
      "['GGT', 'G']\n",
      "['TCA', 'S']\n",
      "['TCC', 'S']\n",
      "['TCG', 'S']\n",
      "['TCT', 'S']\n",
      "['TTC', 'F']\n",
      "['TTT', 'F']\n",
      "['TTA', 'L']\n",
      "['TTG', 'L']\n",
      "['TAC', 'Y']\n",
      "['TAT', 'Y']\n",
      "['TAA', '_']\n",
      "['TAG', '_']\n",
      "['TGC', 'C']\n",
      "['TGT', 'C']\n",
      "['TGA', '_']\n",
      "['TGG', 'W']\n"
     ]
    }
   ],
   "source": [
    "with open(\"codons.txt\") as file_in:\n",
    "    for line in file_in:\n",
    "        line_list = line.strip().split(\":\")\n",
    "        print(line_list)\n",
    "    \n"
   ]
  },
  {
   "cell_type": "markdown",
   "metadata": {},
   "source": [
    "This turns each line in `codons.txt` to a list whose elements can be accessed using the `my_list[index]` syntax. You will now store these details in a dictionary called `codons`. If you remember from before, dictionaries work a bit like lists except that they contain keys and their associated values. This can be seen in below.\n",
    "\n",
    "    my_dictionary = {'key1': 'value1', 'key2': 'value2', ...}\n",
    "\n",
    "If we wanted to store the codons as a dictionary, we would want the key to equal the codon and the value to equal the amino acid. This would eventually look like this:\n",
    "\n",
    "    codons = {'ATA': 'I', 'ATC': 'I', 'ATT': 'I', 'ATG': 'M', ...}\n",
    "\n",
    "__To add a value from a list to a dictionary, the code would look similar to this:__"
   ]
  },
  {
   "cell_type": "code",
   "execution_count": 1,
   "metadata": {},
   "outputs": [
    {
     "name": "stdout",
     "output_type": "stream",
     "text": [
      "The list looks like this: ['codon', 'amino_acid']\n",
      "In codons.txt, each line looks like this: codon:amino_acid\n",
      "\n",
      "The dictionary looks like this: {'codon': 'amino_acid'}\n",
      "The value for the key called 'codon' is: amino_acid\n"
     ]
    }
   ],
   "source": [
    "\n",
    "# Using a list\n",
    "my_list = ['codon', 'amino_acid']\n",
    "print(\"The list looks like this:\", my_list)\n",
    "print(\"In codons.txt, each line looks like this:\", my_list[0] + ':' + my_list[1])\n",
    "\n",
    "# Using a dictionary\n",
    "my_dictionary = dict() # creates an empty dictionary\n",
    "my_dictionary[my_list[0]] = my_list[1]\n",
    "print(\"\\nThe dictionary looks like this:\", my_dictionary)\n",
    "print(\"The value for the key called \\'codon\\' is:\", my_dictionary['codon'])"
   ]
  },
  {
   "cell_type": "markdown",
   "metadata": {},
   "source": [
    "So to add a value to a dictionary, you use the following syntax:\n",
    "\n",
    "    my_dictionary['key_name'] = 'some value'\n",
    "\n",
    "__Use this to store to store each codon in the dictionary.__ You will need to first split each line as before (at the `:`). This will create a small list containing the codon and its amino acid, which both need to be added to the dictionary so that:\n",
    "\n",
    "    codons = {'ATA': 'I', 'ATC': 'I', 'ATT': 'I', 'ATG': 'M', ...}\n",
    "    \n",
    "__Then, print each codon and its corresponding amino acid from the codons dictionary.__ \n",
    "\n",
    "You can iterate a dictionary with a __for__ loop using the same method as with a list. In this case it will retrieve each key:\n",
    "\n",
    "    for key in my_dictionary:\n",
    "        print(key)\n"
   ]
  },
  {
   "cell_type": "code",
   "execution_count": 24,
   "metadata": {},
   "outputs": [
    {
     "name": "stdout",
     "output_type": "stream",
     "text": [
      "Codon ATA is I\n",
      "Codon ATC is I\n",
      "Codon ATT is I\n",
      "Codon ATG is M\n",
      "Codon ACA is T\n",
      "Codon ACC is T\n",
      "Codon ACG is T\n",
      "Codon ACT is T\n",
      "Codon AAC is N\n",
      "Codon AAT is N\n",
      "Codon AAA is K\n",
      "Codon AAG is K\n",
      "Codon AGC is S\n",
      "Codon AGT is S\n",
      "Codon AGA is R\n",
      "Codon AGG is R\n",
      "Codon CTA is L\n",
      "Codon CTC is L\n",
      "Codon CTG is L\n",
      "Codon CTT is L\n",
      "Codon CCA is P\n",
      "Codon CCC is P\n",
      "Codon CCG is P\n",
      "Codon CCT is P\n",
      "Codon CAC is H\n",
      "Codon CAT is H\n",
      "Codon CAA is Q\n",
      "Codon CAG is Q\n",
      "Codon CGA is R\n",
      "Codon CGC is R\n",
      "Codon CGG is R\n",
      "Codon CGT is R\n",
      "Codon GTA is V\n",
      "Codon GTC is V\n",
      "Codon GTG is V\n",
      "Codon GTT is V\n",
      "Codon GCA is A\n",
      "Codon GCC is A\n",
      "Codon GCG is A\n",
      "Codon GCT is A\n",
      "Codon GAC is D\n",
      "Codon GAT is D\n",
      "Codon GAA is E\n",
      "Codon GAG is E\n",
      "Codon GGA is G\n",
      "Codon GGC is G\n",
      "Codon GGG is G\n",
      "Codon GGT is G\n",
      "Codon TCA is S\n",
      "Codon TCC is S\n",
      "Codon TCG is S\n",
      "Codon TCT is S\n",
      "Codon TTC is F\n",
      "Codon TTT is F\n",
      "Codon TTA is L\n",
      "Codon TTG is L\n",
      "Codon TAC is Y\n",
      "Codon TAT is Y\n",
      "Codon TAA is _\n",
      "Codon TAG is _\n",
      "Codon TGC is C\n",
      "Codon TGT is C\n",
      "Codon TGA is _\n",
      "Codon TGG is W\n"
     ]
    }
   ],
   "source": [
    "codons = dict() # creates an empty dictionary\n",
    "\n",
    "# Read in file\n",
    "with open(\"codons.txt\") as file_in:\n",
    "    for line in file_in:\n",
    "        line_seq = line.strip().split(\":\")\n",
    "        codons[line_seq[0]] = line_seq[1]\n",
    "for codon in codons:\n",
    "    print(\"Codon\", codon, \"is\", codons[codon])\n",
    "               \n",
    "\n",
    "\n",
    "\n",
    "# Using a dictionary\n",
    "    \n",
    "# Print each codon and its corresponding amino acid from the codons dictionary\n",
    "\n",
    "\n"
   ]
  },
  {
   "cell_type": "markdown",
   "metadata": {},
   "source": [
    "If you look closely, you can see that there are `\\n` characters in our dictionary, which adds a new line after each amino acid letter. This is because each line of our file ended in a newline (`\\n`) character which tells the text editor to start a new line after this. When we go to print each amino acid, we see Python creating newlines and we don't want this! To remove these characters, you can use the `strip()` function. \n",
    "\n",
    "__Copy your code from above and use it to complete the following code block, where each newline character should be removed when importing lines from__ `codons.txt`. You can strip each line before splitting it like this:\n",
    "\n",
    "    line_list = line.strip('\\n').split(':')"
   ]
  },
  {
   "cell_type": "code",
   "execution_count": null,
   "metadata": {},
   "outputs": [],
   "source": [
    "codons = dict() # creates an empty dictionary\n",
    "\n",
    "# Read in file\n",
    "with open(\"codons.txt\") as file_in:\n",
    "    for line in file_in:\n",
    "        line_seq = line.strip().split(\":\")\n",
    "        codons[line_seq[0]] = line_seq[1]\n",
    "for codon in codons:\n",
    "    print(\"Codon\", codon, \"is\", codons[codon])\n",
    "               \n",
    "\n",
    "\n",
    "    \n",
    "    \n",
    "# Print each codon and its corresponding amino acid frm the codons dictionary\n",
    "\n",
    "\n"
   ]
  },
  {
   "cell_type": "markdown",
   "metadata": {},
   "source": [
    "Now when the amino acids are printed there are no additional newlines. `strip()` removes characters from the beginning and end of a string and if no arguments are given, i.e. `my_string.strip()`, it will remove whitespace only.\n",
    "\n",
    "### Using a Dictionary For Translation\n",
    "You will now use this codon dictionary to translate the nucleotide sequence. `sequence` is still a string except that 3 quote marks have been used either side of it. This is used to write a string that occupies more than one line within your code.\n",
    "\n",
    "__Use your__ `codons` __dictionary to translate the sequence and print the translated sequence.__\n",
    "\n",
    "You can use __strip__ to remove newline characters from the end of a string but to remove them from within a string you can use __replace__. This will replace a substring with an alternative. To replace all newlines with a space:\n",
    "\n",
    "    string.replace('\\n', ' ')\n",
    "    \n",
    "To remove all newlines:\n",
    "    \n",
    "    string.replace('\\n', '')\n"
   ]
  },
  {
   "cell_type": "code",
   "execution_count": 28,
   "metadata": {},
   "outputs": [
    {
     "name": "stdout",
     "output_type": "stream",
     "text": [
      "MQIPPRPARTMVRHAPPHRWAQPRGYKQCWRLAGQASRV_\n"
     ]
    }
   ],
   "source": [
    "codons = dict() # creates an empty dictionary\n",
    "\n",
    "# Read in file\n",
    "with open(\"codons.txt\") as file_in:\n",
    "    for line in file_in:\n",
    "        line_seq = line.strip().split(\":\")\n",
    "        codons[line_seq[0]] = line_seq[1]\n",
    "        \n",
    "sequence = \"\"\"ATGCAGATTCCCCCTAGACCCGCCCGCACCATGGTCAGGCATGCCCCTCCT\n",
    "CATCGCTGGGCACAGCCCAGAGGGTATAAACAGTGCTGGAGGCTGGCG\n",
    "GGGCAGGCCAGCCGAGTCTAG\"\"\"\n",
    "sequence = sequence.replace('\\n', '')\n",
    "# Remove new line characters from your sequence\n",
    "\n",
    "\n",
    "\n",
    "# Translate the sequence here\n",
    "translated = str()\n",
    "for i in range (0, len(sequence), 3):\n",
    "    codon = sequence[i:i+3]\n",
    "    aa = codons[codon]\n",
    "    translated += aa\n",
    "print(translated)\n",
    "\n",
    "\n",
    "# Print the translated sequence\n",
    "\n"
   ]
  },
  {
   "cell_type": "markdown",
   "metadata": {},
   "source": [
    "### Writing Files\n",
    "Writing files is just as easy as reading them and we only need to modify our code slightly. __Run the code below to see how files are written:__"
   ]
  },
  {
   "cell_type": "code",
   "execution_count": 29,
   "metadata": {},
   "outputs": [
    {
     "name": "stdout",
     "output_type": "stream",
     "text": [
      "File now written to exercises/translated.txt.\n"
     ]
    }
   ],
   "source": [
    "file_location = \"exercises/translated.txt\"\n",
    "with open(file_location, 'w') as file_out:\n",
    "    file_out.write(\"Nucleotide sequence:\\n\")\n",
    "    file_out.write(sequence)\n",
    "    file_out.write(\"\\nTranslated sequence:\\n\")\n",
    "    file_out.write(translated)\n",
    "    \n",
    "print(\"File now written to \" + file_location + \".\")"
   ]
  },
  {
   "cell_type": "markdown",
   "metadata": {},
   "source": [
    "The only thing that was changed to create a file is when `open()` is used, we specify the file location as well as the `'w'` argument which tells Python to open this file in __write mode__. If the file does not exist already, Python will create a new one for us. Then to write data to the file, we use the `write()` function and give this a string argument.\n",
    "\n",
    "You will now put file reading/writing to practise in the below example. __Use your knowledge of reading files to read in this new file and print the contents to your screen.__"
   ]
  },
  {
   "cell_type": "code",
   "execution_count": 30,
   "metadata": {},
   "outputs": [
    {
     "name": "stdout",
     "output_type": "stream",
     "text": [
      "Nucleotide sequence:\n",
      "\n",
      "ATGCAGATTCCCCCTAGACCCGCCCGCACCATGGTCAGGCATGCCCCTCCTCATCGCTGGGCACAGCCCAGAGGGTATAAACAGTGCTGGAGGCTGGCGGGGCAGGCCAGCCGAGTCTAG\n",
      "\n",
      "Translated sequence:\n",
      "\n",
      "MQIPPRPARTMVRHAPPHRWAQPRGYKQCWRLAGQASRV_\n"
     ]
    }
   ],
   "source": [
    "file_location = \"exercises/translated.txt\"\n",
    "with open (\"exercises/translated.txt\") as file_in:\n",
    "    for line in file_in:\n",
    "        print(line)\n",
    "# Your code here\n",
    "\n",
    "\n"
   ]
  },
  {
   "cell_type": "markdown",
   "metadata": {},
   "source": [
    "### Using Python to Read FASTA Files\n",
    "\n",
    "Let's now use these principles to read a FASTA file into Python. FASTA is a way of storing nucleotide and protein sequences. A typical FASTA file looks like this:\n",
    "\n",
    "    > Sequence 1\n",
    "    CTCTCCAGAGAGTCTGAAGCCACCAGACAGAAGATGAAGGGGATATGTTAGATTAAAGAACCATAACAGA\n",
    "    > Sequence 2\n",
    "    AGCAGACCCAGTTGTTCTTGAAGAGCCTATGGTAGATACTGATGCCCTGTGGAGCTCCTGACAGAAGATG\n",
    "    > Sequence 3\n",
    "    TACTGATGCCCTGTGGAGCTCCTGACACTCTCCAGAGAGTCTGAAGCCACCAGACCCCAGTTGTTCTTGA\n",
    "    ...\n",
    "    \n",
    "Each sequence begins with a `>` followed by its name. On a new line we then have the corresponding sequence. Many sequences can be stored in the same file so we will write a program that extracts all the names and sequences from a given FASTA file.\n",
    "\n",
    "__Start by opening the__ `exercises/sequences.fasta` __file and printing its contents__."
   ]
  },
  {
   "cell_type": "code",
   "execution_count": 31,
   "metadata": {},
   "outputs": [
    {
     "name": "stdout",
     "output_type": "stream",
     "text": [
      ">HSBGPG Human gene for bone gla protein (BGP)\n",
      "\n",
      "GGCAGATTCCCCCTAGACCCGCCCGCACCATGGTCAGGCATGCCCCTCCTCATCGCTGGGCACAGCCCAGAGGGTATAAACAGTGCTGGAGGCTGGCGGGGCAGGCCAGCTGAGTCCTGAGCAGCAGCCCAGCGCAGCCACCGAGACACCATGAGAGCCCTCACACTCCTCGCCCTATTGGCCCTGGCCGCACTTTGCATCGCTGGCCAGGCAGGTGAGTGCCCCCACCTCCCCTCAGGCCGCATTGCAGTGGGGGCTGAGAGGAGGAAGCACCATGGCCCACCTCTTCTCACCCCTTTGGCTGGCAGTCCCTTTGCAGTCTAACCACCTTGTTGCAGGCTCAATCCATTTGCCCCAGCTCTGCCCTTGCAGAGGGAGAGGAGGGAAGAGCAAGCTGCCCGAGACGCAGGGGAAGGAGGATGAGGGCCCTGGGGATGAGCTGGGGTGAACCAGGCTCCCTTTCCTTTGCAGGTGCGAAGCCCAGCGGTGCAGAGTCCAGCAAAGGTGCAGGTATGAGGATGGACCTGATGGGTTCCTGGACCCTCCCCTCTCACCCTGGTCCCTCAGTCTCATTCCCCCACTCCTGCCACCTCCTGTCTGGCCATCAGGAAGGCCAGCCTGCTCCCCACCTGATCCTCCCAAACCCAGAGCCACCTGATGCCTGCCCCTCTGCTCCACAGCCTTTGTGTCCAAGCAGGAGGGCAGCGAGGTAGTGAAGAGACCCAGGCGCTACCTGTATCAATGGCTGGGGTGAGAGAAAAGGCAGAGCTGGGCCAAGGCCCTGCCTCTCCGGGATGGTCTGTGGGGGAGCTGCAGCAGGGAGTGGCCTCTCTGGGTTGTGGTGGGGGTACAGGCAGCCTGCCCTGGTGGGCACCCTGGAGCCCCATGTGTAGGGAGAGGAGGGATGGGCATTTTGCACGGGGGCTGATGCCACCACGTCGGGTGTCTCAGAGCCCCAGTCCCCTACCCGGATCCCCTGGAGCCCAGGAGGGAGGTGTGTGAGCTCAATCCGGACTGTGACGAGTTGGCTGACCACATCGGCTTTCAGGAGGCCTATCGGCGCTTCTACGGCCCGGTCTAGGGTGTCGCTCTGCTGGCCTGGCCGGCAACCCCAGTTCTGCTCCTCTCCAGGCACCCTTCTTTCCTCTTCCCCTTGCCCTTGCCCTGACCTCCCAGCCCTATGGATGTGGGGTCCCCATCATCCCAGCTGCTCCCAAATAAACTCCAGAAG\n",
      "\n",
      ">HSGLTH1 Human theta 1-globin gene\n",
      "\n",
      "CCACTGCACTCACCGCACCCGGCCAATTTTTGTGTTTTTAGTAGAGACTAAATACCATATAGTGAACACCTAAGACGGGGGGCCTTGGATCCAGGGCGATTCAGAGGGCCCCGGTCGGAGCTGTCGGAGATTGAGCGCGCGCGGTCCCGGGATCTCCGACGAGGCCCTGGACCCCCGGGCGGCGAAGCTGCGGCGCGGCGCCCCCTGGAGGCCGCGGGACCCCTGGCCGGTCCGCGCAGGCGCAGCGGGGTCGCAGGGCGCGGCGGGTTCCAGCGCGGGGATGGCGCTGTCCGCGGAGGACCGGGCGCTGGTGCGCGCCCTGTGGAAGAAGCTGGGCAGCAACGTCGGCGTCTACACGACAGAGGCCCTGGAAAGGTGCGGCAGGCTGGGCGCCCCCGCCCCCAGGGGCCCTCCCTCCCCAAGCCCCCCGGACGCGCCTCACCCACGTTCCTCTCGCAGGACCTTCCTGGCTTTCCCCGCCACGAAGACCTACTTCTCCCACCTGGACCTGAGCCCCGGCTCCTCACAAGTCAGAGCCCACGGCCAGAAGGTGGCGGACGCGCTGAGCCTCGCCGTGGAGCGCCTGGACGACCTACCCCACGCGCTGTCCGCGCTGAGCCACCTGCACGCGTGCCAGCTGCGAGTGGACCCGGCCAGCTTCCAGGTGAGCGGCTGCCGTGCTGGGCCCCTGTCCCCGGGAGGGCCCCGGCGGGGTGGGTGCGGGGGGCGTGCGGGGCGGGTGCAGGCGAGTGAGCCTTGAGCGCTCGCCGCAGCTCCTGGGCCACTGCCTGCTGGTAACCCTCGCCCGGCACTACCCCGGAGACTTCAGCCCCGCGCTGCAGGCGTCGCTGGACAAGTTCCTGAGCCACGTTATCTCGGCGCTGGTTTCCGAGTACCGCTGAACTGTGGGTGGGTGGCCGCGGGATCCCCAGGCGACCTTCCCCGTGTTTGAGTAAAGCCTCTCCCAGGAGCAGCCTTCTTGCCGTGCTCTCTCGAGGTCAGGACGCGAGAGGAAGGCGC\n"
     ]
    }
   ],
   "source": [
    "with open(\"exercises/sequences.fasta\") as file_in:\n",
    "    for line in file_in:\n",
    "        print(line.strip())\n",
    "\n",
    "\n"
   ]
  },
  {
   "cell_type": "markdown",
   "metadata": {},
   "source": [
    "Now we want to check each line to see if it starts with a `>`. To do this, we can use an if-statement.\n",
    "\n",
    "To check for a substrting at the start of a string we can use the string __startswith__ function:\n",
    "\n",
    "    if my_string.startswith('something'):\n",
    "       \n",
    "__Complete the code below so that if the line contains the sequence name, print__ `Sequence name: NAME`__. Otherwise, the line must contain the sequence so print__ `Sequence: ATCCGGAT...`. Remember to write the loop as well, and remove any newline characters."
   ]
  },
  {
   "cell_type": "code",
   "execution_count": 38,
   "metadata": {},
   "outputs": [
    {
     "name": "stdout",
     "output_type": "stream",
     "text": [
      "Sequence name:\n",
      " >HSBGPG Human gene for bone gla protein (BGP)\n",
      "\n",
      "Sequence:\n",
      " GGCAGATTCCCCCTAGACCCGCCCGCACCATGGTCAGGCATGCCCCTCCTCATCGCTGGGCACAGCCCAGAGGGTATAAACAGTGCTGGAGGCTGGCGGGGCAGGCCAGCTGAGTCCTGAGCAGCAGCCCAGCGCAGCCACCGAGACACCATGAGAGCCCTCACACTCCTCGCCCTATTGGCCCTGGCCGCACTTTGCATCGCTGGCCAGGCAGGTGAGTGCCCCCACCTCCCCTCAGGCCGCATTGCAGTGGGGGCTGAGAGGAGGAAGCACCATGGCCCACCTCTTCTCACCCCTTTGGCTGGCAGTCCCTTTGCAGTCTAACCACCTTGTTGCAGGCTCAATCCATTTGCCCCAGCTCTGCCCTTGCAGAGGGAGAGGAGGGAAGAGCAAGCTGCCCGAGACGCAGGGGAAGGAGGATGAGGGCCCTGGGGATGAGCTGGGGTGAACCAGGCTCCCTTTCCTTTGCAGGTGCGAAGCCCAGCGGTGCAGAGTCCAGCAAAGGTGCAGGTATGAGGATGGACCTGATGGGTTCCTGGACCCTCCCCTCTCACCCTGGTCCCTCAGTCTCATTCCCCCACTCCTGCCACCTCCTGTCTGGCCATCAGGAAGGCCAGCCTGCTCCCCACCTGATCCTCCCAAACCCAGAGCCACCTGATGCCTGCCCCTCTGCTCCACAGCCTTTGTGTCCAAGCAGGAGGGCAGCGAGGTAGTGAAGAGACCCAGGCGCTACCTGTATCAATGGCTGGGGTGAGAGAAAAGGCAGAGCTGGGCCAAGGCCCTGCCTCTCCGGGATGGTCTGTGGGGGAGCTGCAGCAGGGAGTGGCCTCTCTGGGTTGTGGTGGGGGTACAGGCAGCCTGCCCTGGTGGGCACCCTGGAGCCCCATGTGTAGGGAGAGGAGGGATGGGCATTTTGCACGGGGGCTGATGCCACCACGTCGGGTGTCTCAGAGCCCCAGTCCCCTACCCGGATCCCCTGGAGCCCAGGAGGGAGGTGTGTGAGCTCAATCCGGACTGTGACGAGTTGGCTGACCACATCGGCTTTCAGGAGGCCTATCGGCGCTTCTACGGCCCGGTCTAGGGTGTCGCTCTGCTGGCCTGGCCGGCAACCCCAGTTCTGCTCCTCTCCAGGCACCCTTCTTTCCTCTTCCCCTTGCCCTTGCCCTGACCTCCCAGCCCTATGGATGTGGGGTCCCCATCATCCCAGCTGCTCCCAAATAAACTCCAGAAG\n",
      "\n",
      "Sequence name:\n",
      " >HSGLTH1 Human theta 1-globin gene\n",
      "\n",
      "Sequence:\n",
      " CCACTGCACTCACCGCACCCGGCCAATTTTTGTGTTTTTAGTAGAGACTAAATACCATATAGTGAACACCTAAGACGGGGGGCCTTGGATCCAGGGCGATTCAGAGGGCCCCGGTCGGAGCTGTCGGAGATTGAGCGCGCGCGGTCCCGGGATCTCCGACGAGGCCCTGGACCCCCGGGCGGCGAAGCTGCGGCGCGGCGCCCCCTGGAGGCCGCGGGACCCCTGGCCGGTCCGCGCAGGCGCAGCGGGGTCGCAGGGCGCGGCGGGTTCCAGCGCGGGGATGGCGCTGTCCGCGGAGGACCGGGCGCTGGTGCGCGCCCTGTGGAAGAAGCTGGGCAGCAACGTCGGCGTCTACACGACAGAGGCCCTGGAAAGGTGCGGCAGGCTGGGCGCCCCCGCCCCCAGGGGCCCTCCCTCCCCAAGCCCCCCGGACGCGCCTCACCCACGTTCCTCTCGCAGGACCTTCCTGGCTTTCCCCGCCACGAAGACCTACTTCTCCCACCTGGACCTGAGCCCCGGCTCCTCACAAGTCAGAGCCCACGGCCAGAAGGTGGCGGACGCGCTGAGCCTCGCCGTGGAGCGCCTGGACGACCTACCCCACGCGCTGTCCGCGCTGAGCCACCTGCACGCGTGCCAGCTGCGAGTGGACCCGGCCAGCTTCCAGGTGAGCGGCTGCCGTGCTGGGCCCCTGTCCCCGGGAGGGCCCCGGCGGGGTGGGTGCGGGGGGCGTGCGGGGCGGGTGCAGGCGAGTGAGCCTTGAGCGCTCGCCGCAGCTCCTGGGCCACTGCCTGCTGGTAACCCTCGCCCGGCACTACCCCGGAGACTTCAGCCCCGCGCTGCAGGCGTCGCTGGACAAGTTCCTGAGCCACGTTATCTCGGCGCTGGTTTCCGAGTACCGCTGAACTGTGGGTGGGTGGCCGCGGGATCCCCAGGCGACCTTCCCCGTGTTTGAGTAAAGCCTCTCCCAGGAGCAGCCTTCTTGCCGTGCTCTCTCGAGGTCAGGACGCGAGAGGAAGGCGC\n"
     ]
    }
   ],
   "source": [
    "with open(\"exercises/sequences.fasta\") as file_in:\n",
    "    for line in file_in:\n",
    "        line = line.strip()\n",
    "        if line.startswith(\">\"):\n",
    "            print(\"Sequence name:\\n\", line)\n",
    "        else:\n",
    "            print(\"Sequence:\\n\", line)\n",
    "            \n",
    "            "
   ]
  },
  {
   "cell_type": "markdown",
   "metadata": {},
   "source": [
    "Instead of printing the result, we want to store it in a list called sequences. This can be represented in pseudocode:\n",
    "\n",
    "<img src=\"figures/S2_3.png\" width=\"580\"/>\n",
    "\n",
    "This if-else statement first checks to see if the line contains the sequence name and if so, it sets the sequence name variable to that. In any other case, then the line must contain a sequence and the previous line a sequence name, so it will add the sequence name and sequence to the sequences list.\n",
    "\n",
    "__Now modify the code below so that instead of printing the result, it stores the name and the sequence in the__ `sequences` __list.__"
   ]
  },
  {
   "cell_type": "code",
   "execution_count": 42,
   "metadata": {},
   "outputs": [
    {
     "name": "stdout",
     "output_type": "stream",
     "text": [
      "[['>HSBGPG Human gene for bone gla protein (BGP)'], ['GGCAGATTCCCCCTAGACCCGCCCGCACCATGGTCAGGCATGCCCCTCCTCATCGCTGGGCACAGCCCAGAGGGTATAAACAGTGCTGGAGGCTGGCGGGGCAGGCCAGCTGAGTCCTGAGCAGCAGCCCAGCGCAGCCACCGAGACACCATGAGAGCCCTCACACTCCTCGCCCTATTGGCCCTGGCCGCACTTTGCATCGCTGGCCAGGCAGGTGAGTGCCCCCACCTCCCCTCAGGCCGCATTGCAGTGGGGGCTGAGAGGAGGAAGCACCATGGCCCACCTCTTCTCACCCCTTTGGCTGGCAGTCCCTTTGCAGTCTAACCACCTTGTTGCAGGCTCAATCCATTTGCCCCAGCTCTGCCCTTGCAGAGGGAGAGGAGGGAAGAGCAAGCTGCCCGAGACGCAGGGGAAGGAGGATGAGGGCCCTGGGGATGAGCTGGGGTGAACCAGGCTCCCTTTCCTTTGCAGGTGCGAAGCCCAGCGGTGCAGAGTCCAGCAAAGGTGCAGGTATGAGGATGGACCTGATGGGTTCCTGGACCCTCCCCTCTCACCCTGGTCCCTCAGTCTCATTCCCCCACTCCTGCCACCTCCTGTCTGGCCATCAGGAAGGCCAGCCTGCTCCCCACCTGATCCTCCCAAACCCAGAGCCACCTGATGCCTGCCCCTCTGCTCCACAGCCTTTGTGTCCAAGCAGGAGGGCAGCGAGGTAGTGAAGAGACCCAGGCGCTACCTGTATCAATGGCTGGGGTGAGAGAAAAGGCAGAGCTGGGCCAAGGCCCTGCCTCTCCGGGATGGTCTGTGGGGGAGCTGCAGCAGGGAGTGGCCTCTCTGGGTTGTGGTGGGGGTACAGGCAGCCTGCCCTGGTGGGCACCCTGGAGCCCCATGTGTAGGGAGAGGAGGGATGGGCATTTTGCACGGGGGCTGATGCCACCACGTCGGGTGTCTCAGAGCCCCAGTCCCCTACCCGGATCCCCTGGAGCCCAGGAGGGAGGTGTGTGAGCTCAATCCGGACTGTGACGAGTTGGCTGACCACATCGGCTTTCAGGAGGCCTATCGGCGCTTCTACGGCCCGGTCTAGGGTGTCGCTCTGCTGGCCTGGCCGGCAACCCCAGTTCTGCTCCTCTCCAGGCACCCTTCTTTCCTCTTCCCCTTGCCCTTGCCCTGACCTCCCAGCCCTATGGATGTGGGGTCCCCATCATCCCAGCTGCTCCCAAATAAACTCCAGAAG'], ['>HSGLTH1 Human theta 1-globin gene'], ['CCACTGCACTCACCGCACCCGGCCAATTTTTGTGTTTTTAGTAGAGACTAAATACCATATAGTGAACACCTAAGACGGGGGGCCTTGGATCCAGGGCGATTCAGAGGGCCCCGGTCGGAGCTGTCGGAGATTGAGCGCGCGCGGTCCCGGGATCTCCGACGAGGCCCTGGACCCCCGGGCGGCGAAGCTGCGGCGCGGCGCCCCCTGGAGGCCGCGGGACCCCTGGCCGGTCCGCGCAGGCGCAGCGGGGTCGCAGGGCGCGGCGGGTTCCAGCGCGGGGATGGCGCTGTCCGCGGAGGACCGGGCGCTGGTGCGCGCCCTGTGGAAGAAGCTGGGCAGCAACGTCGGCGTCTACACGACAGAGGCCCTGGAAAGGTGCGGCAGGCTGGGCGCCCCCGCCCCCAGGGGCCCTCCCTCCCCAAGCCCCCCGGACGCGCCTCACCCACGTTCCTCTCGCAGGACCTTCCTGGCTTTCCCCGCCACGAAGACCTACTTCTCCCACCTGGACCTGAGCCCCGGCTCCTCACAAGTCAGAGCCCACGGCCAGAAGGTGGCGGACGCGCTGAGCCTCGCCGTGGAGCGCCTGGACGACCTACCCCACGCGCTGTCCGCGCTGAGCCACCTGCACGCGTGCCAGCTGCGAGTGGACCCGGCCAGCTTCCAGGTGAGCGGCTGCCGTGCTGGGCCCCTGTCCCCGGGAGGGCCCCGGCGGGGTGGGTGCGGGGGGCGTGCGGGGCGGGTGCAGGCGAGTGAGCCTTGAGCGCTCGCCGCAGCTCCTGGGCCACTGCCTGCTGGTAACCCTCGCCCGGCACTACCCCGGAGACTTCAGCCCCGCGCTGCAGGCGTCGCTGGACAAGTTCCTGAGCCACGTTATCTCGGCGCTGGTTTCCGAGTACCGCTGAACTGTGGGTGGGTGGCCGCGGGATCCCCAGGCGACCTTCCCCGTGTTTGAGTAAAGCCTCTCCCAGGAGCAGCCTTCTTGCCGTGCTCTCTCGAGGTCAGGACGCGAGAGGAAGGCGC']]\n"
     ]
    }
   ],
   "source": [
    "sequences = list() # create an empty list to store the sequences\n",
    "\n",
    "with open(\"exercises/sequences.fasta\") as file_in:\n",
    "    for line in file_in:\n",
    "    # Write the loop here\n",
    "        seq_list = list()\n",
    "        line = line.strip()\n",
    "        if line.startswith(\">\"):\n",
    "            seq_list.append(line)\n",
    "        else:\n",
    "            seq_list.append(line)\n",
    "        sequences.append(seq_list)\n",
    "print(sequences)\n"
   ]
  },
  {
   "cell_type": "markdown",
   "metadata": {},
   "source": [
    "Hopefully, you now have the sequences stored in the sequences list in this format:\n",
    "\n",
    "    print(sequences) --> [['Sequence 1 name', 'GGCCAGGCAG...'], ['Sequence 2 name', 'GCCCGGTCT...'], ...]\n",
    "\n",
    "We will now write a FASTA file containing these sequences to practise the reverse process. __Edit the code below to do this and compare the result to the original sequences file.__\n",
    "\n",
    "Remember that FASTA files have this format:\n",
    "\n",
    "    > Sequence 1\n",
    "    CTCTCCAGAGAGTCTGAAGCCACCAGACAGAAGATGAAGGGGATATGTTAGATTAAAGAACCATAACAGA\n",
    "    > Sequence 2\n",
    "    AGCAGACCCAGTTGTTCTTGAAGAGCCTATGGTAGATACTGATGCCCTGTGGAGCTCCTGACAGAAGATG\n",
    "    > Sequence 3\n",
    "    TACTGATGCCCTGTGGAGCTCCTGACACTCTCCAGAGAGTCTGAAGCCACCAGACCCCAGTTGTTCTTGA\n",
    "    ...\n",
    "    \n",
    "So you will need to insert newline characters at the end of each line."
   ]
  },
  {
   "cell_type": "code",
   "execution_count": 45,
   "metadata": {},
   "outputs": [],
   "source": [
    "with open(\"exercises/sequences_output.fasta\", 'w') as file_out:\n",
    "    for sequence in sequences:\n",
    "        for line in sequence:\n",
    "            file_out.write(line)\n",
    "        \n",
    "\n",
    "\n"
   ]
  },
  {
   "cell_type": "markdown",
   "metadata": {},
   "source": [
    "## A Protein Kinetics Problem\n",
    "\n",
    "Data from biological experiments can sometimes be too large to process with Microsoft Excel or OriginLabs. Using Python, we can quickly process all this data without the program operating slowly. This is particularly useful in experiments involving spectrophotometers as there can be many thousands of measurements. Results from a protein kinetic assay have been provided and we will use these to __analyse the kinetics of the GAPDH enzyme__. \n",
    "\n",
    "GAPDH is an enzyme that can catalyse the oxidation of glyceraldehyde-3-phosphate (GAP) to 1,3-bisphosphoglycerate (BPG). NADP+ is also reduced in this reaction, forming NADPH.\n",
    "\n",
    "<img src=\"figures/S2_4.png\" width=\"300\" />\n",
    "\n",
    "To measure the kinetics of this reaction, the absorbance at 340 nm is measured as NADPH abosrbs here whilst NADP+ does not. As the reaction progresses, we expect to see an increase in absorbance at 340 nm as more NADPH is produced. This reaction was performed and the concentration of NADP+ was varied. This generated 5 files which are stored here:\n",
    "\n",
    "    kinetics/30_uM_NADP.csv\n",
    "    kinetics/100_uM_NADP.csv\n",
    "    kinetics/150_uM_NADP.csv\n",
    "    kinetics/300_uM_NADP.csv\n",
    "    kinetics/500_uM_NADP.csv\n",
    "\n",
    "These are CSV files (comma-separated values) and they are in the following format:\n",
    "\n",
    "    Time (s),Abs\n",
    "    0.0,0.0012\n",
    "    0.1,0.00085\n",
    "    0.2,0.0008\n",
    "    0.3,0.0013\n",
    "    0.4,0.0015\n",
    "    0.5,0.0016\n",
    "    0.6,0.0012\n",
    "    ...\n",
    "\n",
    "There are 2 columns of data separated by a comma (`,`) and the first column is the time in seconds. The second column is the absorbance and as time increases, the absorbance increases. This will become more apparent when we plot the data.\n",
    "\n",
    "__First, read the CSV files and extract a list of absorbance values for each NADP concentration.__ You will need to skip the first line since we don't want this in our absorbance list. You can do this by writing `file_in.readline()` before the loop which reads a single line.\n",
    "\n",
    "__To accomplish all this, you will need to strip, split, access the absorbance measurement from the list and convert this to a float.__"
   ]
  },
  {
   "cell_type": "code",
   "execution_count": 48,
   "metadata": {},
   "outputs": [],
   "source": [
    "# First write a function that takes the file name and returns a list of absorbances\n",
    "def read_file(file_name):\n",
    "    with open(file_name) as file_in:\n",
    "        # Skip the first line (the header)\n",
    "        file_in.readline() \n",
    "        result = list()\n",
    "        for line in file_in:\n",
    "            line_list = line.split(\",\")\n",
    "            result.append(float(line_list[1]))\n",
    "    return result\n",
    "        \n",
    "        # Create a variable to store the result\n",
    "        # Loop through each line and extract the absorbance         \n",
    "    # Return the absorbance list    \n",
    "# Read in abosrbances from CSV files using the read_file() function\n",
    "NADP_30 = read_file(\"kinetics/30_uM_NADP.csv\")\n",
    "NADP_100 = read_file(\"kinetics/100_uM_NADP.csv\")\n",
    "NADP_150 = read_file(\"kinetics/150_uM_NADP.csv\")\n",
    "NADP_300 = read_file(\"kinetics/300_uM_NADP.csv\")\n",
    "NADP_500 = read_file(\"kinetics/500_uM_NADP.csv\")"
   ]
  },
  {
   "cell_type": "markdown",
   "metadata": {},
   "source": [
    "Now we can plot our results. Since the absorbance values will make up the y-axis, we now need to generate data for our x-axis. __The time points in each experiment were the same: absorbance was measued every 0.1 second for 100 seconds.__ We will generate a list of time points using a function called `numpy.arange()`. This takes the start and the end for a range, and uses the `step` parameter to generate a list of numbers (a series). In the example below, this will generate a list from 0 to 100, changing 0.1 each time.\n",
    "\n",
    "To plot our graph, we will use a module called `matplotlib`. This has a pre-built function called `pyplot` that we can import into our code. In this example, `matplotlib.pyplot` has been imported as `plt`, so we will be using `plt` from now on.\n",
    "\n",
    "__A graph can then be plotted by writing:__\n",
    "\n",
    "    plt.plot(x_values, y_values)\n",
    "    plt.show() # you only need to write this once\n",
    "\n",
    "__Use this with the x_values generated by `arange()` and our abosrbance values to plot the absorbance traces at different NADP+ concentrations. You will need to modify the code below to include all of the datasets at each of the concentrations.__ \n",
    "\n",
    "Note: If your graph looks strange, you probably forgot to convert your absorbance values to floats!"
   ]
  },
  {
   "cell_type": "code",
   "execution_count": 55,
   "metadata": {},
   "outputs": [
    {
     "name": "stdout",
     "output_type": "stream",
     "text": [
      "[  0.    0.1   0.2 ...  99.8  99.9 100. ]\n"
     ]
    },
    {
     "data": {
      "image/png": "[encoded data removed]",
      "text/plain": [
       "<Figure size 432x288 with 1 Axes>"
      ]
     },
     "metadata": {
      "needs_background": "light"
     },
     "output_type": "display_data"
    }
   ],
   "source": [
    "# This is needed to see the graph in Jupyter\n",
    "%matplotlib inline\n",
    "\n",
    "# Import the modules that we need:\n",
    "import matplotlib.pyplot as plt # needed for graph plotting\n",
    "import numpy # used to generate a series\n",
    "\n",
    "x_values = numpy.arange(0, 100.1, 0.1) # generates a list - try printing this to see how it looks\n",
    "print(x_values)\n",
    "# Complete the below code\n",
    "plt.plot(x_values, NADP_30)\n",
    "plt.plot(x_values, NADP_100)\n",
    "plt.plot(x_values, NADP_150)\n",
    "plt.plot(x_values, NADP_300)\n",
    "plt.plot(x_values, NADP_500)\n",
    "\n",
    "plt.xlim(0, 100)\n",
    "plt.ylim(0, 0.2)\n",
    "plt.legend([\"30 uM\", \"100 uM\", \"150 uM\", \"300 uM\", \"500 uM\"], title=\"NADP+ concentration\")\n",
    "plt.xlabel(\"Time (s)\")\n",
    "plt.ylabel(\"A340 (nm)\")\n",
    "plt.title(\"Kinetics of NADP+ binding to GAPDH\")\n",
    "\n",
    "plt.show()"
   ]
  },
  {
   "cell_type": "markdown",
   "metadata": {},
   "source": [
    "To better display our results, we can change the limits of the x- and y-axes. This is done with the `xlim` and `ylim` functions.\n",
    "\n",
    "    plt.xlim(0, 100)\n",
    "    plt.ylim(0, 0.5)\n",
    "\n",
    "We can also label our axes to make it easier to interpret the graph.\n",
    "\n",
    "    plt.xlabel(\"X-axis\")\n",
    "    plt.ylabel(\"Y-axis\")\n",
    "    plt.title(\"Graph Title\")\n",
    "\n",
    "One final label we should include is a legend. How might the below code be modified to better label our results?\n",
    "\n",
    "    plt.legend([\"1\", \"2\", \"3\", \"4\", \"5\"], title=\"Legend Title\")\n",
    "\n",
    "__Modify the code block above to generate this image:__\n",
    "\n",
    "<img src=\"figures/S2_5.png\" width=\"600\"/>"
   ]
  },
  {
   "cell_type": "markdown",
   "metadata": {},
   "source": [
    "## Finding Disulfides in a Protein Structure\n",
    "Disulfide bonds are present in many protein structures and are involved in protein folding, catalytic activity and protein regulation. Many protein structures have been solved and to represent these structures in 3D, each atom is given a set of coordinates. This can be represented in an XYZ file where each atom is given a set of x, y, z coordinates:\n",
    "\n",
    "    C2\t-8.150\t8.766\t19.179\n",
    "    C3\t-9.405\t9.018\t18.348\n",
    "    O4\t-10.533\t8.888\t18.870\n",
    "    C5\t-8.091\t7.261\t19.602\n",
    "    ...\n",
    "\n",
    "The columns are separated by tabs and the first column is the type of atom and the atom number. The coordinates make up the next 3 columns and these are floats. Each column in an XYZ file is separated by a Tab (`\\t`). If we know the positions of all the sulphur atoms in the structure, we can find the distance between them using Pythagoras theorem:\n",
    "\n",
    "<img src=\"figures/S2_6.png\" width=\"300\"/>\n",
    "\n",
    "The sulphur atoms can be thought of as being at corners of a cuboid. We can calculate x, y and z by taking the difference between the atomic coordinates of the atoms. The distance, d, can then be calculated. __If this distance is smaller than the van der Waals radius of 2 sulphur atoms, then there is likely to be a disulphide bond here.__\n",
    "\n",
    "An XYZ file for the trypsin protease has been provided and is called `disulfide/trypsin.xyz`. __Using this, you are going to write a program that imports the `disulfide/trypsin.xyz` file and finds the possible disulphide bonds in the protein structure. The final output should look like this:__\n",
    "\n",
    "    Possible covalent bonds between:\n",
    "    ['S48', -7.877, 0.698, 23.833]     <-->   ['S1007', -6.808, -0.087, 22.282]\n",
    "    Distance = 2.0407 A\n",
    "    \n",
    "    ['S185', 0.938, 14.837, 27.445]    <-->   ['S298', 2.798, 14.431, 26.757]\n",
    "    Distance = 2.0243 A\n",
    "    \n",
    "    ['S811', 15.125, 1.524, 14.164]    <-->   ['S1521', 14.061, 2.556, 15.556]\n",
    "    Distance = 2.0334 A\n",
    "    \n",
    "    ['S853', 3.204, -0.318, 14.27]     <-->   ['S1327', 4.691, -0.659, 15.643]\n",
    "    Distance = 2.0525 A\n",
    "    \n",
    "    ['S1084', 6.487, 10.899, 8.184]    <-->   ['S1190', 4.49, 10.976, 8.582]\n",
    "    Distance = 2.0377 A\n",
    "    \n",
    "    ['S1265', -7.625, 15.069, 17.907]  <-->   ['S1422', -6.417, 15.667, 16.36]\n",
    "    Distance = 2.0518 A\n",
    "\n",
    "Some of the code has been provided throughout the next few sections in order to break the problem down for you. __First, complete the code below to read each line of atoms from the XYZ file into a list and print the result.__"
   ]
  },
  {
   "cell_type": "code",
   "execution_count": 65,
   "metadata": {},
   "outputs": [
    {
     "name": "stdout",
     "output_type": "stream",
     "text": [
      "['C2\\t-8.150\\t8.766\\t19.179', 'C3\\t-9.405\\t9.018\\t18.348', 'O4\\t-10.533\\t8.888\\t18.870', 'C5\\t-8.091\\t7.261\\t19.602', 'C6\\t-6.898\\t6.882\\t20.508', 'C7\\t-8.178\\t6.281\\t18.408', 'C8\\t-5.555\\t6.893\\t19.773', 'N9\\t-9.224\\t9.305\\t17.090', 'C10\\t-10.351\\t9.448\\t16.157', 'C11\\t-10.500\\t8.184\\t15.315', 'O12\\t-9.496\\t7.688\\t14.748', 'C13\\t-10.123\\t10.665\\t15.222', 'C14\\t-11.319\\t10.915\\t14.278', 'C15\\t-9.737\\t11.970\\t15.970', 'N16\\t-11.714\\t7.720\\t15.167', 'C17\\t-12.021\\t6.630\\t14.259', 'C18\\t-11.505\\t5.285\\t14.769', 'O19\\t-11.200\\t4.401\\t13.936', 'N20\\t-11.365\\t5.149\\t16.084', 'C21\\t-10.902\\t3.899\\t16.684', 'C22\\t-12.042\\t3.149\\t17.365', 'O23\\t-13.226\\t3.308\\t16.977', 'N24\\t-11.706\\t2.303\\t18.306', 'C25\\t-12.651\\t1.442\\t19.016', 'C26\\t-12.322\\t1.436\\t20.500', 'O27\\t-11.176\\t1.776\\t20.861', 'C28\\t-12.641\\t-0.007\\t18.432', 'C29\\t-11.281\\t-0.749\\t18.494', 'C30\\t-11.024\\t-1.687\\t19.480', 'C31\\t-10.309\\t-0.466\\t17.558', 'C32\\t-9.795\\t-2.328\\t19.533', 'C33\\t-9.078\\t-1.102\\t17.604', 'C34\\t-8.824\\t-2.032\\t18.587', 'O35\\t-7.557\\t-2.695\\t18.599', 'N36\\t-13.243\\t1.039\\t21.318', 'C37\\t-13.018\\t0.938\\t22.760', 'C38\\t-12.198\\t-0.307\\t23.074', 'O39\\t-12.617\\t-1.432\\t22.679', 'C40\\t-14.381\\t0.808\\t23.469', 'O41\\t-15.157\\t1.954\\t23.162', 'C42\\t-14.265\\t0.650\\t25.000', 'N43\\t-10.996\\t-0.088\\t23.549', 'C44\\t-10.020\\t-1.163\\t23.760', 'C45\\t-10.594\\t-2.317\\t24.576', 'O46\\t-10.275\\t-3.492\\t24.305', 'C47\\t-8.825\\t-0.632\\t24.567', 'S48\\t-7.877\\t0.698\\t23.833', 'N49\\t-11.235\\t-1.963\\t25.664', 'C50\\t-11.683\\t-2.865\\t26.714', 'C51\\t-10.787\\t-2.713\\t27.929', 'O52\\t-9.588\\t-2.375\\t27.760', 'N53\\t-11.381\\t-2.822\\t29.105', 'C54\\t-10.648\\t-2.627\\t30.361', 'C55\\t-9.410\\t-3.521\\t30.490', 'O56\\t-9.524\\t-4.773\\t30.444', 'C57\\t-11.575\\t-2.793\\t31.574', 'N58\\t-8.279\\t-2.868\\t30.729', 'C59\\t-6.970\\t-3.437\\t31.020', 'C60\\t-6.468\\t-4.331\\t29.907', 'O61\\t-5.579\\t-5.180\\t30.152', 'C62\\t-6.943\\t-4.200\\t32.354', 'C63\\t-7.427\\t-3.305\\t33.496', 'O64\\t-6.945\\t-2.147\\t33.622', 'N65\\t-8.616\\t-3.631\\t33.942', 'N66\\t-6.964\\t-4.091\\t28.709', 'C67\\t-6.452\\t-4.845\\t27.559', 'C68\\t-5.144\\t-4.297\\t27.022', 'O69\\t-4.485\\t-4.969\\t26.193', 'C70\\t-7.471\\t-4.878\\t26.415', 'O71\\t-7.700\\t-3.530\\t25.981', 'C72\\t-8.780\\t-5.571\\t26.849', 'N73\\t-4.776\\t-3.102\\t27.469', 'C74\\t-3.486\\t-2.470\\t27.110', 'C75\\t-2.651\\t-2.155\\t28.353', 'O76\\t-2.793\\t-1.048\\t28.920', 'C77\\t-3.752\\t-1.167\\t26.319', 'C78\\t-2.446\\t-0.578\\t25.770', 'C79\\t-4.792\\t-1.378\\t25.189', 'N80\\t-2.126\\t-3.183\\t28.968', 'C81\\t-1.697\\t-3.165\\t30.389', 'C82\\t-0.544\\t-2.205\\t30.682', 'O83\\t-0.281\\t-1.914\\t31.867', 'C84\\t-1.261\\t-4.595\\t30.753', 'C85\\t-1.314\\t-5.427\\t29.473', 'C86\\t-1.897\\t-4.523\\t28.373', 'N87\\t0.146\\t-1.780\\t29.647', 'C88\\t1.314\\t-0.892\\t29.735', 'C89\\t0.935\\t0.582\\t29.590', 'O90\\t1.825\\t1.463\\t29.743', 'C91\\t2.382\\t-1.281\\t28.679', 'C92\\t1.776\\t-1.415\\t27.269', 'C93\\t1.597\\t-0.302\\t26.473', 'C94\\t1.380\\t-2.658\\t26.819', 'C95\\t0.993\\t-0.417\\t25.227', 'C96\\t0.774\\t-2.790\\t25.569', 'C97\\t0.580\\t-1.667\\t24.778', 'O98\\t-0.021\\t-1.807\\t23.494', 'N99\\t-0.325\\t0.821\\t29.298', 'C100\\t-0.820\\t2.197\\t29.094', 'C101\\t-0.922\\t2.937\\t30.427', 'O102\\t-1.568\\t2.427\\t31.377', 'C103\\t-2.203\\t2.193\\t28.412', 'C104\\t-2.824\\t3.613\\t28.276', 'C105\\t-2.175\\t4.443\\t27.163', 'O106\\t-1.910\\t5.660\\t27.373', 'N107\\t-2.366\\t3.991\\t25.966', 'N108\\t-0.300\\t4.090\\t30.462', 'C109\\t-0.289\\t4.992\\t31.630', 'C110\\t-1.121\\t6.247\\t31.345', 'O111\\t-1.052\\t6.811\\t30.223', 'C112\\t1.210\\t5.317\\t31.884', 'C113\\t1.572\\t6.646\\t32.548', 'C114\\t1.985\\t4.124\\t32.453', 'N115\\t-1.728\\t6.788\\t32.369', 'C116\\t-2.230\\t8.158\\t32.287', 'C117\\t-1.368\\t9.067\\t33.164', 'O118\\t-1.122\\t8.734\\t34.349', 'C119\\t-3.692\\t8.239\\t32.758', 'O120\\t-4.099\\t9.606\\t32.958', 'N121\\t-0.969\\t10.207\\t32.628', 'C122\\t-0.245\\t11.235\\t33.385', 'C123\\t-1.219\\t12.296\\t33.899', 'O124\\t-2.056\\t12.796\\t33.115', 'C125\\t0.837\\t11.939\\t32.542', 'C126\\t1.917\\t11.000\\t31.979', 'C127\\t3.021\\t11.829\\t31.295', 'C128\\t2.514\\t10.102\\t33.081', 'N129\\t-1.260\\t12.421\\t35.208', 'C130\\t-2.257\\t13.204\\t35.920', 'C131\\t-1.612\\t14.333\\t36.708', 'O132\\t-0.677\\t14.080\\t37.506', 'C133\\t-3.084\\t12.306\\t36.868', 'C134\\t-4.293\\t13.065\\t37.414', 'O135\\t-4.156\\t13.894\\t38.353', 'N136\\t-5.456\\t12.795\\t36.851', 'N137\\t-2.175\\t15.511\\t36.544', 'C138\\t-1.745\\t16.658\\t37.346', 'C139\\t-2.948\\t17.383\\t37.928', 'O140\\t-3.066\\t18.622\\t37.797', 'C141\\t-0.854\\t17.613\\t36.519', 'O142\\t-1.611\\t18.149\\t35.428', 'N143\\t-3.893\\t16.622\\t38.395', 'C144\\t-5.215\\t17.115\\t38.801', 'C145\\t-6.257\\t16.737\\t37.761', 'O146\\t-7.493\\t16.834\\t37.988', 'N147\\t-5.717\\t16.309\\t36.637', 'C148\\t-6.448\\t15.903\\t35.436', 'C149\\t-5.538\\t15.126\\t34.484', 'O150\\t-4.296\\t15.257\\t34.564', 'C151\\t-7.045\\t17.143\\t34.703', 'C152\\t-5.999\\t18.241\\t34.412', 'C153\\t-5.793\\t19.248\\t35.338', 'C154\\t-5.267\\t18.222\\t33.238', 'C155\\t-4.815\\t20.204\\t35.117', 'C156\\t-4.292\\t19.179\\t33.008', 'C157\\t-4.055\\t20.146\\t33.960', 'O158\\t-3.013\\t21.108\\t33.764', 'N159\\t-6.135\\t14.347\\t33.608', 'C160\\t-5.398\\t13.635\\t32.562', 'C161\\t-4.880\\t14.635\\t31.525', 'O162\\t-5.692\\t15.406\\t30.950', 'C163\\t-6.325\\t12.608\\t31.854', 'C164\\t-5.649\\t12.054\\t30.580', 'N165\\t-4.644\\t11.079\\t30.657', 'C166\\t-5.808\\t12.423\\t29.293', 'C167\\t-4.218\\t10.837\\t29.365', 'N168\\t-4.929\\t11.688\\t28.516', 'N169\\t-3.586\\t14.654\\t31.309', 'C170\\t-3.028\\t15.563\\t30.304', 'C171\\t-2.265\\t14.877\\t29.172', 'O172\\t-2.205\\t15.416\\t28.037', 'C173\\t-2.233\\t16.739\\t30.913', 'C174\\t-0.916\\t16.325\\t31.589', 'C175\\t0.265\\t16.349\\t30.888', 'C176\\t-0.911\\t15.931\\t32.900', 'C177\\t1.450\\t15.952\\t31.496', 'C178\\t0.275\\t15.549\\t33.512', 'C179\\t1.457\\t15.551\\t32.811', 'N180\\t-1.708\\t13.713\\t29.461', 'C181\\t-0.943\\t12.943\\t28.477', 'C182\\t-0.963\\t11.456\\t28.798', 'O183\\t-1.130\\t11.094\\t29.987', 'C184\\t0.534\\t13.410\\t28.471', 'S185\\t0.938\\t14.837\\t27.445', 'N186\\t-0.594\\t10.654\\t27.807', 'C187\\t-0.399\\t9.224\\t28.003', 'C188\\t1.057\\t8.915\\t28.307', 'O189\\t1.913\\t9.827\\t28.269', 'N190\\t1.364\\t7.641\\t28.441', 'C191\\t2.729\\t7.140\\t28.612', 'C192\\t2.753\\t5.616\\t28.545', 'O193\\t1.665\\t4.996\\t28.442', 'N194\\t3.947\\t5.060\\t28.603', 'C195\\t4.150\\t3.604\\t28.570', 'C196\\t5.023\\t3.123\\t29.711', 'O197\\t6.148\\t3.652\\t29.883', 'C198\\t4.771\\t3.135\\t27.240', 'O199\\t3.897\\t3.464\\t26.177', 'N200\\t4.564\\t2.073\\t30.369', 'C201\\t5.324\\t1.446\\t31.443', 'C202\\t6.386\\t0.499\\t30.889', 'O203\\t6.021\\t-0.445\\t30.142', 'C204\\t4.332\\t0.660\\t32.327', 'C205\\t4.929\\t0.228\\t33.679', 'C206\\t5.251\\t1.445\\t34.571', 'C207\\t3.989\\t-0.771\\t34.386', 'N208\\t7.647\\t0.819\\t31.078', 'C209\\t8.727\\t0.011\\t30.479', 'C210\\t9.472\\t-0.863\\t31.479', 'O211\\t10.138\\t-1.844\\t31.078', 'C212\\t9.709\\t0.852\\t29.651', 'C213\\t10.460\\t1.890\\t30.514', 'C214\\t8.993\\t1.463\\t28.426', 'C215\\t11.566\\t2.613\\t29.730', 'N216\\t9.198\\t-0.630\\t32.738', 'C217\\t9.543\\t-1.539\\t33.837', 'C218\\t8.851\\t-1.085\\t35.107', 'O219\\t8.040\\t-0.138\\t35.008', 'C220\\t11.056\\t-1.729\\t34.053', 'C221\\t11.767\\t-0.415\\t34.363', 'O222\\t12.859\\t-0.182\\t33.789', 'N223\\t11.405\\t0.209\\t35.444', 'N224\\t9.036\\t-1.791\\t36.203', 'C225\\t8.257\\t-1.530\\t37.429', 'C226\\t8.423\\t-0.121\\t38.000', 'O227\\t7.543\\t0.359\\t38.747', 'C228\\t8.592\\t-2.579\\t38.511', 'O229\\t9.912\\t-2.327\\t38.975', 'N230\\t9.477\\t0.578\\t37.625', 'C231\\t9.725\\t1.936\\t38.148', 'C232\\t9.844\\t3.046\\t37.102', 'O233\\t10.083\\t4.216\\t37.496', 'C234\\t10.982\\t1.981\\t39.046', 'C235\\t10.582\\t1.896\\t40.532', 'C236\\t11.700\\t2.344\\t41.476', 'O237\\t11.486\\t3.288\\t42.290', 'N238\\t12.834\\t1.677\\t41.396', 'N239\\t9.757\\t2.723\\t35.812', 'C240\\t9.995\\t3.712\\t34.754', 'C241\\t8.906\\t3.790\\t33.692', 'O242\\t8.412\\t2.746\\t33.210', 'C243\\t11.364\\t3.527\\t34.076', 'C244\\t12.572\\t3.850\\t34.993', 'C245\\t13.222\\t3.036\\t35.857', 'C246\\t13.258\\t5.073\\t35.060', 'N247\\t14.291\\t3.728\\t36.448', 'C248\\t14.318\\t4.912\\t35.980', 'C249\\t13.047\\t6.272\\t34.392', 'C250\\t15.217\\t5.930\\t36.261', 'C251\\t13.948\\t7.298\\t34.679', 'C252\\t15.003\\t7.135\\t35.583', 'N253\\t8.573\\t5.015\\t33.338', 'C254\\t7.590\\t5.365\\t32.303', 'C255\\t8.225\\t6.182\\t31.180', 'O256\\t9.004\\t7.119\\t31.478', 'C257\\t6.396\\t6.134\\t32.931', 'C258\\t5.500\\t6.889\\t31.919', 'C259\\t5.547\\t5.221\\t33.846', 'N260\\t7.906\\t5.855\\t29.943', 'C261\\t8.350\\t6.683\\t28.808', 'C262\\t7.201\\t7.472\\t28.163', 'O263\\t6.046\\t6.976\\t28.050', 'C264\\t9.146\\t5.853\\t27.778', 'C265\\t8.268\\t4.775\\t27.123', 'C266\\t9.847\\t6.741\\t26.739', 'N267\\t7.422\\t8.764\\t27.999', 'C268\\t6.417\\t9.666\\t27.430', 'C269\\t7.054\\t10.618\\t26.415', 'O270\\t8.246\\t10.457\\t26.078', 'C271\\t5.692\\t10.481\\t28.536', 'O272\\t4.456\\t11.083\\t28.055', 'N273\\t6.294\\t11.611\\t25.982', 'C274\\t6.778\\t12.670\\t25.099', 'C275\\t7.329\\t13.864\\t25.883', 'O276\\t6.747\\t14.218\\t26.934', 'C277\\t5.636\\t13.154\\t24.190', 'N278\\t8.461\\t14.383\\t25.454', 'C279\\t9.069\\t15.522\\t26.129', 'C280\\t8.143\\t16.740\\t26.167', 'O281\\t8.162\\t17.496\\t27.169', 'C282\\t10.414\\t15.918\\t25.506', 'N283\\t7.291\\t16.893\\t25.158', 'C284\\t6.317\\t17.989\\t25.192', 'C285\\t5.203\\t17.844\\t26.235', 'O286\\t4.478\\t18.819\\t26.529', 'C287\\t5.745\\t18.308\\t23.810', 'C288\\t4.596\\t17.385\\t23.379', 'N289\\t4.815\\t16.252\\t22.598', 'C290\\t3.276\\t17.511\\t23.584', 'C291\\t3.578\\t15.653\\t22.343', 'N292\\t2.615\\t16.450\\t22.957', 'N293\\t5.184\\t16.712\\t26.907', 'C294\\t4.290\\t16.466\\t28.021', 'C295\\t4.901\\t16.878\\t29.353', 'O296\\t4.303\\t16.548\\t30.401', 'C297\\t3.920\\t14.975\\t28.069', 'S298\\t2.798\\t14.431\\t26.757', 'N299\\t6.118\\t17.397\\t29.336', 'C300\\t6.784\\t17.748\\t30.602', 'C301\\t5.953\\t18.745\\t31.410', 'O302\\t5.542\\t19.806\\t30.879', 'C303\\t8.209\\t18.292\\t30.371', 'C304\\t8.848\\t18.880\\t31.651', 'C305\\t8.800\\t20.240\\t31.861', 'C306\\t9.413\\t18.064\\t32.607', 'C307\\t9.305\\t20.798\\t33.033', 'C308\\t9.928\\t18.608\\t33.784', 'C309\\t9.870\\t19.979\\t33.987', 'O310\\t10.355\\t20.574\\t35.200', 'N311\\t5.729\\t18.385\\t32.658', 'C312\\t5.099\\t19.173\\t33.728', 'C313\\t5.829\\t18.868\\t35.030', 'O314\\t6.312\\t17.721\\t35.240', 'C315\\t3.625\\t18.731\\t33.958', 'C316\\t2.581\\t19.228\\t32.943', 'C317\\t1.398\\t19.815\\t33.736', 'C318\\t0.013\\t19.610\\t33.095', 'N319\\t-0.155\\t20.518\\t31.953', 'N320\\t5.679\\t19.754\\t35.987', 'C321\\t6.012\\t19.427\\t37.388', 'C322\\t4.780\\t18.877\\t38.096', 'O323\\t3.628\\t19.280\\t37.772', 'C324\\t6.511\\t20.674\\t38.154', 'O325\\t6.774\\t20.324\\t39.521', 'N326\\t5.015\\t18.045\\t39.073', 'C327\\t3.930\\t17.493\\t39.888', 'C328\\t3.086\\t16.470\\t39.132', 'O329\\t1.836\\t16.467\\t39.265', 'N330\\t3.743\\t15.573\\t38.438', 'C331\\t3.070\\t14.442\\t37.783', 'C332\\t2.759\\t13.307\\t38.763', 'O333\\t3.686\\t12.728\\t39.377', 'C334\\t3.943\\t13.924\\t36.607', 'C335\\t4.305\\t15.063\\t35.631', 'C336\\t3.295\\t12.732\\t35.864', 'C337\\t5.146\\t14.589\\t34.423', 'N338\\t1.539\\t12.840\\t38.698', 'C339\\t1.147\\t11.539\\t39.243', 'C340\\t0.873\\t10.540\\t38.129', 'O341\\t0.030\\t10.816\\t37.237', 'C342\\t-0.115\\t11.654\\t40.118', 'C343\\t-0.391\\t10.316\\t40.843', 'C344\\t-1.661\\t10.433\\t41.679', 'O345\\t-1.591\\t10.312\\t42.931', 'N346\\t-2.751\\t10.770\\t41.039', 'N347\\t1.563\\t9.430\\t38.184', 'C348\\t1.353\\t8.373\\t37.172', 'C349\\t0.222\\t7.426\\t37.578', 'O350\\t0.188\\t6.941\\t38.737', 'C351\\t2.668\\t7.614\\t36.924', 'C352\\t2.500\\t6.463\\t35.914', 'C353\\t3.781\\t8.589\\t36.504', 'N354\\t-0.739\\t7.271\\t36.680', 'C355\\t-1.891\\t6.404\\t36.930', 'C356\\t-1.889\\t5.142\\t36.081', 'O357\\t-2.012\\t5.223\\t34.837', 'C358\\t-3.210\\t7.182\\t36.784', 'C359\\t-3.255\\t8.334\\t37.806', 'C360\\t-4.632\\t9.023\\t37.816', 'N361\\t-4.766\\t9.809\\t39.057', 'C362\\t-5.886\\t10.031\\t39.692', 'N363\\t-7.041\\t9.645\\t39.201', 'N364\\t-5.839\\t10.637\\t40.875', 'N365\\t-1.676\\t4.028\\t36.759', 'C366\\t-1.613\\t2.705\\t36.128', 'C367\\t-2.936\\t1.963\\t36.264', 'O368\\t-3.714\\t2.239\\t37.206', 'C369\\t-0.503\\t1.848\\t36.769', 'C370\\t0.877\\t2.538\\t36.820', 'C371\\t1.930\\t1.670\\t37.520', 'C372\\t1.366\\t2.882\\t35.414', 'N373\\t-3.130\\t0.959\\t35.431', 'C374\\t-4.282\\t0.072\\t35.586', 'C375\\t-5.609\\t0.771\\t35.315', 'O376\\t-6.675\\t0.250\\t35.731', 'N377\\t-5.550\\t1.892\\t34.607', 'C378\\t-6.774\\t2.646\\t34.290', 'C379\\t-7.544\\t2.076\\t33.105', 'O380\\t-6.918\\t1.725\\t32.081', 'C381\\t-6.480\\t4.134\\t33.993', 'C382\\t-5.956\\t4.906\\t35.219', 'C383\\t-7.139\\t5.272\\t36.106', 'O384\\t-8.286\\t4.817\\t35.856', 'O385\\t-7.056\\t6.301\\t36.816', 'N386\\t-8.847\\t2.238\\t33.163', 'C387\\t-9.728\\t2.176\\t32.006', 'C388\\t-10.595\\t3.430\\t31.954', 'O389\\t-10.186\\t4.430\\t31.305', 'C390\\t-10.594\\t0.912\\t32.014', 'C391\\t-11.337\\t0.847\\t30.693', 'O392\\t-10.732\\t1.011\\t29.613', 'O393\\t-12.535\\t0.496\\t30.660', 'N394\\t-11.589\\t3.503\\t32.819', 'C395\\t-12.302\\t4.755\\t33.029', 'C396\\t-11.524\\t5.687\\t33.961', 'O397\\t-11.316\\t5.346\\t35.154', 'C398\\t-13.717\\t4.511\\t33.554', 'C399\\t-14.557\\t5.781\\t33.407', 'O400\\t-14.179\\t6.877\\t33.896', 'N401\\t-15.766\\t5.588\\t32.920', 'N402\\t-10.986\\t6.752\\t33.407', 'C403\\t-10.173\\t7.698\\t34.189', 'C404\\t-10.963\\t8.579\\t35.158', 'O405\\t-10.336\\t9.309\\t35.967', 'C406\\t-9.305\\t8.608\\t33.295', 'C407\\t-10.142\\t9.458\\t32.321', 'C408\\t-8.154\\t7.840\\t32.607', 'C409\\t-9.235\\t10.427\\t31.543', 'N410\\t-12.278\\t8.503\\t35.111', 'C411\\t-13.145\\t9.263\\t36.002', 'C412\\t-13.758\\t8.400\\t37.094', 'O413\\t-14.360\\t8.974\\t38.038', 'C414\\t-14.240\\t10.050\\t35.253', 'C415\\t-13.673\\t11.355\\t34.684', 'O416\\t-12.814\\t12.006\\t35.324', 'N417\\t-14.157\\t11.733\\t33.519', 'N418\\t-13.619\\t7.083\\t36.995', 'C419\\t-14.114\\t6.195\\t38.063', 'C420\\t-13.125\\t5.156\\t38.578', 'O421\\t-12.358\\t4.572\\t37.782', 'C422\\t-15.521\\t5.629\\t37.740', 'C423\\t-16.212\\t6.157\\t36.473', 'C424\\t-15.892\\t4.191\\t38.179', 'N425\\t-13.078\\t5.001\\t39.885', 'C426\\t-12.215\\t4.006\\t40.504', 'C427\\t-12.846\\t2.622\\t40.389', 'O428\\t-13.973\\t2.398\\t40.907', 'C429\\t-11.939\\t4.367\\t41.977', 'C430\\t-11.171\\t3.264\\t42.728', 'C431\\t-11.202\\t5.711\\t42.058', 'N432\\t-12.259\\t1.846\\t39.491', 'C433\\t-12.797\\t0.545\\t39.090', 'C434\\t-12.085\\t-0.631\\t39.728', 'O435\\t-12.622\\t-1.764\\t39.683', 'C436\\t-12.762\\t0.375\\t37.566', 'C437\\t-13.556\\t1.498\\t36.881', 'C438\\t-13.573\\t1.238\\t35.382', 'O439\\t-12.564\\t1.473\\t34.675', 'O440\\t-14.638\\t0.864\\t34.837', 'N441\\t-10.980\\t-0.390\\t40.375', 'C442\\t-10.426\\t-1.471\\t41.203', 'C443\\t-9.044\\t-1.968\\t40.829', 'O444\\t-8.474\\t-2.778\\t41.598', 'N445\\t-8.572\\t-1.648\\t39.655', 'C446\\t-7.259\\t-2.133\\t39.215', 'C447\\t-6.190\\t-1.036\\t39.164', 'O448\\t-5.068\\t-1.281\\t38.662', 'C449\\t-7.347\\t-2.780\\t37.822', 'C450\\t-8.276\\t-3.988\\t37.897', 'O451\\t-7.899\\t-4.953\\t38.602', 'N452\\t-9.554\\t-3.711\\t37.679', 'N453\\t-6.530\\t0.143\\t39.637', 'C454\\t-5.613\\t1.300\\t39.600', 'C455\\t-4.444\\t1.212\\t40.575', 'O456\\t-4.645\\t0.823\\t41.752', 'C457\\t-6.346\\t2.635\\t39.857', 'C458\\t-7.430\\t2.960\\t38.811', 'C459\\t-8.801\\t2.409\\t39.205', 'O460\\t-8.959\\t1.602\\t40.170', 'O461\\t-9.813\\t2.843\\t38.606', 'N462\\t-3.336\\t1.775\\t40.150', 'C463\\t-2.191\\t2.149\\t40.990', 'C464\\t-1.777\\t3.594\\t40.717', 'O465\\t-1.435\\t3.931\\t39.555', 'C466\\t-0.978\\t1.242\\t40.729', 'C467\\t-1.301\\t-0.221\\t41.061', 'C468\\t-0.102\\t-1.085\\t40.710', 'O469\\t1.024\\t-0.804\\t41.180', 'N470\\t-0.382\\t-2.182\\t40.059', 'N471\\t-1.849\\t4.431\\t41.743', 'C472\\t-1.501\\t5.853\\t41.612', 'C473\\t-0.180\\t6.144\\t42.302', 'O474\\t-0.076\\t5.951\\t43.536', 'C475\\t-2.550\\t6.786\\t42.250', 'C476\\t-3.974\\t6.658\\t41.664', 'C477\\t-5.051\\t7.105\\t42.397', 'C478\\t-4.179\\t6.102\\t40.416', 'C479\\t-6.338\\t7.005\\t41.879', 'C480\\t-5.460\\t5.992\\t39.894', 'C481\\t-6.544\\t6.448\\t40.627', 'N482\\t0.826\\t6.436\\t41.523', 'C483\\t2.176\\t6.624\\t42.038', 'C484\\t2.769\\t7.936\\t41.544', 'O485\\t2.792\\t8.171\\t40.311', 'C486\\t3.063\\t5.441\\t41.580', 'C487\\t2.389\\t4.069\\t41.824', 'C488\\t4.470\\t5.510\\t42.190', 'C489\\t3.162\\t2.888\\t41.223', 'N490\\t3.258\\t8.772\\t42.453', 'C491\\t3.905\\t10.034\\t42.042', 'C492\\t5.269\\t9.838\\t41.378', 'O493\\t5.998\\t8.858\\t41.674', 'C494\\t4.017\\t11.020\\t43.235', 'O495\\t2.712\\t11.273\\t43.774', 'N496\\t5.625\\t10.764\\t40.521', 'C497\\t6.950\\t10.769\\t39.903', 'C498\\t8.002\\t11.314\\t40.866', 'O499\\t7.745\\t12.324\\t41.571', 'C500\\t6.938\\t11.637\\t38.628', 'N501\\t9.121\\t10.636\\t40.943', 'C502\\t10.294\\t11.020\\t41.737', 'C503\\t11.155\\t11.987\\t40.929', 'O504\\t11.802\\t12.911\\t41.486', 'C505\\t11.154\\t9.750\\t42.018', 'O506\\t12.400\\t10.132\\t42.618', 'N507\\t11.271\\t11.673\\t39.657', 'C508\\t12.227\\t12.342\\t38.759', 'C509\\t11.721\\t12.279\\t37.322', 'O510\\t11.128\\t11.255\\t36.896', 'C511\\t13.587\\t11.596\\t38.844', 'C512\\t14.734\\t12.324\\t38.132', 'C513\\t16.148\\t11.839\\t38.513', 'C514\\t16.424\\t10.370\\t38.142', 'N515\\t16.137\\t9.468\\t39.263', 'N516\\t11.924\\t13.361\\t36.608', 'C517\\t11.642\\t13.410\\t35.179', 'C518\\t12.853\\t13.883\\t34.392', 'O519\\t13.594\\t14.786\\t34.858', 'C520\\t10.409\\t14.274\\t34.872', 'O521\\t10.176\\t14.219\\t33.460', 'N522\\t13.143\\t13.172\\t33.318', 'C523\\t14.302\\t13.437\\t32.470', 'C524\\t13.914\\t13.632\\t31.007', 'O525\\t13.619\\t12.646\\t30.280', 'C526\\t15.331\\t12.296\\t32.567', 'C527\\t15.687\\t12.015\\t34.034', 'C528\\t16.590\\t12.573\\t31.721', 'C529\\t16.450\\t10.692\\t34.210', 'N530\\t13.989\\t14.861\\t30.571', 'C531\\t13.733\\t15.161\\t29.167', 'C532\\t15.003\\t14.907\\t28.368', 'O533\\t16.101\\t15.175\\t28.902', 'C534\\t13.262\\t16.634\\t29.051', 'C535\\t13.224\\t17.155\\t27.598', 'C536\\t11.937\\t16.864\\t29.805', 'N537\\t14.858\\t14.323\\t27.177', 'C538\\t15.990\\t14.059\\t26.277', 'C539\\t16.870\\t15.299\\t26.096', 'O540\\t16.325\\t16.422\\t25.923', 'C541\\t15.450\\t13.628\\t24.894', 'C542\\t16.583\\t13.023\\t24.050', 'N543\\t17.435\\t13.822\\t23.307', 'C544\\t16.979\\t11.748\\t23.941', 'C545\\t18.397\\t12.999\\t22.717', 'N546\\t18.106\\t11.701\\t23.122', 'N547\\t18.162\\t15.130\\t26.275', 'C548\\t19.142\\t16.216\\t26.260', 'C549\\t19.063\\t17.091\\t25.021', 'O550\\t19.497\\t18.267\\t25.092', 'C551\\t20.545\\t15.610\\t26.376', 'C552\\t20.335\\t14.108\\t26.577', 'C553\\t18.825\\t13.850\\t26.550', 'N554\\t18.562\\t16.530\\t23.927', 'C555\\t18.483\\t17.257\\t22.649', 'C556\\t17.071\\t17.588\\t22.201', 'O557\\t16.867\\t17.948\\t21.013', 'C558\\t19.244\\t16.535\\t21.526', 'O559\\t20.631\\t16.461\\t21.886', 'N560\\t16.153\\t17.568\\t23.125', 'C561\\t14.786\\t17.939\\t22.806', 'C562\\t14.700\\t19.377\\t22.286', 'O563\\t15.133\\t20.329\\t22.988', 'C564\\t13.862\\t17.757\\t24.025', 'C565\\t12.430\\t18.280\\t23.777', 'C566\\t11.916\\t19.259\\t24.596', 'C567\\t11.667\\t17.779\\t22.730', 'C568\\t10.622\\t19.735\\t24.392', 'C569\\t10.374\\t18.244\\t22.509', 'C570\\t9.844\\t19.217\\t23.354', 'O571\\t8.526\\t19.699\\t23.139', 'N572\\t14.111\\t19.512\\t21.106', 'C573\\t13.794\\t20.825\\t20.505', 'C574\\t12.291\\t21.093\\t20.397', 'O575\\t11.587\\t20.469\\t19.566', 'C576\\t14.445\\t20.928\\t19.115', 'C577\\t14.380\\t22.374\\t18.626', 'O578\\t13.273\\t22.938\\t18.482', 'N579\\t15.420\\t22.720\\t17.909', 'N580\\t11.802\\t21.948\\t21.259', 'C581\\t10.369\\t22.194\\t21.354', 'C582\\t9.776\\t22.883\\t20.129', 'O583\\t8.534\\t22.879\\t19.961', 'C584\\t10.055\\t23.039\\t22.603', 'O585\\t10.670\\t24.322\\t22.495', 'N586\\t10.589\\t23.495\\t19.324', 'C587\\t10.067\\t24.156\\t18.122', 'C588\\t9.858\\t23.172\\t16.989', 'O589\\t8.850\\t23.303\\t16.250', 'C590\\t11.029\\t25.237\\t17.613', 'C591\\t11.010\\t26.413\\t18.587', 'O592\\t12.103\\t26.948\\t18.886', 'N593\\t9.857\\t26.686\\t19.166', 'N594\\t10.762\\t22.213\\t16.879', 'C595\\t10.696\\t21.201\\t15.816', 'C596\\t10.100\\t19.864\\t16.239', 'O597\\t9.768\\t19.011\\t15.376', 'C598\\t12.097\\t20.961\\t15.245', 'O599\\t12.908\\t20.349\\t16.249', 'C600\\t12.726\\t22.273\\t14.736', 'N601\\t10.007\\t19.687\\t17.536', 'C602\\t9.599\\t18.429\\t18.188', 'C603\\t10.565\\t17.281\\t17.914', 'O604\\t10.256\\t16.101\\t18.215', 'C605\\t8.149\\t18.040\\t17.853', 'C606\\t7.125\\t19.029\\t18.438', 'C607\\t5.695\\t18.554\\t18.168', 'C608\\t7.323\\t19.236\\t19.952', 'N609\\t11.752\\t17.625\\t17.477', 'C610\\t12.788\\t16.618\\t17.315', 'C611\\t13.257\\t16.117\\t18.677', 'O612\\t13.381\\t16.949\\t19.608', 'C613\\t13.980\\t17.180\\t16.514', 'C614\\t14.950\\t16.064\\t16.119', 'O615\\t16.139\\t16.374\\t15.865', 'N616\\t14.432\\t14.906\\t15.800', 'N617\\t13.409\\t14.804\\t18.804', 'C618\\t13.781\\t14.101\\t20.049', 'C619\\t12.704\\t14.232\\t21.123', 'O620\\t13.034\\t14.498\\t22.302', 'C621\\t15.128\\t14.586\\t20.651', 'C622\\t16.291\\t14.465\\t19.672', 'O623\\t16.801\\t15.526\\t19.232', 'N624\\t16.508\\t13.288\\t19.145', 'N625\\t11.457\\t14.134\\t20.721', 'C626\\t10.296\\t14.297\\t21.626', 'C627\\t10.041\\t13.074\\t22.526', 'O628\\t9.149\\t12.226\\t22.272', 'C629\\t9.045\\t14.630\\t20.793', 'C630\\t7.866\\t14.997\\t21.682', 'O631\\t8.047\\t15.445\\t22.842', 'O632\\t6.713\\t15.010\\t21.193', 'N633\\t10.918\\t12.906\\t23.477', 'C634\\t10.897\\t11.762\\t24.393', 'C635\\t11.393\\t12.154\\t25.788', 'O636\\t12.308\\t13.009\\t25.940', 'C637\\t11.734\\t10.586\\t23.789', 'C638\\t11.598\\t9.274\\t24.603', 'C639\\t13.204\\t10.976\\t23.503', 'C640\\t12.268\\t8.083\\t23.895', 'N641\\t10.737\\t11.595\\t26.778', 'C642\\t10.982\\t11.869\\t28.191', 'C643\\t10.859\\t10.591\\t29.030', 'O644\\t9.905\\t9.800\\t28.808', 'C645\\t9.904\\t12.887\\t28.626', 'C646\\t9.945\\t13.272\\t30.109', 'S647\\t8.680\\t14.472\\t30.581', 'C648\\t7.235\\t13.625\\t29.993', 'N649\\t11.687\\t10.484\\t30.060', 'C650\\t11.663\\t9.386\\t31.052', 'C651\\t11.159\\t9.887\\t32.401', 'O652\\t11.561\\t10.980\\t32.854', 'C653\\t13.086\\t8.836\\t31.269', 'C654\\t13.444\\t7.590\\t30.416', 'C655\\t12.557\\t7.357\\t29.184', 'C656\\t14.949\\t7.462\\t30.118', 'N657\\t10.278\\t9.114\\t33.005', 'C658\\t9.711\\t9.418\\t34.324', 'C659\\t9.919\\t8.261\\t35.289', 'O660\\t9.376\\t7.158\\t35.059', 'C661\\t8.214\\t9.681\\t34.190', 'C662\\t7.965\\t10.871\\t33.237', 'C663\\t7.555\\t9.902\\t35.558', 'C664\\t6.481\\t11.032\\t32.886', 'N665\\t10.674\\t8.504\\t36.343', 'C666\\t10.850\\t7.504\\t37.409', 'C667\\t9.784\\t7.633\\t38.496', 'O668\\t9.554\\t8.757\\t39.009', 'C669\\t12.243\\t7.633\\t38.051', 'C670\\t12.540\\t6.429\\t38.971', 'C671\\t13.931\\t6.517\\t39.601', 'C672\\t14.293\\t5.223\\t40.353', 'N673\\t15.627\\t5.353\\t40.937', 'N674\\t9.190\\t6.521\\t38.856', 'C675\\t8.191\\t6.423\\t39.928', 'C676\\t8.835\\t6.453\\t41.312', 'O677\\t9.948\\t5.900\\t41.494', 'C678\\t7.392\\t5.099\\t39.792', 'C679\\t6.695\\t4.915\\t38.429', 'C680\\t6.036\\t3.538\\t38.290', 'C681\\t5.699\\t6.044\\t38.145', 'N682\\t8.156\\t7.061\\t42.258', 'C683\\t8.618\\t7.095\\t43.662', 'C684\\t8.736\\t5.701\\t44.279', 'O685\\t9.685\\t5.428\\t45.059', 'C686\\t7.633\\t7.891\\t44.538', 'C687\\t7.853\\t9.400\\t44.388', 'C688\\t6.922\\t10.214\\t45.304', 'C689\\t7.156\\t11.730\\t45.161', 'N690\\t6.267\\t12.464\\t46.070', 'N691\\t7.843\\t4.835\\t43.851', 'C692\\t7.813\\t3.422\\t44.243', 'C693\\t7.562\\t2.530\\t43.039', 'O694\\t6.907\\t2.980\\t42.074', 'C695\\t6.688\\t3.178\\t45.273', 'O696\\t6.913\\t3.989\\t46.434', 'N697\\t8.027\\t1.308\\t43.107', 'C698\\t7.790\\t0.327\\t42.046', 'C699\\t6.337\\t-0.118\\t41.994', 'O700\\t5.711\\t-0.416\\t43.046', 'C701\\t8.705\\t-0.896\\t42.223', 'N702\\t5.830\\t-0.152\\t40.789', 'C703\\t4.499\\t-0.676\\t40.465', 'C704\\t4.410\\t-2.185\\t40.701', 'O705\\t5.417\\t-2.911\\t40.503', 'C706\\t4.187\\t-0.395\\t38.979', 'N707\\t3.239\\t-2.640\\t41.075', 'C708\\t2.946\\t-4.066\\t41.235', 'C709\\t2.442\\t-4.677\\t39.926', 'O710\\t1.332\\t-4.328\\t39.442', 'C711\\t1.893\\t-4.272\\t42.345', 'O712\\t2.275\\t-3.532\\t43.512', 'N713\\t3.311\\t-5.431\\t39.295', 'C714\\t3.034\\t-5.923\\t37.947', 'C715\\t2.222\\t-7.211\\t37.938', 'O716\\t2.722\\t-8.247\\t38.438', 'C717\\t4.337\\t-6.104\\t37.150', 'C718\\t5.117\\t-4.785\\t36.981', 'C719\\t6.429\\t-5.010\\t36.234', 'C720\\t4.297\\t-3.713\\t36.262', 'N721\\t1.050\\t-7.157\\t37.313', 'C722\\t0.175\\t-8.331\\t37.047', 'C723\\t-0.290\\t-8.452\\t35.591', 'O724\\t0.346\\t-7.871\\t34.682', 'C725\\t-1.029\\t-8.381\\t38.016', 'C726\\t-1.985\\t-7.209\\t37.821', 'O727\\t-1.591\\t-6.194\\t37.201', 'N728\\t-2.880\\t-7.123\\t38.784', 'N729\\t-1.272\\t-9.276\\t35.315', 'C730\\t-1.802\\t-9.411\\t33.946', 'C731\\t-2.442\\t-8.110\\t33.443', 'O732\\t-2.478\\t-7.834\\t32.215', 'C733\\t-2.886\\t-10.520\\t33.907', 'O734\\t-3.957\\t-10.152\\t34.811', 'N735\\t-2.968\\t-7.355\\t34.370', 'C736\\t-3.645\\t-6.091\\t34.070', 'C737\\t-2.738\\t-4.870\\t34.093', 'O738\\t-3.055\\t-3.865\\t33.414', 'C739\\t-4.841\\t-5.885\\t35.002', 'C740\\t-5.939\\t-6.924\\t34.713', 'C741\\t-7.117\\t-6.809\\t35.694', 'N742\\t-8.218\\t-7.670\\t35.240', 'C743\\t-9.114\\t-8.162\\t36.071', 'N744\\t-9.063\\t-7.822\\t37.345', 'N745\\t-10.085\\t-8.929\\t35.619', 'N746\\t-1.608\\t-4.989\\t34.765', 'C747\\t-0.552\\t-3.969\\t34.779', 'C748\\t0.802\\t-4.576\\t34.455', 'O749\\t1.383\\t-5.297\\t35.294', 'C750\\t-0.475\\t-3.186\\t36.119', 'C751\\t0.704\\t-2.187\\t36.154', 'C752\\t-1.804\\t-2.480\\t36.467', 'N753\\t1.235\\t-4.397\\t33.256', 'C754\\t2.469\\t-4.983\\t32.773', 'C755\\t3.377\\t-3.968\\t32.104', 'O756\\t2.887\\t-2.934\\t31.599', 'C757\\t2.130\\t-6.109\\t31.773', 'N758\\t4.622\\t-4.298\\t31.962', 'C759\\t5.519\\t-3.444\\t31.162', 'C760\\t5.535\\t-3.858\\t29.696', 'O761\\t5.293\\t-5.044\\t29.387', 'C762\\t6.947\\t-3.487\\t31.714', 'O763\\t7.401\\t-4.838\\t31.675', 'N764\\t5.901\\t-2.963\\t28.832', 'C765\\t6.080\\t-3.243\\t27.410', 'C766\\t7.563\\t-3.281\\t27.054', 'O767\\t8.356\\t-2.461\\t27.593', 'C768\\t5.335\\t-2.188\\t26.561', 'C769\\t5.251\\t-2.562\\t25.062', 'C770\\t5.859\\t-0.747\\t26.785', 'C771\\t4.419\\t-3.841\\t24.836', 'N772\\t7.943\\t-4.243\\t26.224', 'C773\\t9.344\\t-4.366\\t25.830', 'C774\\t9.803\\t-3.246\\t24.903', 'O775\\t9.090\\t-2.888\\t23.946', 'C776\\t9.623\\t-5.738\\t25.159', 'O777\\t9.272\\t-6.801\\t26.052', 'N778\\t11.036\\t-2.886\\t25.080', 'C779\\t11.771\\t-1.999\\t24.190', 'C780\\t12.227\\t-2.791\\t22.967', 'O781\\t12.509\\t-4.008\\t23.083', 'C782\\t13.014\\t-1.512\\t24.952', 'C783\\t12.932\\t-0.049\\t25.403', 'C784\\t11.504\\t0.502\\t25.511', 'C785\\t13.776\\t0.208\\t26.656', 'N786\\t12.244\\t-2.159\\t21.828', 'C787\\t12.583\\t-2.833\\t20.571', 'C788\\t14.060\\t-3.205\\t20.487', 'O789\\t14.913\\t-2.480\\t21.056', 'C790\\t12.272\\t-1.845\\t19.435', 'C791\\t11.936\\t-0.514\\t20.100', 'C792\\t11.906\\t-0.747\\t21.621', 'N793\\t14.353\\t-4.209\\t19.673', 'C794\\t15.722\\t-4.583\\t19.309', 'C795\\t16.046\\t-3.985\\t17.949', 'O796\\t17.232\\t-3.736\\t17.625', 'C797\\t15.837\\t-6.116\\t19.177', 'O798\\t15.061\\t-6.563\\t18.056', 'C799\\t15.350\\t-6.813\\t20.461', 'N800\\t15.019\\t-3.878\\t17.149', 'C801\\t15.098\\t-3.430\\t15.752', 'C802\\t14.056\\t-2.362\\t15.474', 'O803\\t12.994\\t-2.348\\t16.139', 'C804\\t14.802\\t-4.633\\t14.835', 'O805\\t13.477\\t-5.109\\t15.103', 'N806\\t14.279\\t-1.563\\t14.461', 'C807\\t13.260\\t-0.583\\t14.039', 'C808\\t12.205\\t-1.245\\t13.178', 'O809\\t12.565\\t-2.040\\t12.283', 'C810\\t13.904\\t0.568\\t13.244', 'S811\\t15.125\\t1.524\\t14.164', 'N812\\t10.962\\t-0.947\\t13.421', 'C813\\t9.890\\t-1.491\\t12.588', 'C814\\t9.833\\t-0.776\\t11.238', 'O815\\t10.120\\t0.447\\t11.139', 'C816\\t8.535\\t-1.388\\t13.306', 'N817\\t9.501\\t-1.522\\t10.224', 'C818\\t9.456\\t-1.022\\t8.851', 'C819\\t8.059\\t-0.586\\t8.425', 'O820\\t7.048\\t-1.017\\t9.032', 'C821\\t9.923\\t-2.150\\t7.895', 'O822\\t11.258\\t-2.576\\t8.237', 'N823\\t8.022\\t0.199\\t7.359', 'C824\\t6.782\\t0.593\\t6.703', 'C825\\t5.950\\t-0.624\\t6.310', 'O826\\t6.501\\t-1.631\\t5.794', 'C827\\t7.113\\t1.384\\t5.427', 'N828\\t4.681\\t-0.556\\t6.600', 'C829\\t3.769\\t-1.645\\t6.294', 'C830\\t3.412\\t-2.453\\t7.530', 'O831\\t2.357\\t-3.135\\t7.531', 'N832\\t4.209\\t-2.308\\t8.563', 'C833\\t3.904\\t-2.949\\t9.858', 'C834\\t2.668\\t-2.336\\t10.520', 'O835\\t2.625\\t-1.096\\t10.717', 'C836\\t5.124\\t-2.830\\t10.809', 'O837\\t6.310\\t-3.380\\t10.194', 'C838\\t4.900\\t-3.515\\t12.174', 'N839\\t1.749\\t-3.191\\t10.922', 'C840\\t0.546\\t-2.803\\t11.645', 'C841\\t0.796\\t-2.659\\t13.149', 'O842\\t1.442\\t-3.532\\t13.781', 'C843\\t-0.572\\t-3.833\\t11.402', 'C844\\t-1.955\\t-3.323\\t11.881', 'C845\\t-2.992\\t-4.441\\t11.807', 'O846\\t-2.960\\t-5.374\\t12.649', 'N847\\t-3.999\\t-4.220\\t10.985', 'N848\\t0.385\\t-1.535\\t13.695', 'C849\\t0.636\\t-1.189\\t15.097', 'C850\\t-0.628\\t-0.821\\t15.857', 'O851\\t-1.666\\t-0.491\\t15.249', 'C852\\t1.665\\t-0.039\\t15.175', 'S853\\t3.204\\t-0.318\\t14.270', 'N854\\t-0.539\\t-0.818\\t17.150', 'C855\\t-1.660\\t-0.440\\t18.003', 'C856\\t-1.326\\t0.851\\t18.753', 'O857\\t-0.306\\t0.921\\t19.490', 'C858\\t-1.872\\t-1.539\\t19.044', 'C859\\t-3.071\\t-1.257\\t19.962', 'C860\\t-4.384\\t-1.236\\t19.174', 'C861\\t-3.119\\t-2.241\\t21.146', 'N862\\t-2.182\\t1.823\\t18.538', 'C863\\t-2.088\\t3.139\\t19.158', 'C864\\t-3.263\\t3.334\\t20.095', 'O865\\t-4.387\\t2.906\\t19.756', 'C866\\t-2.083\\t4.240\\t18.072', 'C867\\t-0.985\\t3.988\\t17.022', 'C868\\t-1.963\\t5.665\\t18.664', 'C869\\t-1.151\\t4.872\\t15.769', 'N870\\t-3.024\\t3.820\\t21.293', 'C871\\t-4.111\\t3.933\\t22.285', 'C872\\t-4.027\\t5.206\\t23.139', 'O873\\t-2.945\\t5.810\\t23.268', 'C874\\t-4.096\\t2.679\\t23.191', 'O875\\t-2.769\\t2.483\\t23.682', 'N876\\t-5.144\\t5.639\\t23.666', 'C877\\t-5.177\\t6.814\\t24.531', 'C878\\t-6.574\\t7.327\\t24.818', 'O879\\t-7.575\\t6.821\\t24.259', 'N880\\t-6.601\\t8.349\\t25.649', 'C881\\t-7.826\\t8.998\\t26.113', 'C882\\t-8.056\\t10.355\\t25.454', 'O883\\t-8.830\\t11.177\\t25.994', 'C884\\t-7.762\\t9.191\\t27.648', 'C885\\t-7.911\\t7.869\\t28.428', 'C886\\t-9.050\\t7.220\\t28.732', 'C887\\t-6.889\\t7.124\\t29.021', 'N888\\t-8.762\\t6.088\\t29.502', 'C889\\t-7.501\\t6.028\\t29.665', 'C890\\t-5.514\\t7.336\\t29.078', 'C891\\t-6.772\\t5.080\\t30.364', 'C892\\t-4.780\\t6.387\\t29.788', 'C893\\t-5.390\\t5.288\\t30.414', 'N894\\t-7.415\\t10.576\\t24.326', 'C895\\t-7.516\\t11.862\\t23.607', 'C896\\t-8.837\\t12.089\\t22.883', 'O897\\t-9.708\\t11.184\\t22.825', 'N898\\t-8.964\\t13.286\\t22.339', 'C899\\t-10.145\\t13.723\\t21.579', 'C900\\t-10.505\\t12.759\\t20.446', 'O901\\t-9.591\\t12.239\\t19.748', 'C902\\t-9.880\\t15.149\\t21.026', 'C903\\t-11.097\\t15.733\\t20.316', 'O904\\t-12.260\\t15.333\\t20.546', 'N905\\t-10.827\\t16.824\\t19.625', 'N906\\t-11.780\\t12.461\\t20.371', 'C907\\t-12.314\\t11.508\\t19.390', 'C908\\t-12.940\\t12.169\\t18.165', 'O909\\t-13.400\\t11.443\\t17.243', 'C910\\t-13.360\\t10.580\\t20.009', 'O911\\t-14.490\\t11.351\\t20.427', 'C912\\t-12.786\\t9.756\\t21.185', 'N913\\t-12.897\\t13.491\\t18.123', 'C914\\t-13.427\\t14.216\\t16.961', 'C915\\t-12.383\\t15.028\\t16.187', 'O916\\t-11.455\\t15.626\\t16.793', 'C917\\t-14.614\\t15.106\\t17.374', 'C918\\t-15.724\\t14.287\\t18.058', 'C919\\t-16.226\\t13.113\\t17.196', 'C920\\t-17.049\\t12.115\\t18.030', 'N921\\t-17.276\\t10.886\\t17.261', 'N922\\t-12.495\\t14.994\\t14.865', 'C923\\t-11.565\\t15.707\\t13.977', 'C924\\t-11.959\\t17.173\\t13.856', 'O925\\t-11.108\\t18.063\\t13.600', 'C926\\t-11.579\\t15.083\\t12.575', 'O927\\t-12.829\\t15.384\\t11.939', 'N928\\t-13.222\\t17.409\\t14.098', 'C929\\t-13.797\\t18.753\\t14.167', 'C930\\t-14.663\\t18.861\\t15.413', 'O931\\t-15.521\\t17.970\\t15.647', 'C932\\t-14.645\\t19.023\\t12.909', 'O933\\t-13.838\\t18.818\\t11.740', 'N934\\t-14.278\\t19.750\\t16.286', 'C935\\t-14.910\\t19.854\\t17.602', 'C936\\t-14.240\\t18.954\\t18.637', 'O937\\t-13.088\\t18.489\\t18.418', 'N938\\t-14.845\\t18.930\\t19.802', 'C939\\t-14.257\\t18.389\\t21.032', 'C940\\t-15.145\\t17.354\\t21.720', 'O941\\t-16.282\\t17.682\\t22.148', 'C942\\t-14.047\\t19.584\\t21.979', 'O943\\t-13.247\\t20.578\\t21.323', 'C944\\t-13.399\\t19.191\\t23.318', 'N945\\t-14.593\\t16.168\\t21.917', 'C946\\t-15.243\\t15.111\\t22.706', 'C947\\t-14.282\\t14.078\\t23.279', 'O948\\t-13.710\\t13.253\\t22.528', 'C949\\t-16.298\\t14.363\\t21.898', 'O950\\t-16.914\\t13.420\\t22.769', 'N951\\t-14.056\\t14.204\\t24.558', 'C952\\t-13.096\\t13.376\\t25.263', 'C953\\t-13.786\\t12.191\\t25.921', 'O954\\t-14.781\\t12.402\\t26.657', 'C955\\t-12.362\\t14.216\\t26.317', 'C956\\t-11.330\\t15.159\\t25.673', 'C957\\t-9.994\\t14.825\\t25.712', 'C958\\t-11.727\\t16.328\\t25.065', 'C959\\t-9.047\\t15.652\\t25.122', 'C960\\t-10.790\\t17.162\\t24.473', 'C961\\t-9.450\\t16.813\\t24.499', 'O962\\t-8.470\\t17.677\\t23.902', 'N963\\t-13.292\\t11.000\\t25.634', 'C964\\t-13.799\\t9.727\\t26.186', 'C965\\t-13.349\\t9.567\\t27.637', 'O966\\t-12.228\\t10.005\\t28.006', 'C967\\t-13.098\\t8.606\\t25.387', 'C968\\t-11.938\\t9.261\\t24.623', 'C969\\t-12.112\\t10.775\\t24.785', 'N970\\t-14.102\\t8.838\\t28.401', 'C971\\t-13.623\\t8.481\\t29.733', 'C972\\t-12.858\\t7.154\\t29.740', 'O973\\t-12.047\\t6.916\\t30.669', 'C974\\t-14.781\\t8.449\\t30.760', 'C975\\t-15.345\\t9.854\\t30.945', 'O976\\t-14.574\\t10.831\\t30.842', 'O977\\t-16.577\\t10.067\\t30.836', 'N978\\t-13.101\\t6.320\\t28.739', 'C979\\t-12.439\\t5.003\\t28.606', 'C980\\t-11.417\\t4.929\\t27.477', 'O981\\t-11.448\\t5.785\\t26.559', 'C982\\t-13.454\\t3.864\\t28.415', 'C983\\t-14.353\\t3.656\\t29.645', 'C984\\t-14.279\\t4.050\\t27.126', 'N985\\t-10.505\\t3.998\\t27.598', 'C986\\t-9.362\\t3.858\\t26.681', 'C987\\t-9.827\\t3.530\\t25.261', 'O988\\t-10.595\\t2.552\\t25.076', 'C989\\t-8.482\\t2.676\\t27.148', 'C990\\t-6.965\\t2.951\\t27.232', 'C991\\t-6.079\\t1.707\\t27.122', 'C992\\t-6.412\\t4.129\\t26.431', 'N993\\t-9.335\\t4.295\\t24.307', 'C994\\t-9.602\\t4.069\\t22.879', 'C995\\t-8.375\\t3.525\\t22.158', 'O996\\t-7.230\\t3.799\\t22.576', 'C997\\t-10.068\\t5.362\\t22.182', 'C998\\t-11.377\\t5.932\\t22.743', 'C999\\t-12.562\\t5.030\\t22.388', 'C1000\\t-13.883\\t5.634\\t22.891', 'N1001\\t-15.011\\t4.775\\t22.500', 'N1002\\t-8.610\\t2.648\\t21.211', 'C1003\\t-7.555\\t1.946\\t20.471', 'C1004\\t-7.681\\t2.140\\t18.960', 'O1005\\t-8.791\\t2.407\\t18.461', 'C1006\\t-7.616\\t0.424\\t20.760', 'S1007\\t-6.808\\t-0.087\\t22.282', 'N1008\\t-6.579\\t2.033\\t18.263', 'C1009\\t-6.521\\t2.202\\t16.797', 'C1010\\t-5.422\\t1.319\\t16.226', 'O1011\\t-4.248\\t1.493\\t16.627', 'C1012\\t-6.204\\t3.687\\t16.458', 'C1013\\t-6.125\\t3.972\\t14.937', 'C1014\\t-7.413\\t3.593\\t14.192', 'C1015\\t-5.731\\t5.426\\t14.620', 'N1016\\t-5.753\\t0.483\\t15.268', 'C1017\\t-4.719\\t-0.230\\t14.515', 'C1018\\t-4.361\\t0.522\\t13.239', 'O1019\\t-5.279\\t0.969\\t12.507', 'C1020\\t-5.166\\t-1.652\\t14.163', 'C1021\\t-5.313\\t-2.520\\t15.425', 'C1022\\t-5.791\\t-3.936\\t15.050', 'C1023\\t-6.037\\t-4.820\\t16.281', 'N1024\\t-6.402\\t-6.181\\t15.836', 'N1025\\t-3.098\\t0.829\\t13.091', 'C1026\\t-2.620\\t1.652\\t11.966', 'C1027\\t-1.261\\t1.185\\t11.466', 'O1028\\t-0.398\\t0.785\\t12.279', 'C1029\\t-2.509\\t3.117\\t12.427', 'N1030\\t-1.053\\t1.243\\t10.181', 'C1031\\t0.243\\t0.933\\t9.543', 'C1032\\t1.270\\t2.051\\t9.716', 'O1033\\t0.941\\t3.252\\t9.541', 'C1034\\t-0.023\\t0.845\\t8.027', 'C1035\\t-1.440\\t1.395\\t7.801', 'C1036\\t-2.069\\t1.631\\t9.183', 'N1037\\t2.506\\t1.658\\t9.799', 'C1038\\t3.612\\t2.584\\t9.615', 'C1039\\t3.758\\t2.900\\t8.137', 'O1040\\t3.781\\t1.953\\t7.311', 'C1041\\t4.933\\t2.009\\t10.161', 'C1042\\t4.807\\t1.723\\t11.674', 'C1043\\t6.141\\t2.936\\t9.868', 'C1044\\t6.099\\t1.156\\t12.282', 'N1045\\t3.723\\t4.170\\t7.811', 'C1046\\t3.889\\t4.653\\t6.436', 'C1047\\t5.351\\t4.750\\t6.022', 'O1048\\t6.270\\t4.809\\t6.884', 'C1049\\t3.244\\t6.053\\t6.295', 'C1050\\t1.737\\t6.006\\t6.621', 'C1051\\t1.083\\t7.390\\t6.569', 'C1052\\t0.972\\t5.017\\t5.726', 'N1053\\t5.579\\t4.772\\t4.733', 'C1054\\t6.935\\t4.962\\t4.238', 'C1055\\t7.476\\t6.354\\t4.550', 'O1056\\t6.695\\t7.336\\t4.563', 'C1057\\t6.981\\t4.772\\t2.707', 'O1058\\t6.202\\t5.796\\t2.074', 'N1059\\t8.778\\t6.408\\t4.722', 'C1060\\t9.557\\t7.637\\t4.878', 'C1061\\t9.210\\t8.667\\t3.803', 'O1062\\t9.016\\t9.871\\t4.104', 'C1063\\t11.028\\t7.228\\t4.718', 'C1064\\t11.909\\t8.467\\t4.639', 'O1065\\t12.700\\t8.702\\t5.586', 'O1066\\t12.111\\t8.896\\t3.410', 'N1067\\t9.079\\t8.167\\t2.590', 'C1068\\t8.729\\t8.948\\t1.404', 'C1069\\t7.372\\t9.609\\t1.543', 'O1070\\t7.258\\t10.846\\t1.340', 'C1071\\t8.716\\t8.029\\t0.152', 'O1072\\t9.979\\t7.359\\t0.044', 'N1073\\t6.391\\t8.820\\t1.902', 'C1074\\t5.037\\t9.330\\t2.064', 'C1075\\t4.949\\t10.290\\t3.247', 'O1076\\t4.218\\t11.307\\t3.182', 'C1077\\t3.992\\t8.196\\t2.186', 'O1078\\t4.212\\t7.438\\t3.382', 'N1079\\t5.783\\t10.036\\t4.228', 'C1080\\t5.812\\t10.878\\t5.424', 'C1081\\t6.394\\t12.268\\t5.130', 'O1082\\t5.789\\t13.313\\t5.492', 'C1083\\t6.617\\t10.168\\t6.538', 'S1084\\t6.487\\t10.899\\t8.184', 'N1085\\t7.550\\t12.274\\t4.499', 'C1086\\t8.253\\t13.507\\t4.158', 'C1087\\t7.508\\t14.286\\t3.085', 'O1088\\t7.569\\t15.539\\t3.069', 'C1089\\t9.711\\t13.220\\t3.710', 'C1090\\t10.570\\t12.656\\t4.855', 'C1091\\t12.059\\t12.575\\t4.484', 'C1092\\t12.916\\t11.931\\t5.588', 'N1093\\t12.843\\t12.708\\t6.828', 'N1094\\t6.721\\t13.591\\t2.302', 'C1095\\t5.917\\t14.267\\t1.289', 'C1096\\t4.642\\t14.875\\t1.854', 'O1097\\t4.217\\t15.961\\t1.379', 'C1098\\t5.583\\t13.324\\t0.119', 'O1099\\t4.737\\t12.267\\t0.579', 'N1100\\t4.160\\t14.314\\t2.942', 'C1101\\t3.036\\t14.905\\t3.687', 'C1102\\t3.468\\t16.134\\t4.489', 'O1103\\t2.666\\t17.082\\t4.643', 'C1104\\t2.394\\t13.886\\t4.646', 'N1105\\t4.669\\t16.086\\t5.036', 'C1106\\t5.229\\t17.140\\t5.907', 'C1107\\t6.593\\t17.626\\t5.446', 'O1108\\t7.608\\t17.364\\t6.128', 'C1109\\t5.399\\t16.632\\t7.350', 'C1110\\t4.039\\t16.293\\t7.994', 'C1111\\t3.612\\t14.981\\t8.122', 'C1112\\t3.248\\t17.324\\t8.452', 'C1113\\t2.401\\t14.708\\t8.751', 'C1114\\t2.042\\t17.064\\t9.061', 'C1115\\t1.634\\t15.759\\t9.235', 'O1116\\t0.412\\t15.509\\t9.910', 'N1117\\t6.647\\t18.293\\t4.301', 'C1118\\t7.912\\t18.734\\t3.712', 'C1119\\t8.739\\t19.587\\t4.671', 'O1120\\t8.191\\t20.546\\t5.259', 'C1121\\t7.573\\t19.529\\t2.435', 'C1122\\t6.045\\t19.539\\t2.301', 'C1123\\t5.501\\t18.748\\t3.490', 'N1124\\t9.982\\t19.200\\t4.848', 'C1125\\t10.940\\t19.924\\t5.691', 'C1126\\t10.782\\t19.716\\t7.192', 'O1127\\t11.457\\t20.428\\t7.979', 'N1128\\t9.821\\t18.904\\t7.592', 'C1129\\t9.507\\t18.747\\t9.012', 'C1130\\t9.883\\t17.385\\t9.581', 'O1131\\t9.974\\t17.243\\t10.823', 'C1132\\t8.012\\t18.995\\t9.227', 'C1133\\t7.682\\t20.462\\t8.850', 'C1134\\t6.205\\t20.638\\t8.530', 'O1135\\t5.824\\t20.610\\t7.327', 'N1136\\t5.404\\t20.657\\t9.559', 'N1137\\t10.056\\t16.381\\t8.747', 'C1138\\t10.361\\t15.062\\t9.302', 'C1139\\t11.860\\t14.820\\t9.438', 'O1140\\t12.606\\t14.940\\t8.440', 'C1141\\t9.695\\t13.968\\t8.462', 'C1142\\t8.197\\t14.275\\t8.260', 'C1143\\t9.955\\t12.546\\t9.025', 'C1144\\t7.387\\t14.282\\t9.570', 'N1145\\t12.295\\t14.439\\t10.615', 'C1146\\t13.680\\t14.048\\t10.877', 'C1147\\t13.819\\t12.531\\t10.987', 'O1148\\t12.779\\t11.824\\t10.992', 'C1149\\t14.158\\t14.649\\t12.214', 'O1150\\t13.602\\t13.922\\t13.333', 'C1151\\t13.869\\t16.163\\t12.310', 'N1152\\t15.040\\t12.073\\t11.116', 'C1153\\t15.364\\t10.643\\t11.273', 'C1154\\t14.670\\t10.001\\t12.469', 'O1155\\t14.686\\t8.754\\t12.611', 'C1156\\t16.880\\t10.499\\t11.504', 'O1157\\t17.195\\t11.009\\t12.807', 'N1158\\t14.311\\t10.844\\t13.420', 'C1159\\t13.822\\t10.411\\t14.734', 'C1160\\t12.311\\t10.386\\t14.766', 'O1161\\t11.701\\t10.287\\t15.864', 'C1162\\t14.304\\t11.383\\t15.804', 'C1163\\t15.826\\t11.324\\t15.832', 'O1164\\t16.387\\t10.202\\t15.826', 'N1165\\t16.453\\t12.471\\t16.034', 'N1166\\t11.738\\t10.490\\t13.588', 'C1167\\t10.281\\t10.472\\t13.464', 'C1168\\t9.807\\t9.395\\t12.494', 'O1169\\t10.456\\t9.196\\t11.435', 'C1170\\t9.745\\t11.827\\t12.958', 'C1171\\t10.155\\t13.012\\t13.849', 'S1172\\t9.700\\t14.645\\t13.222', 'C1173\\t10.471\\t15.638\\t14.515', 'N1174\\t8.576\\t9.001\\t12.678', 'C1175\\t7.849\\t8.275\\t11.634', 'C1176\\t6.385\\t8.668\\t11.546', 'O1177\\t5.800\\t9.117\\t12.557', 'C1178\\t8.027\\t6.729\\t11.687', 'C1179\\t7.344\\t6.024\\t12.881', 'C1180\\t6.037\\t5.600\\t12.791', 'C1181\\t8.050\\t5.793\\t14.032', 'C1182\\t5.426\\t4.957\\t13.858', 'C1183\\t7.447\\t5.157\\t15.106', 'C1184\\t6.137\\t4.740\\t15.022', 'N1185\\t5.798\\t8.417\\t10.387', 'C1186\\t4.361\\t8.590\\t10.208', 'C1187\\t3.665\\t7.244\\t10.274', 'O1188\\t4.183\\t6.222\\t9.755', 'C1189\\t3.957\\t9.263\\t8.878', 'S1190\\t4.490\\t10.976\\t8.582', 'N1191\\t2.508\\t7.287\\t10.849', 'C1192\\t1.607\\t6.139\\t10.891', 'C1193\\t0.163\\t6.588\\t10.760', 'O1194\\t-0.195\\t7.707\\t11.198', 'C1195\\t1.796\\t5.308\\t12.179', 'N1196\\t-0.626\\t5.755\\t10.137', 'C1197\\t-2.016\\t6.103\\t9.946', 'C1198\\t-2.407\\t5.979\\t8.486', 'O1199\\t-1.974\\t5.012\\t7.802', 'N1200\\t-3.361\\t6.800\\t8.146', 'C1201\\t-4.097\\t6.744\\t6.875', 'C1202\\t-4.089\\t8.094\\t6.159', 'O1203\\t-4.515\\t9.121\\t6.743', 'C1204\\t-5.561\\t6.328\\t7.151', 'C1205\\t-5.638\\t4.965\\t7.865', 'C1206\\t-5.696\\t4.898\\t9.245', 'C1207\\t-5.610\\t3.805\\t7.122', 'C1208\\t-5.715\\t3.667\\t9.892', 'C1209\\t-5.643\\t2.569\\t7.759', 'C1210\\t-5.686\\t2.507\\t9.143', 'O1211\\t-5.709\\t1.239\\t9.800', 'N1212\\t-3.529\\t8.105\\t4.980', 'C1213\\t-3.410\\t9.318\\t4.158', 'C1214\\t-4.789\\t9.809\\t3.717', 'O1215\\t-4.985\\t11.012\\t3.413', 'C1216\\t-2.557\\t8.991\\t2.912', 'C1217\\t-1.085\\t8.672\\t3.242', 'C1218\\t-0.384\\t7.937\\t2.085', 'C1219\\t-0.306\\t9.931\\t3.675', 'N1220\\t-5.754\\t8.910\\t3.770', 'C1221\\t-7.166\\t9.210\\t3.492', 'C1222\\t-7.801\\t9.986\\t4.643', 'O1223\\t-8.841\\t10.672\\t4.477', 'C1224\\t-7.907\\t7.873\\t3.289', 'C1225\\t-9.375\\t8.068\\t2.884', 'C1226\\t-9.937\\t6.736\\t2.396', 'O1227\\t-9.363\\t6.126\\t1.457', 'O1228\\t-11.160\\t6.467\\t2.803', 'N1229\\t-7.155\\t9.910\\t5.784', 'C1230\\t-7.676\\t10.526\\t7.006', 'C1231\\t-8.747\\t9.659\\t7.674', 'O1232\\t-8.883\\t8.451\\t7.347', 'N1233\\t-9.500\\t10.264\\t8.564', 'C1234\\t-10.601\\t9.606\\t9.275', 'C1235\\t-10.178\\t8.882\\t10.552', 'O1236\\t-11.027\\t8.663\\t11.443', 'N1237\\t-8.960\\t8.397\\t10.576', 'C1238\\t-8.417\\t7.612\\t11.700', 'C1239\\t-7.039\\t8.124\\t12.101', 'O1240\\t-6.118\\t8.170\\t11.244', 'C1241\\t-8.283\\t6.113\\t11.339', 'C1242\\t-9.615\\t5.465\\t10.900', 'C1243\\t-9.447\\t3.954\\t10.631', 'C1244\\t-10.759\\t3.251\\t10.247', 'N1245\\t-10.503\\t1.818\\t10.052', 'N1246\\t-6.914\\t8.542\\t13.355', 'C1247\\t-5.656\\t9.124\\t13.831', 'C1248\\t-5.567\\t9.116\\t15.363', 'O1249\\t-6.626\\t9.048\\t16.035', 'C1250\\t-5.642\\t10.595\\t13.323', 'C1251\\t-4.251\\t11.201\\t13.168', 'O1252\\t-4.119\\t12.307\\t12.590', 'O1253\\t-3.217\\t10.602\\t13.519', 'N1254\\t-4.434\\t9.542\\t15.859', 'C1255\\t-4.342\\t10.030\\t17.240', 'C1256\\t-4.657\\t11.535\\t17.309', 'O1257\\t-4.709\\t12.231\\t16.257', 'C1258\\t-2.930\\t9.771\\t17.754', 'O1259\\t-2.005\\t10.522\\t16.961', 'N1260\\t-4.971\\t12.027\\t18.489', 'C1261\\t-5.410\\t13.417\\t18.673', 'C1262\\t-4.969\\t14.015\\t20.015', 'O1263\\t-4.113\\t13.413\\t20.711', 'C1264\\t-6.937\\t13.484\\t18.455', 'S1265\\t-7.625\\t15.069\\t17.907', 'N1266\\t-5.379\\t15.238\\t20.288', 'C1267\\t-5.006\\t15.959\\t21.501', 'C1268\\t-5.399\\t15.135\\t22.715', 'O1269\\t-6.584\\t14.761\\t22.857', 'C1270\\t-5.769\\t17.294\\t21.558', 'C1271\\t-5.529\\t18.125\\t20.276', 'C1272\\t-6.893\\t18.497\\t19.691', 'O1273\\t-7.040\\t18.587\\t18.447', 'N1274\\t-7.815\\t18.833\\t20.577', 'N1275\\t-4.452\\t14.909\\t23.559', 'C1276\\t-4.683\\t14.140\\t24.775', 'C1277\\t-4.089\\t12.746\\t24.661', 'O1278\\t-3.897\\t12.081\\t25.701', 'N1279\\t-3.830\\t12.305\\t23.431', 'C1280\\t-3.166\\t11.018\\t23.177', 'C1281\\t-1.661\\t11.123\\t23.326', 'O1282\\t-0.950\\t10.085\\t23.376', 'C1283\\t-3.449\\t10.526\\t21.750', 'C1284\\t-4.910\\t10.129\\t21.636', 'O1285\\t-5.518\\t10.287\\t20.558', 'O1286\\t-5.476\\t9.545\\t22.586', 'N1287\\t-1.189\\t12.357\\t23.322', 'C1288\\t0.262\\t12.692\\t23.360', 'C1289\\t1.045\\t11.945\\t24.426', 'O1290\\t0.572\\t11.825\\t25.580', 'C1291\\t0.472\\t14.185\\t23.672', 'O1292\\t0.018\\t14.954\\t22.559', 'N1293\\t2.192\\t11.458\\t24.050', 'C1294\\t3.032\\t10.700\\t24.979', 'C1295\\t2.702\\t9.209\\t25.027', 'O1296\\t3.483\\t8.440\\t25.623', 'N1297\\t1.574\\t8.808\\t24.453', 'C1298\\t1.135\\t7.404\\t24.499', 'C1299\\t1.854\\t6.474\\t23.519', 'O1300\\t2.681\\t6.932\\t22.700', 'N1301\\t1.631\\t5.181\\t23.677', 'C1302\\t2.341\\t4.105\\t22.950', 'C1303\\t1.893\\t3.918\\t21.498', 'O1304\\t0.672\\t3.841\\t21.220', 'C1305\\t1.979\\t2.782\\t23.670', 'C1306\\t0.847\\t3.102\\t24.657', 'C1307\\t0.698\\t4.634\\t24.674', 'N1308\\t2.848\\t3.498\\t20.706', 'C1309\\t2.617\\t2.820\\t19.437', 'C1310\\t3.369\\t1.486\\t19.430', 'O1311\\t4.624\\t1.484\\t19.547', 'C1312\\t3.083\\t3.654\\t18.221', 'C1313\\t2.737\\t2.961\\t16.894', 'C1314\\t2.577\\t5.107\\t18.251', 'N1315\\t2.614\\t0.424\\t19.577', 'C1316\\t3.173\\t-0.921\\t19.800', 'C1317\\t2.974\\t-1.816\\t18.592', 'O1318\\t1.815\\t-2.003\\t18.150', 'C1319\\t2.535\\t-1.556\\t21.038', 'C1320\\t2.875\\t-3.052\\t21.192', 'C1321\\t2.931\\t-0.746\\t22.288', 'N1322\\t4.075\\t-2.294\\t18.073', 'C1323\\t4.105\\t-3.151\\t16.881', 'C1324\\t4.768\\t-4.472\\t17.226', 'O1325\\t5.886\\t-4.442\\t17.792', 'C1326\\t4.940\\t-2.448\\t15.789', 'S1327\\t4.691\\t-0.659\\t15.643', 'N1328\\t4.086\\t-5.564\\t16.936', 'C1329\\t4.606\\t-6.902\\t17.253', 'C1330\\t5.113\\t-7.049\\t18.685', 'O1331\\t6.191\\t-7.659\\t18.889', 'C1332\\t5.751\\t-7.298\\t16.295', 'O1333\\t5.351\\t-7.090\\t14.932', 'N1334\\t4.360\\t-6.504\\t19.616', 'C1335\\t4.641\\t-6.632\\t21.046', 'C1336\\t5.796\\t-5.771\\t21.551', 'O1337\\t6.197\\t-5.899\\t22.742', 'N1338\\t6.303\\t-4.880\\t20.720', 'C1339\\t7.376\\t-3.969\\t21.172', 'C1340\\t6.954\\t-2.502\\t21.037', 'O1341\\t6.162\\t-2.163\\t20.117', 'C1342\\t8.674\\t-4.167\\t20.360', 'C1343\\t9.168\\t-5.633\\t20.340', 'C1344\\t9.613\\t-6.189\\t21.712', 'C1345\\t11.066\\t-6.724\\t21.644', 'N1346\\t11.496\\t-7.282\\t22.927', 'N1347\\t7.472\\t-1.668\\t21.925', 'C1348\\t7.198\\t-0.228\\t21.861', 'C1349\\t7.995\\t0.439\\t20.742', 'O1350\\t9.199\\t0.727\\t20.937', 'C1351\\t7.551\\t0.435\\t23.213', 'C1352\\t7.194\\t1.946\\t23.267', 'C1353\\t5.687\\t2.214\\t23.207', 'C1354\\t7.861\\t2.629\\t24.480', 'N1355\\t7.349\\t0.736\\t19.631', 'C1356\\t8.028\\t1.402\\t18.509', 'C1357\\t7.872\\t2.920\\t18.432', 'O1358\\t8.757\\t3.605\\t17.865', 'C1359\\t7.656\\t0.784\\t17.154', 'C1360\\t8.100\\t-0.695\\t17.024', 'C1361\\t9.618\\t-0.846\\t16.828', 'O1362\\t10.103\\t-2.001\\t16.764', 'N1363\\t10.247\\t0.154\\t16.295', 'N1364\\t6.765\\t3.424\\t18.931', 'C1365\\t6.482\\t4.858\\t18.819', 'C1366\\t5.939\\t5.508\\t20.089', 'O1367\\t5.382\\t4.831\\t20.988', 'N1368\\t5.981\\t6.821\\t20.059', 'C1369\\t5.364\\t7.721\\t21.040', 'C1370\\t4.566\\t8.791\\t20.307', 'O1371\\t5.149\\t9.472\\t19.423', 'C1372\\t6.438\\t8.412\\t21.925', 'C1373\\t7.362\\t7.396\\t22.620', 'C1374\\t5.793\\t9.340\\t22.973', 'C1375\\t8.535\\t8.098\\t23.300', 'N1376\\t3.296\\t8.896\\t20.643', 'C1377\\t2.406\\t9.925\\t20.067', 'C1378\\t2.951\\t11.345\\t20.253', 'O1379\\t3.205\\t11.802\\t21.400', 'C1380\\t0.983\\t9.811\\t20.624', 'C1381\\t0.058\\t10.840\\t19.961', 'C1382\\t0.392\\t8.381\\t20.568', 'N1383\\t3.390\\t11.914\\t19.145', 'C1384\\t4.158\\t13.158\\t19.174', 'C1385\\t3.412\\t14.354\\t18.586', 'O1386\\t3.067\\t15.294\\t19.341', 'C1387\\t5.518\\t12.981\\t18.484', 'O1388\\t6.253\\t14.198\\t18.606', 'N1389\\t3.207\\t14.383\\t17.287', 'C1390\\t2.499\\t15.516\\t16.676', 'C1391\\t1.771\\t15.202\\t15.371', 'O1392\\t1.645\\t14.022\\t14.977', 'C1393\\t3.445\\t16.716\\t16.451', 'C1394\\t4.626\\t16.449\\t15.499', 'C1395\\t5.798\\t15.858\\t15.766', 'C1396\\t4.736\\t16.891\\t14.172', 'N1397\\t6.627\\t15.892\\t14.640', 'C1398\\t6.007\\t16.501\\t13.712', 'C1399\\t3.845\\t17.586\\t13.365', 'C1400\\t6.444\\t16.771\\t12.425', 'C1401\\t4.291\\t17.859\\t12.075', 'C1402\\t5.550\\t17.464\\t11.623', 'N1403\\t1.179\\t16.239\\t14.792', 'C1404\\t0.442\\t16.141\\t13.533', 'C1405\\t-0.158\\t17.495\\t13.180', 'O1406\\t-0.147\\t18.418\\t14.030', 'N1407\\t-0.705\\t17.603\\t12.002', 'C1408\\t-1.401\\t18.832\\t11.652', 'C1409\\t-2.904\\t18.665\\t11.791', 'O1410\\t-3.530\\t17.996\\t10.939', 'C1411\\t-1.031\\t19.287\\t10.236', 'O1412\\t-1.696\\t20.538\\t10.030', 'N1413\\t-3.402\\t18.998\\t12.949', 'C1414\\t-4.770\\t18.626\\t13.330', 'C1415\\t-4.899\\t17.115\\t13.552', 'O1416\\t-3.886\\t16.436\\t13.835', 'N1417\\t-6.085\\t16.585\\t13.404', 'C1418\\t-6.343\\t15.143\\t13.590', 'C1419\\t-7.164\\t14.593\\t12.438', 'O1420\\t-8.247\\t15.156\\t12.152', 'C1421\\t-7.139\\t14.912\\t14.894', 'S1422\\t-6.417\\t15.667\\t16.360', 'N1423\\t-6.780\\t13.430\\t11.981', 'C1424\\t-7.550\\t12.597\\t11.049', 'C1425\\t-7.889\\t13.330\\t9.756', 'O1426\\t-8.883\\t12.991\\t9.064', 'C1427\\t-8.843\\t12.090\\t11.713', 'N1428\\t-7.105\\t14.355\\t9.460', 'C1429\\t-7.271\\t15.100\\t8.214', 'C1430\\t-6.545\\t14.380\\t7.068', 'O1431\\t-5.500\\t13.709\\t7.280', 'C1432\\t-6.750\\t16.554\\t8.392', 'C1433\\t-7.854\\t17.642\\t8.575', 'C1434\\t-8.764\\t17.392\\t9.778', 'O1435\\t-9.766\\t16.641\\t9.659', 'N1436\\t-8.526\\t18.124\\t10.850', 'N1437\\t-7.104\\t14.528\\t5.879', 'C1438\\t-6.561\\t13.987\\t4.634', 'C1439\\t-5.138\\t14.461\\t4.392', 'O1440\\t-4.860\\t15.677\\t4.528', 'C1441\\t-7.448\\t14.491\\t3.463', 'C1442\\t-7.100\\t13.821\\t2.124', 'C1443\\t-7.936\\t14.402\\t0.967', 'C1444\\t-7.577\\t13.756\\t-0.385', 'N1445\\t-8.353\\t14.375\\t-1.466', 'N1446\\t-4.275\\t13.533\\t4.091', 'C1447\\t-2.845\\t13.743\\t3.804', 'C1448\\t-2.065\\t14.334\\t4.971', 'O1449\\t-0.928\\t14.835\\t4.773', 'C1450\\t-2.607\\t14.592\\t2.537', 'C1451\\t-2.898\\t13.751\\t1.288', 'O1452\\t-2.033\\t12.936\\t0.880', 'N1453\\t-3.907\\t14.176\\t0.560', 'N1454\\t-2.636\\t14.229\\t6.163', 'C1455\\t-1.949\\t14.703\\t7.375', 'C1456\\t-1.937\\t13.665\\t8.496', 'O1457\\t-2.693\\t13.835\\t9.481', 'C1458\\t-2.615\\t15.989\\t7.911', 'C1459\\t-2.441\\t17.197\\t6.965', 'C1460\\t-0.944\\t17.540\\t6.806', 'C1461\\t-0.721\\t18.711\\t5.825', 'N1462\\t0.703\\t19.045\\t5.741', 'N1463\\t-1.155\\t12.602\\t8.341', 'C1464\\t-1.122\\t11.482\\t9.304', 'C1465\\t-0.479\\t11.901\\t10.620', 'O1466\\t0.297\\t12.886\\t10.639', 'C1467\\t-0.258\\t10.374\\t8.681', 'C1468\\t0.394\\t10.969\\t7.430', 'C1469\\t-0.210\\t12.360\\t7.227', 'N1470\\t-0.623\\t11.069\\t11.636', 'C1471\\t0.110\\t11.272\\t12.879', 'C1472\\t1.608\\t11.072\\t12.720', 'O1473\\t2.024\\t10.196\\t11.924', 'N1474\\t2.365\\t11.853\\t13.475', 'C1475\\t3.824\\t11.772\\t13.569', 'C1476\\t4.302\\t11.354\\t14.963', 'O1477\\t3.717\\t11.778\\t15.991', 'C1478\\t4.505\\t13.085\\t13.134', 'C1479\\t6.037\\t12.930\\t12.965', 'C1480\\t3.847\\t13.680\\t11.869', 'N1481\\t5.149\\t10.351\\t14.967', 'C1482\\t5.505\\t9.602\\t16.178', 'C1483\\t7.010\\t9.585\\t16.388', 'O1484\\t7.785\\t9.501\\t15.406', 'C1485\\t4.986\\t8.137\\t16.024', 'C1486\\t3.451\\t8.095\\t15.897', 'C1487\\t2.672\\t8.155\\t17.024', 'C1488\\t2.855\\t8.096\\t14.648', 'C1489\\t1.296\\t8.198\\t16.927', 'C1490\\t1.470\\t8.161\\t14.530', 'C1491\\t0.695\\t8.215\\t15.676', 'O1492\\t-0.718\\t8.264\\t15.579', 'N1493\\t7.422\\t9.651\\t17.623', 'C1494\\t8.825\\t9.538\\t17.986', 'C1495\\t9.310\\t8.108\\t17.749', 'O1496\\t8.617\\t7.159\\t18.174', 'C1497\\t9.040\\t9.967\\t19.472', 'O1498\\t8.510\\t11.286\\t19.683', 'C1499\\t10.521\\t9.962\\t19.873', 'N1500\\t10.428\\t7.973\\t17.063', 'C1501\\t10.997\\t6.654\\t16.685', 'C1502\\t11.856\\t6.053\\t17.784', 'O1503\\t13.077\\t6.305\\t17.834', 'C1504\\t11.825\\t6.837\\t15.413', 'C1505\\t12.039\\t5.547\\t14.606', 'C1506\\t12.673\\t5.932\\t13.257', 'C1507\\t12.614\\t4.795\\t12.238', 'N1508\\t13.233\\t5.227\\t10.979', 'N1509\\t11.200\\t5.371\\t18.696', 'C1510\\t11.800\\t4.832\\t19.921', 'C1511\\t13.060\\t3.988\\t19.695', 'O1512\\t13.980\\t4.005\\t20.543', 'C1513\\t10.718\\t4.059\\t20.729', 'C1514\\t11.256\\t3.338\\t21.991', 'C1515\\t9.515\\t4.950\\t21.090', 'N1516\\t13.133\\t3.266\\t18.582', 'C1517\\t14.294\\t2.404\\t18.345', 'C1518\\t15.614\\t3.173\\t18.304', 'O1519\\t16.670\\t2.585\\t18.640', 'C1520\\t14.140\\t1.576\\t17.055', 'S1521\\t14.061\\t2.556\\t15.556', 'N1522\\t15.548\\t4.483\\t18.038', 'C1523\\t16.746\\t5.330\\t18.003', 'C1524\\t17.247\\t5.698\\t19.400', 'O1525\\t18.362\\t6.265\\t19.530', 'C1526\\t16.471\\t6.648\\t17.232', 'C1527\\t16.294\\t6.404\\t15.736', 'O1528\\t16.448\\t5.261\\t15.259', 'N1529\\t16.101\\t7.479\\t15.004', 'N1530\\t16.407\\t5.460\\t20.378', 'C1531\\t16.648\\t5.928\\t21.748', 'C1532\\t16.952\\t4.848\\t22.778', 'O1533\\t17.073\\t5.165\\t23.984', 'C1534\\t15.467\\t6.778\\t22.251', 'C1535\\t15.241\\t8.027\\t21.375', 'C1536\\t16.063\\t9.125\\t21.502', 'C1537\\t14.235\\t8.023\\t20.435', 'C1538\\t15.909\\t10.215\\t20.665', 'C1539\\t14.073\\t9.109\\t19.589', 'C1540\\t14.925\\t10.193\\t19.697', 'O1541\\t14.737\\t11.311\\t18.839', 'N1542\\t16.933\\t3.613\\t22.350', 'C1543\\t17.059\\t2.476\\t23.284', 'C1544\\t18.313\\t2.558\\t24.156', 'O1545\\t18.223\\t2.344\\t25.389', 'C1546\\t16.987\\t1.132\\t22.514', 'C1547\\t17.316\\t-0.058\\t23.429', 'C1548\\t15.613\\t0.929\\t21.833', 'N1549\\t19.419\\t2.917\\t23.552', 'C1550\\t20.701\\t3.027\\t24.241', 'C1551\\t20.644\\t4.119\\t25.299', 'O1552\\t21.069\\t3.874\\t26.456', 'C1553\\t21.865\\t3.310\\t23.266', 'O1554\\t21.905\\t2.286\\t22.264', 'N1555\\t20.017\\t5.214\\t24.940', 'C1556\\t19.836\\t6.344\\t25.871', 'C1557\\t18.958\\t5.946\\t27.051', 'O1558\\t19.374\\t6.174\\t28.217', 'C1559\\t19.226\\t7.567\\t25.163', 'C1560\\t18.872\\t8.695\\t26.155', 'C1561\\t19.701\\t9.505\\t26.838', 'C1562\\t17.581\\t9.082\\t26.529', 'N1563\\t18.954\\t10.386\\t27.633', 'C1564\\t17.716\\t10.138\\t27.454', 'C1565\\t16.337\\t8.630\\t26.125', 'C1566\\t16.623\\t10.765\\t28.029', 'C1567\\t15.232\\t9.283\\t26.684', 'C1568\\t15.374\\t10.322\\t27.619', 'N1569\\t17.868\\t5.276\\t26.727', 'C1570\\t16.955\\t4.744\\t27.739', 'C1571\\t17.644\\t3.789\\t28.714', 'O1572\\t17.562\\t4.004\\t29.947', 'C1573\\t15.727\\t4.069\\t27.098', 'C1574\\t14.881\\t5.101\\t26.340', 'C1575\\t14.867\\t3.351\\t28.145', 'C1576\\t13.701\\t4.444\\t25.628', 'N1577\\t18.364\\t2.828\\t28.189', 'C1578\\t19.025\\t1.866\\t29.065', 'C1579\\t20.087\\t2.487\\t29.965', 'O1580\\t20.117\\t2.177\\t31.189', 'C1581\\t19.649\\t0.725\\t28.256', 'C1582\\t18.633\\t-0.035\\t27.392', 'C1583\\t19.209\\t-1.375\\t26.894', 'C1584\\t20.597\\t-1.217\\t26.244', 'N1585\\t20.515\\t-0.394\\t25.031', 'N1586\\t20.881\\t3.368\\t29.387', 'C1587\\t21.962\\t4.059\\t30.121', 'C1588\\t21.412\\t4.900\\t31.274', 'O1589\\t21.956\\t4.868\\t32.408', 'C1590\\t22.761\\t4.947\\t29.138', 'C1591\\t23.722\\t5.964\\t29.798', 'C1592\\t24.806\\t5.267\\t30.617', 'O1593\\t25.463\\t4.324\\t30.110', 'N1594\\t24.740\\t5.508\\t31.913', 'N1595\\t20.338\\t5.600\\t30.957', 'C1596\\t19.691\\t6.497\\t31.915', 'C1597\\t19.079\\t5.728\\t33.073', 'O1598\\t19.316\\t6.089\\t34.257', 'C1599\\t18.626\\t7.384\\t31.238', 'O1600\\t19.240\\t8.164\\t30.218', 'C1601\\t17.955\\t8.340\\t32.219', 'N1602\\t18.375\\t4.676\\t32.720', 'C1603\\t17.716\\t3.839\\t33.717', 'C1604\\t18.742\\t3.174\\t34.625', 'O1605\\t18.529\\t3.131\\t35.866', 'C1606\\t16.824\\t2.762\\t33.051', 'C1607\\t15.387\\t3.219\\t32.787', 'C1608\\t16.761\\t1.476\\t33.903', 'C1609\\t15.256\\t4.536\\t32.018', 'N1610\\t19.876\\t2.821\\t34.064', 'C1611\\t20.955\\t2.157\\t34.825', 'C1612\\t21.625\\t3.065\\t35.850', 'O1613\\t22.318\\t2.561\\t36.768', 'C1614\\t22.033\\t1.650\\t33.864', 'N1615\\t21.520\\t4.358\\t35.641', 'C1616\\t22.243\\t5.314\\t36.474', 'C1617\\t21.367\\t6.240\\t37.294', 'O1618\\t21.883\\t7.208\\t37.906', 'C1619\\t23.207\\t6.152\\t35.622', 'O1620\\t24.083\\t5.250\\t34.925', 'N1621\\t20.074\\t6.038\\t37.224', 'C1622\\t19.126\\t6.947\\t37.890', 'C1623\\t18.083\\t6.203\\t38.704', 'O1624\\t17.319\\t6.853\\t39.455', 'C1625\\t18.394\\t7.853\\t36.880', 'C1626\\t19.315\\t8.949\\t36.343', 'O1627\\t19.585\\t9.905\\t37.110', 'N1628\\t20.096\\t8.605\\t35.338', 'O1629\\t18.181\\t4.969\\t38.876']\n"
     ]
    }
   ],
   "source": [
    "atoms = list()\n",
    "with open(\"disulfide/trypsin.xyz\") as file_in:\n",
    "    for line in file_in:\n",
    "            atoms.append(line.strip())    \n",
    "print(atoms)\n",
    "\n",
    "\n",
    "\n"
   ]
  },
  {
   "cell_type": "markdown",
   "metadata": {},
   "source": [
    "To make our list of atoms easy to use, we want our atoms list to be in the format of:\n",
    "\n",
    "    atoms = [['C2', -8.150, 8.766, 19.179], ['C3', -9.405, 9.018, 18.348], ..]]\n",
    "\n",
    "This way we will have a nested list and to access an atom, we would write:\n",
    "\n",
    "    atoms[0]        -->    ['C2', -8.150, 8.766, 19.179]\n",
    "    atoms[0][0]     -->    'C2'\n",
    "    atoms[0][1]     -->    -8.150\n",
    "    atoms[0][0][0]  -->    'C'\n",
    "    atoms[0][0][1]  -->    '2'\n",
    "\n",
    "__Now use the__ `split()` __function when reading in each line to turn it into a list and append this to the__ `atoms` __list. Remember to also convert the coordinates to floats before doing so.__ \n",
    "\n"
   ]
  },
  {
   "cell_type": "code",
   "execution_count": 91,
   "metadata": {},
   "outputs": [
    {
     "name": "stdout",
     "output_type": "stream",
     "text": [
      "[['C2', -8.15, 8.766, 19.179], ['C3', -9.405, 9.018, 18.348], ['O4', -10.533, 8.888, 18.87], ['C5', -8.091, 7.261, 19.602], ['C6', -6.898, 6.882, 20.508], ['C7', -8.178, 6.281, 18.408], ['C8', -5.555, 6.893, 19.773], ['N9', -9.224, 9.305, 17.09], ['C10', -10.351, 9.448, 16.157], ['C11', -10.5, 8.184, 15.315], ['O12', -9.496, 7.688, 14.748], ['C13', -10.123, 10.665, 15.222], ['C14', -11.319, 10.915, 14.278], ['C15', -9.737, 11.97, 15.97], ['N16', -11.714, 7.72, 15.167], ['C17', -12.021, 6.63, 14.259], ['C18', -11.505, 5.285, 14.769], ['O19', -11.2, 4.401, 13.936], ['N20', -11.365, 5.149, 16.084], ['C21', -10.902, 3.899, 16.684], ['C22', -12.042, 3.149, 17.365], ['O23', -13.226, 3.308, 16.977], ['N24', -11.706, 2.303, 18.306], ['C25', -12.651, 1.442, 19.016], ['C26', -12.322, 1.436, 20.5], ['O27', -11.176, 1.776, 20.861], ['C28', -12.641, -0.007, 18.432], ['C29', -11.281, -0.749, 18.494], ['C30', -11.024, -1.687, 19.48], ['C31', -10.309, -0.466, 17.558], ['C32', -9.795, -2.328, 19.533], ['C33', -9.078, -1.102, 17.604], ['C34', -8.824, -2.032, 18.587], ['O35', -7.557, -2.695, 18.599], ['N36', -13.243, 1.039, 21.318], ['C37', -13.018, 0.938, 22.76], ['C38', -12.198, -0.307, 23.074], ['O39', -12.617, -1.432, 22.679], ['C40', -14.381, 0.808, 23.469], ['O41', -15.157, 1.954, 23.162], ['C42', -14.265, 0.65, 25.0], ['N43', -10.996, -0.088, 23.549], ['C44', -10.02, -1.163, 23.76], ['C45', -10.594, -2.317, 24.576], ['O46', -10.275, -3.492, 24.305], ['C47', -8.825, -0.632, 24.567], ['S48', -7.877, 0.698, 23.833], ['N49', -11.235, -1.963, 25.664], ['C50', -11.683, -2.865, 26.714], ['C51', -10.787, -2.713, 27.929], ['O52', -9.588, -2.375, 27.76], ['N53', -11.381, -2.822, 29.105], ['C54', -10.648, -2.627, 30.361], ['C55', -9.41, -3.521, 30.49], ['O56', -9.524, -4.773, 30.444], ['C57', -11.575, -2.793, 31.574], ['N58', -8.279, -2.868, 30.729], ['C59', -6.97, -3.437, 31.02], ['C60', -6.468, -4.331, 29.907], ['O61', -5.579, -5.18, 30.152], ['C62', -6.943, -4.2, 32.354], ['C63', -7.427, -3.305, 33.496], ['O64', -6.945, -2.147, 33.622], ['N65', -8.616, -3.631, 33.942], ['N66', -6.964, -4.091, 28.709], ['C67', -6.452, -4.845, 27.559], ['C68', -5.144, -4.297, 27.022], ['O69', -4.485, -4.969, 26.193], ['C70', -7.471, -4.878, 26.415], ['O71', -7.7, -3.53, 25.981], ['C72', -8.78, -5.571, 26.849], ['N73', -4.776, -3.102, 27.469], ['C74', -3.486, -2.47, 27.11], ['C75', -2.651, -2.155, 28.353], ['O76', -2.793, -1.048, 28.92], ['C77', -3.752, -1.167, 26.319], ['C78', -2.446, -0.578, 25.77], ['C79', -4.792, -1.378, 25.189], ['N80', -2.126, -3.183, 28.968], ['C81', -1.697, -3.165, 30.389], ['C82', -0.544, -2.205, 30.682], ['O83', -0.281, -1.914, 31.867], ['C84', -1.261, -4.595, 30.753], ['C85', -1.314, -5.427, 29.473], ['C86', -1.897, -4.523, 28.373], ['N87', 0.146, -1.78, 29.647], ['C88', 1.314, -0.892, 29.735], ['C89', 0.935, 0.582, 29.59], ['O90', 1.825, 1.463, 29.743], ['C91', 2.382, -1.281, 28.679], ['C92', 1.776, -1.415, 27.269], ['C93', 1.597, -0.302, 26.473], ['C94', 1.38, -2.658, 26.819], ['C95', 0.993, -0.417, 25.227], ['C96', 0.774, -2.79, 25.569], ['C97', 0.58, -1.667, 24.778], ['O98', -0.021, -1.807, 23.494], ['N99', -0.325, 0.821, 29.298], ['C100', -0.82, 2.197, 29.094], ['C101', -0.922, 2.937, 30.427], ['O102', -1.568, 2.427, 31.377], ['C103', -2.203, 2.193, 28.412], ['C104', -2.824, 3.613, 28.276], ['C105', -2.175, 4.443, 27.163], ['O106', -1.91, 5.66, 27.373], ['N107', -2.366, 3.991, 25.966], ['N108', -0.3, 4.09, 30.462], ['C109', -0.289, 4.992, 31.63], ['C110', -1.121, 6.247, 31.345], ['O111', -1.052, 6.811, 30.223], ['C112', 1.21, 5.317, 31.884], ['C113', 1.572, 6.646, 32.548], ['C114', 1.985, 4.124, 32.453], ['N115', -1.728, 6.788, 32.369], ['C116', -2.23, 8.158, 32.287], ['C117', -1.368, 9.067, 33.164], ['O118', -1.122, 8.734, 34.349], ['C119', -3.692, 8.239, 32.758], ['O120', -4.099, 9.606, 32.958], ['N121', -0.969, 10.207, 32.628], ['C122', -0.245, 11.235, 33.385], ['C123', -1.219, 12.296, 33.899], ['O124', -2.056, 12.796, 33.115], ['C125', 0.837, 11.939, 32.542], ['C126', 1.917, 11.0, 31.979], ['C127', 3.021, 11.829, 31.295], ['C128', 2.514, 10.102, 33.081], ['N129', -1.26, 12.421, 35.208], ['C130', -2.257, 13.204, 35.92], ['C131', -1.612, 14.333, 36.708], ['O132', -0.677, 14.08, 37.506], ['C133', -3.084, 12.306, 36.868], ['C134', -4.293, 13.065, 37.414], ['O135', -4.156, 13.894, 38.353], ['N136', -5.456, 12.795, 36.851], ['N137', -2.175, 15.511, 36.544], ['C138', -1.745, 16.658, 37.346], ['C139', -2.948, 17.383, 37.928], ['O140', -3.066, 18.622, 37.797], ['C141', -0.854, 17.613, 36.519], ['O142', -1.611, 18.149, 35.428], ['N143', -3.893, 16.622, 38.395], ['C144', -5.215, 17.115, 38.801], ['C145', -6.257, 16.737, 37.761], ['O146', -7.493, 16.834, 37.988], ['N147', -5.717, 16.309, 36.637], ['C148', -6.448, 15.903, 35.436], ['C149', -5.538, 15.126, 34.484], ['O150', -4.296, 15.257, 34.564], ['C151', -7.045, 17.143, 34.703], ['C152', -5.999, 18.241, 34.412], ['C153', -5.793, 19.248, 35.338], ['C154', -5.267, 18.222, 33.238], ['C155', -4.815, 20.204, 35.117], ['C156', -4.292, 19.179, 33.008], ['C157', -4.055, 20.146, 33.96], ['O158', -3.013, 21.108, 33.764], ['N159', -6.135, 14.347, 33.608], ['C160', -5.398, 13.635, 32.562], ['C161', -4.88, 14.635, 31.525], ['O162', -5.692, 15.406, 30.95], ['C163', -6.325, 12.608, 31.854], ['C164', -5.649, 12.054, 30.58], ['N165', -4.644, 11.079, 30.657], ['C166', -5.808, 12.423, 29.293], ['C167', -4.218, 10.837, 29.365], ['N168', -4.929, 11.688, 28.516], ['N169', -3.586, 14.654, 31.309], ['C170', -3.028, 15.563, 30.304], ['C171', -2.265, 14.877, 29.172], ['O172', -2.205, 15.416, 28.037], ['C173', -2.233, 16.739, 30.913], ['C174', -0.916, 16.325, 31.589], ['C175', 0.265, 16.349, 30.888], ['C176', -0.911, 15.931, 32.9], ['C177', 1.45, 15.952, 31.496], ['C178', 0.275, 15.549, 33.512], ['C179', 1.457, 15.551, 32.811], ['N180', -1.708, 13.713, 29.461], ['C181', -0.943, 12.943, 28.477], ['C182', -0.963, 11.456, 28.798], ['O183', -1.13, 11.094, 29.987], ['C184', 0.534, 13.41, 28.471], ['S185', 0.938, 14.837, 27.445], ['N186', -0.594, 10.654, 27.807], ['C187', -0.399, 9.224, 28.003], ['C188', 1.057, 8.915, 28.307], ['O189', 1.913, 9.827, 28.269], ['N190', 1.364, 7.641, 28.441], ['C191', 2.729, 7.14, 28.612], ['C192', 2.753, 5.616, 28.545], ['O193', 1.665, 4.996, 28.442], ['N194', 3.947, 5.06, 28.603], ['C195', 4.15, 3.604, 28.57], ['C196', 5.023, 3.123, 29.711], ['O197', 6.148, 3.652, 29.883], ['C198', 4.771, 3.135, 27.24], ['O199', 3.897, 3.464, 26.177], ['N200', 4.564, 2.073, 30.369], ['C201', 5.324, 1.446, 31.443], ['C202', 6.386, 0.499, 30.889], ['O203', 6.021, -0.445, 30.142], ['C204', 4.332, 0.66, 32.327], ['C205', 4.929, 0.228, 33.679], ['C206', 5.251, 1.445, 34.571], ['C207', 3.989, -0.771, 34.386], ['N208', 7.647, 0.819, 31.078], ['C209', 8.727, 0.011, 30.479], ['C210', 9.472, -0.863, 31.479], ['O211', 10.138, -1.844, 31.078], ['C212', 9.709, 0.852, 29.651], ['C213', 10.46, 1.89, 30.514], ['C214', 8.993, 1.463, 28.426], ['C215', 11.566, 2.613, 29.73], ['N216', 9.198, -0.63, 32.738], ['C217', 9.543, -1.539, 33.837], ['C218', 8.851, -1.085, 35.107], ['O219', 8.04, -0.138, 35.008], ['C220', 11.056, -1.729, 34.053], ['C221', 11.767, -0.415, 34.363], ['O222', 12.859, -0.182, 33.789], ['N223', 11.405, 0.209, 35.444], ['N224', 9.036, -1.791, 36.203], ['C225', 8.257, -1.53, 37.429], ['C226', 8.423, -0.121, 38.0], ['O227', 7.543, 0.359, 38.747], ['C228', 8.592, -2.579, 38.511], ['O229', 9.912, -2.327, 38.975], ['N230', 9.477, 0.578, 37.625], ['C231', 9.725, 1.936, 38.148], ['C232', 9.844, 3.046, 37.102], ['O233', 10.083, 4.216, 37.496], ['C234', 10.982, 1.981, 39.046], ['C235', 10.582, 1.896, 40.532], ['C236', 11.7, 2.344, 41.476], ['O237', 11.486, 3.288, 42.29], ['N238', 12.834, 1.677, 41.396], ['N239', 9.757, 2.723, 35.812], ['C240', 9.995, 3.712, 34.754], ['C241', 8.906, 3.79, 33.692], ['O242', 8.412, 2.746, 33.21], ['C243', 11.364, 3.527, 34.076], ['C244', 12.572, 3.85, 34.993], ['C245', 13.222, 3.036, 35.857], ['C246', 13.258, 5.073, 35.06], ['N247', 14.291, 3.728, 36.448], ['C248', 14.318, 4.912, 35.98], ['C249', 13.047, 6.272, 34.392], ['C250', 15.217, 5.93, 36.261], ['C251', 13.948, 7.298, 34.679], ['C252', 15.003, 7.135, 35.583], ['N253', 8.573, 5.015, 33.338], ['C254', 7.59, 5.365, 32.303], ['C255', 8.225, 6.182, 31.18], ['O256', 9.004, 7.119, 31.478], ['C257', 6.396, 6.134, 32.931], ['C258', 5.5, 6.889, 31.919], ['C259', 5.547, 5.221, 33.846], ['N260', 7.906, 5.855, 29.943], ['C261', 8.35, 6.683, 28.808], ['C262', 7.201, 7.472, 28.163], ['O263', 6.046, 6.976, 28.05], ['C264', 9.146, 5.853, 27.778], ['C265', 8.268, 4.775, 27.123], ['C266', 9.847, 6.741, 26.739], ['N267', 7.422, 8.764, 27.999], ['C268', 6.417, 9.666, 27.43], ['C269', 7.054, 10.618, 26.415], ['O270', 8.246, 10.457, 26.078], ['C271', 5.692, 10.481, 28.536], ['O272', 4.456, 11.083, 28.055], ['N273', 6.294, 11.611, 25.982], ['C274', 6.778, 12.67, 25.099], ['C275', 7.329, 13.864, 25.883], ['O276', 6.747, 14.218, 26.934], ['C277', 5.636, 13.154, 24.19], ['N278', 8.461, 14.383, 25.454], ['C279', 9.069, 15.522, 26.129], ['C280', 8.143, 16.74, 26.167], ['O281', 8.162, 17.496, 27.169], ['C282', 10.414, 15.918, 25.506], ['N283', 7.291, 16.893, 25.158], ['C284', 6.317, 17.989, 25.192], ['C285', 5.203, 17.844, 26.235], ['O286', 4.478, 18.819, 26.529], ['C287', 5.745, 18.308, 23.81], ['C288', 4.596, 17.385, 23.379], ['N289', 4.815, 16.252, 22.598], ['C290', 3.276, 17.511, 23.584], ['C291', 3.578, 15.653, 22.343], ['N292', 2.615, 16.45, 22.957], ['N293', 5.184, 16.712, 26.907], ['C294', 4.29, 16.466, 28.021], ['C295', 4.901, 16.878, 29.353], ['O296', 4.303, 16.548, 30.401], ['C297', 3.92, 14.975, 28.069], ['S298', 2.798, 14.431, 26.757], ['N299', 6.118, 17.397, 29.336], ['C300', 6.784, 17.748, 30.602], ['C301', 5.953, 18.745, 31.41], ['O302', 5.542, 19.806, 30.879], ['C303', 8.209, 18.292, 30.371], ['C304', 8.848, 18.88, 31.651], ['C305', 8.8, 20.24, 31.861], ['C306', 9.413, 18.064, 32.607], ['C307', 9.305, 20.798, 33.033], ['C308', 9.928, 18.608, 33.784], ['C309', 9.87, 19.979, 33.987], ['O310', 10.355, 20.574, 35.2], ['N311', 5.729, 18.385, 32.658], ['C312', 5.099, 19.173, 33.728], ['C313', 5.829, 18.868, 35.03], ['O314', 6.312, 17.721, 35.24], ['C315', 3.625, 18.731, 33.958], ['C316', 2.581, 19.228, 32.943], ['C317', 1.398, 19.815, 33.736], ['C318', 0.013, 19.61, 33.095], ['N319', -0.155, 20.518, 31.953], ['N320', 5.679, 19.754, 35.987], ['C321', 6.012, 19.427, 37.388], ['C322', 4.78, 18.877, 38.096], ['O323', 3.628, 19.28, 37.772], ['C324', 6.511, 20.674, 38.154], ['O325', 6.774, 20.324, 39.521], ['N326', 5.015, 18.045, 39.073], ['C327', 3.93, 17.493, 39.888], ['C328', 3.086, 16.47, 39.132], ['O329', 1.836, 16.467, 39.265], ['N330', 3.743, 15.573, 38.438], ['C331', 3.07, 14.442, 37.783], ['C332', 2.759, 13.307, 38.763], ['O333', 3.686, 12.728, 39.377], ['C334', 3.943, 13.924, 36.607], ['C335', 4.305, 15.063, 35.631], ['C336', 3.295, 12.732, 35.864], ['C337', 5.146, 14.589, 34.423], ['N338', 1.539, 12.84, 38.698], ['C339', 1.147, 11.539, 39.243], ['C340', 0.873, 10.54, 38.129], ['O341', 0.03, 10.816, 37.237], ['C342', -0.115, 11.654, 40.118], ['C343', -0.391, 10.316, 40.843], ['C344', -1.661, 10.433, 41.679], ['O345', -1.591, 10.312, 42.931], ['N346', -2.751, 10.77, 41.039], ['N347', 1.563, 9.43, 38.184], ['C348', 1.353, 8.373, 37.172], ['C349', 0.222, 7.426, 37.578], ['O350', 0.188, 6.941, 38.737], ['C351', 2.668, 7.614, 36.924], ['C352', 2.5, 6.463, 35.914], ['C353', 3.781, 8.589, 36.504], ['N354', -0.739, 7.271, 36.68], ['C355', -1.891, 6.404, 36.93], ['C356', -1.889, 5.142, 36.081], ['O357', -2.012, 5.223, 34.837], ['C358', -3.21, 7.182, 36.784], ['C359', -3.255, 8.334, 37.806], ['C360', -4.632, 9.023, 37.816], ['N361', -4.766, 9.809, 39.057], ['C362', -5.886, 10.031, 39.692], ['N363', -7.041, 9.645, 39.201], ['N364', -5.839, 10.637, 40.875], ['N365', -1.676, 4.028, 36.759], ['C366', -1.613, 2.705, 36.128], ['C367', -2.936, 1.963, 36.264], ['O368', -3.714, 2.239, 37.206], ['C369', -0.503, 1.848, 36.769], ['C370', 0.877, 2.538, 36.82], ['C371', 1.93, 1.67, 37.52], ['C372', 1.366, 2.882, 35.414], ['N373', -3.13, 0.959, 35.431], ['C374', -4.282, 0.072, 35.586], ['C375', -5.609, 0.771, 35.315], ['O376', -6.675, 0.25, 35.731], ['N377', -5.55, 1.892, 34.607], ['C378', -6.774, 2.646, 34.29], ['C379', -7.544, 2.076, 33.105], ['O380', -6.918, 1.725, 32.081], ['C381', -6.48, 4.134, 33.993], ['C382', -5.956, 4.906, 35.219], ['C383', -7.139, 5.272, 36.106], ['O384', -8.286, 4.817, 35.856], ['O385', -7.056, 6.301, 36.816], ['N386', -8.847, 2.238, 33.163], ['C387', -9.728, 2.176, 32.006], ['C388', -10.595, 3.43, 31.954], ['O389', -10.186, 4.43, 31.305], ['C390', -10.594, 0.912, 32.014], ['C391', -11.337, 0.847, 30.693], ['O392', -10.732, 1.011, 29.613], ['O393', -12.535, 0.496, 30.66], ['N394', -11.589, 3.503, 32.819], ['C395', -12.302, 4.755, 33.029], ['C396', -11.524, 5.687, 33.961], ['O397', -11.316, 5.346, 35.154], ['C398', -13.717, 4.511, 33.554], ['C399', -14.557, 5.781, 33.407], ['O400', -14.179, 6.877, 33.896], ['N401', -15.766, 5.588, 32.92], ['N402', -10.986, 6.752, 33.407], ['C403', -10.173, 7.698, 34.189], ['C404', -10.963, 8.579, 35.158], ['O405', -10.336, 9.309, 35.967], ['C406', -9.305, 8.608, 33.295], ['C407', -10.142, 9.458, 32.321], ['C408', -8.154, 7.84, 32.607], ['C409', -9.235, 10.427, 31.543], ['N410', -12.278, 8.503, 35.111], ['C411', -13.145, 9.263, 36.002], ['C412', -13.758, 8.4, 37.094], ['O413', -14.36, 8.974, 38.038], ['C414', -14.24, 10.05, 35.253], ['C415', -13.673, 11.355, 34.684], ['O416', -12.814, 12.006, 35.324], ['N417', -14.157, 11.733, 33.519], ['N418', -13.619, 7.083, 36.995], ['C419', -14.114, 6.195, 38.063], ['C420', -13.125, 5.156, 38.578], ['O421', -12.358, 4.572, 37.782], ['C422', -15.521, 5.629, 37.74], ['C423', -16.212, 6.157, 36.473], ['C424', -15.892, 4.191, 38.179], ['N425', -13.078, 5.001, 39.885], ['C426', -12.215, 4.006, 40.504], ['C427', -12.846, 2.622, 40.389], ['O428', -13.973, 2.398, 40.907], ['C429', -11.939, 4.367, 41.977], ['C430', -11.171, 3.264, 42.728], ['C431', -11.202, 5.711, 42.058], ['N432', -12.259, 1.846, 39.491], ['C433', -12.797, 0.545, 39.09], ['C434', -12.085, -0.631, 39.728], ['O435', -12.622, -1.764, 39.683], ['C436', -12.762, 0.375, 37.566], ['C437', -13.556, 1.498, 36.881], ['C438', -13.573, 1.238, 35.382], ['O439', -12.564, 1.473, 34.675], ['O440', -14.638, 0.864, 34.837], ['N441', -10.98, -0.39, 40.375], ['C442', -10.426, -1.471, 41.203], ['C443', -9.044, -1.968, 40.829], ['O444', -8.474, -2.778, 41.598], ['N445', -8.572, -1.648, 39.655], ['C446', -7.259, -2.133, 39.215], ['C447', -6.19, -1.036, 39.164], ['O448', -5.068, -1.281, 38.662], ['C449', -7.347, -2.78, 37.822], ['C450', -8.276, -3.988, 37.897], ['O451', -7.899, -4.953, 38.602], ['N452', -9.554, -3.711, 37.679], ['N453', -6.53, 0.143, 39.637], ['C454', -5.613, 1.3, 39.6], ['C455', -4.444, 1.212, 40.575], ['O456', -4.645, 0.823, 41.752], ['C457', -6.346, 2.635, 39.857], ['C458', -7.43, 2.96, 38.811], ['C459', -8.801, 2.409, 39.205], ['O460', -8.959, 1.602, 40.17], ['O461', -9.813, 2.843, 38.606], ['N462', -3.336, 1.775, 40.15], ['C463', -2.191, 2.149, 40.99], ['C464', -1.777, 3.594, 40.717], ['O465', -1.435, 3.931, 39.555], ['C466', -0.978, 1.242, 40.729], ['C467', -1.301, -0.221, 41.061], ['C468', -0.102, -1.085, 40.71], ['O469', 1.024, -0.804, 41.18], ['N470', -0.382, -2.182, 40.059], ['N471', -1.849, 4.431, 41.743], ['C472', -1.501, 5.853, 41.612], ['C473', -0.18, 6.144, 42.302], ['O474', -0.076, 5.951, 43.536], ['C475', -2.55, 6.786, 42.25], ['C476', -3.974, 6.658, 41.664], ['C477', -5.051, 7.105, 42.397], ['C478', -4.179, 6.102, 40.416], ['C479', -6.338, 7.005, 41.879], ['C480', -5.46, 5.992, 39.894], ['C481', -6.544, 6.448, 40.627], ['N482', 0.826, 6.436, 41.523], ['C483', 2.176, 6.624, 42.038], ['C484', 2.769, 7.936, 41.544], ['O485', 2.792, 8.171, 40.311], ['C486', 3.063, 5.441, 41.58], ['C487', 2.389, 4.069, 41.824], ['C488', 4.47, 5.51, 42.19], ['C489', 3.162, 2.888, 41.223], ['N490', 3.258, 8.772, 42.453], ['C491', 3.905, 10.034, 42.042], ['C492', 5.269, 9.838, 41.378], ['O493', 5.998, 8.858, 41.674], ['C494', 4.017, 11.02, 43.235], ['O495', 2.712, 11.273, 43.774], ['N496', 5.625, 10.764, 40.521], ['C497', 6.95, 10.769, 39.903], ['C498', 8.002, 11.314, 40.866], ['O499', 7.745, 12.324, 41.571], ['C500', 6.938, 11.637, 38.628], ['N501', 9.121, 10.636, 40.943], ['C502', 10.294, 11.02, 41.737], ['C503', 11.155, 11.987, 40.929], ['O504', 11.802, 12.911, 41.486], ['C505', 11.154, 9.75, 42.018], ['O506', 12.4, 10.132, 42.618], ['N507', 11.271, 11.673, 39.657], ['C508', 12.227, 12.342, 38.759], ['C509', 11.721, 12.279, 37.322], ['O510', 11.128, 11.255, 36.896], ['C511', 13.587, 11.596, 38.844], ['C512', 14.734, 12.324, 38.132], ['C513', 16.148, 11.839, 38.513], ['C514', 16.424, 10.37, 38.142], ['N515', 16.137, 9.468, 39.263], ['N516', 11.924, 13.361, 36.608], ['C517', 11.642, 13.41, 35.179], ['C518', 12.853, 13.883, 34.392], ['O519', 13.594, 14.786, 34.858], ['C520', 10.409, 14.274, 34.872], ['O521', 10.176, 14.219, 33.46], ['N522', 13.143, 13.172, 33.318], ['C523', 14.302, 13.437, 32.47], ['C524', 13.914, 13.632, 31.007], ['O525', 13.619, 12.646, 30.28], ['C526', 15.331, 12.296, 32.567], ['C527', 15.687, 12.015, 34.034], ['C528', 16.59, 12.573, 31.721], ['C529', 16.45, 10.692, 34.21], ['N530', 13.989, 14.861, 30.571], ['C531', 13.733, 15.161, 29.167], ['C532', 15.003, 14.907, 28.368], ['O533', 16.101, 15.175, 28.902], ['C534', 13.262, 16.634, 29.051], ['C535', 13.224, 17.155, 27.598], ['C536', 11.937, 16.864, 29.805], ['N537', 14.858, 14.323, 27.177], ['C538', 15.99, 14.059, 26.277], ['C539', 16.87, 15.299, 26.096], ['O540', 16.325, 16.422, 25.923], ['C541', 15.45, 13.628, 24.894], ['C542', 16.583, 13.023, 24.05], ['N543', 17.435, 13.822, 23.307], ['C544', 16.979, 11.748, 23.941], ['C545', 18.397, 12.999, 22.717], ['N546', 18.106, 11.701, 23.122], ['N547', 18.162, 15.13, 26.275], ['C548', 19.142, 16.216, 26.26], ['C549', 19.063, 17.091, 25.021], ['O550', 19.497, 18.267, 25.092], ['C551', 20.545, 15.61, 26.376], ['C552', 20.335, 14.108, 26.577], ['C553', 18.825, 13.85, 26.55], ['N554', 18.562, 16.53, 23.927], ['C555', 18.483, 17.257, 22.649], ['C556', 17.071, 17.588, 22.201], ['O557', 16.867, 17.948, 21.013], ['C558', 19.244, 16.535, 21.526], ['O559', 20.631, 16.461, 21.886], ['N560', 16.153, 17.568, 23.125], ['C561', 14.786, 17.939, 22.806], ['C562', 14.7, 19.377, 22.286], ['O563', 15.133, 20.329, 22.988], ['C564', 13.862, 17.757, 24.025], ['C565', 12.43, 18.28, 23.777], ['C566', 11.916, 19.259, 24.596], ['C567', 11.667, 17.779, 22.73], ['C568', 10.622, 19.735, 24.392], ['C569', 10.374, 18.244, 22.509], ['C570', 9.844, 19.217, 23.354], ['O571', 8.526, 19.699, 23.139], ['N572', 14.111, 19.512, 21.106], ['C573', 13.794, 20.825, 20.505], ['C574', 12.291, 21.093, 20.397], ['O575', 11.587, 20.469, 19.566], ['C576', 14.445, 20.928, 19.115], ['C577', 14.38, 22.374, 18.626], ['O578', 13.273, 22.938, 18.482], ['N579', 15.42, 22.72, 17.909], ['N580', 11.802, 21.948, 21.259], ['C581', 10.369, 22.194, 21.354], ['C582', 9.776, 22.883, 20.129], ['O583', 8.534, 22.879, 19.961], ['C584', 10.055, 23.039, 22.603], ['O585', 10.67, 24.322, 22.495], ['N586', 10.589, 23.495, 19.324], ['C587', 10.067, 24.156, 18.122], ['C588', 9.858, 23.172, 16.989], ['O589', 8.85, 23.303, 16.25], ['C590', 11.029, 25.237, 17.613], ['C591', 11.01, 26.413, 18.587], ['O592', 12.103, 26.948, 18.886], ['N593', 9.857, 26.686, 19.166], ['N594', 10.762, 22.213, 16.879], ['C595', 10.696, 21.201, 15.816], ['C596', 10.1, 19.864, 16.239], ['O597', 9.768, 19.011, 15.376], ['C598', 12.097, 20.961, 15.245], ['O599', 12.908, 20.349, 16.249], ['C600', 12.726, 22.273, 14.736], ['N601', 10.007, 19.687, 17.536], ['C602', 9.599, 18.429, 18.188], ['C603', 10.565, 17.281, 17.914], ['O604', 10.256, 16.101, 18.215], ['C605', 8.149, 18.04, 17.853], ['C606', 7.125, 19.029, 18.438], ['C607', 5.695, 18.554, 18.168], ['C608', 7.323, 19.236, 19.952], ['N609', 11.752, 17.625, 17.477], ['C610', 12.788, 16.618, 17.315], ['C611', 13.257, 16.117, 18.677], ['O612', 13.381, 16.949, 19.608], ['C613', 13.98, 17.18, 16.514], ['C614', 14.95, 16.064, 16.119], ['O615', 16.139, 16.374, 15.865], ['N616', 14.432, 14.906, 15.8], ['N617', 13.409, 14.804, 18.804], ['C618', 13.781, 14.101, 20.049], ['C619', 12.704, 14.232, 21.123], ['O620', 13.034, 14.498, 22.302], ['C621', 15.128, 14.586, 20.651], ['C622', 16.291, 14.465, 19.672], ['O623', 16.801, 15.526, 19.232], ['N624', 16.508, 13.288, 19.145], ['N625', 11.457, 14.134, 20.721], ['C626', 10.296, 14.297, 21.626], ['C627', 10.041, 13.074, 22.526], ['O628', 9.149, 12.226, 22.272], ['C629', 9.045, 14.63, 20.793], ['C630', 7.866, 14.997, 21.682], ['O631', 8.047, 15.445, 22.842], ['O632', 6.713, 15.01, 21.193], ['N633', 10.918, 12.906, 23.477], ['C634', 10.897, 11.762, 24.393], ['C635', 11.393, 12.154, 25.788], ['O636', 12.308, 13.009, 25.94], ['C637', 11.734, 10.586, 23.789], ['C638', 11.598, 9.274, 24.603], ['C639', 13.204, 10.976, 23.503], ['C640', 12.268, 8.083, 23.895], ['N641', 10.737, 11.595, 26.778], ['C642', 10.982, 11.869, 28.191], ['C643', 10.859, 10.591, 29.03], ['O644', 9.905, 9.8, 28.808], ['C645', 9.904, 12.887, 28.626], ['C646', 9.945, 13.272, 30.109], ['S647', 8.68, 14.472, 30.581], ['C648', 7.235, 13.625, 29.993], ['N649', 11.687, 10.484, 30.06], ['C650', 11.663, 9.386, 31.052], ['C651', 11.159, 9.887, 32.401], ['O652', 11.561, 10.98, 32.854], ['C653', 13.086, 8.836, 31.269], ['C654', 13.444, 7.59, 30.416], ['C655', 12.557, 7.357, 29.184], ['C656', 14.949, 7.462, 30.118], ['N657', 10.278, 9.114, 33.005], ['C658', 9.711, 9.418, 34.324], ['C659', 9.919, 8.261, 35.289], ['O660', 9.376, 7.158, 35.059], ['C661', 8.214, 9.681, 34.19], ['C662', 7.965, 10.871, 33.237], ['C663', 7.555, 9.902, 35.558], ['C664', 6.481, 11.032, 32.886], ['N665', 10.674, 8.504, 36.343], ['C666', 10.85, 7.504, 37.409], ['C667', 9.784, 7.633, 38.496], ['O668', 9.554, 8.757, 39.009], ['C669', 12.243, 7.633, 38.051], ['C670', 12.54, 6.429, 38.971], ['C671', 13.931, 6.517, 39.601], ['C672', 14.293, 5.223, 40.353], ['N673', 15.627, 5.353, 40.937], ['N674', 9.19, 6.521, 38.856], ['C675', 8.191, 6.423, 39.928], ['C676', 8.835, 6.453, 41.312], ['O677', 9.948, 5.9, 41.494], ['C678', 7.392, 5.099, 39.792], ['C679', 6.695, 4.915, 38.429], ['C680', 6.036, 3.538, 38.29], ['C681', 5.699, 6.044, 38.145], ['N682', 8.156, 7.061, 42.258], ['C683', 8.618, 7.095, 43.662], ['C684', 8.736, 5.701, 44.279], ['O685', 9.685, 5.428, 45.059], ['C686', 7.633, 7.891, 44.538], ['C687', 7.853, 9.4, 44.388], ['C688', 6.922, 10.214, 45.304], ['C689', 7.156, 11.73, 45.161], ['N690', 6.267, 12.464, 46.07], ['N691', 7.843, 4.835, 43.851], ['C692', 7.813, 3.422, 44.243], ['C693', 7.562, 2.53, 43.039], ['O694', 6.907, 2.98, 42.074], ['C695', 6.688, 3.178, 45.273], ['O696', 6.913, 3.989, 46.434], ['N697', 8.027, 1.308, 43.107], ['C698', 7.79, 0.327, 42.046], ['C699', 6.337, -0.118, 41.994], ['O700', 5.711, -0.416, 43.046], ['C701', 8.705, -0.896, 42.223], ['N702', 5.83, -0.152, 40.789], ['C703', 4.499, -0.676, 40.465], ['C704', 4.41, -2.185, 40.701], ['O705', 5.417, -2.911, 40.503], ['C706', 4.187, -0.395, 38.979], ['N707', 3.239, -2.64, 41.075], ['C708', 2.946, -4.066, 41.235], ['C709', 2.442, -4.677, 39.926], ['O710', 1.332, -4.328, 39.442], ['C711', 1.893, -4.272, 42.345], ['O712', 2.275, -3.532, 43.512], ['N713', 3.311, -5.431, 39.295], ['C714', 3.034, -5.923, 37.947], ['C715', 2.222, -7.211, 37.938], ['O716', 2.722, -8.247, 38.438], ['C717', 4.337, -6.104, 37.15], ['C718', 5.117, -4.785, 36.981], ['C719', 6.429, -5.01, 36.234], ['C720', 4.297, -3.713, 36.262], ['N721', 1.05, -7.157, 37.313], ['C722', 0.175, -8.331, 37.047], ['C723', -0.29, -8.452, 35.591], ['O724', 0.346, -7.871, 34.682], ['C725', -1.029, -8.381, 38.016], ['C726', -1.985, -7.209, 37.821], ['O727', -1.591, -6.194, 37.201], ['N728', -2.88, -7.123, 38.784], ['N729', -1.272, -9.276, 35.315], ['C730', -1.802, -9.411, 33.946], ['C731', -2.442, -8.11, 33.443], ['O732', -2.478, -7.834, 32.215], ['C733', -2.886, -10.52, 33.907], ['O734', -3.957, -10.152, 34.811], ['N735', -2.968, -7.355, 34.37], ['C736', -3.645, -6.091, 34.07], ['C737', -2.738, -4.87, 34.093], ['O738', -3.055, -3.865, 33.414], ['C739', -4.841, -5.885, 35.002], ['C740', -5.939, -6.924, 34.713], ['C741', -7.117, -6.809, 35.694], ['N742', -8.218, -7.67, 35.24], ['C743', -9.114, -8.162, 36.071], ['N744', -9.063, -7.822, 37.345], ['N745', -10.085, -8.929, 35.619], ['N746', -1.608, -4.989, 34.765], ['C747', -0.552, -3.969, 34.779], ['C748', 0.802, -4.576, 34.455], ['O749', 1.383, -5.297, 35.294], ['C750', -0.475, -3.186, 36.119], ['C751', 0.704, -2.187, 36.154], ['C752', -1.804, -2.48, 36.467], ['N753', 1.235, -4.397, 33.256], ['C754', 2.469, -4.983, 32.773], ['C755', 3.377, -3.968, 32.104], ['O756', 2.887, -2.934, 31.599], ['C757', 2.13, -6.109, 31.773], ['N758', 4.622, -4.298, 31.962], ['C759', 5.519, -3.444, 31.162], ['C760', 5.535, -3.858, 29.696], ['O761', 5.293, -5.044, 29.387], ['C762', 6.947, -3.487, 31.714], ['O763', 7.401, -4.838, 31.675], ['N764', 5.901, -2.963, 28.832], ['C765', 6.08, -3.243, 27.41], ['C766', 7.563, -3.281, 27.054], ['O767', 8.356, -2.461, 27.593], ['C768', 5.335, -2.188, 26.561], ['C769', 5.251, -2.562, 25.062], ['C770', 5.859, -0.747, 26.785], ['C771', 4.419, -3.841, 24.836], ['N772', 7.943, -4.243, 26.224], ['C773', 9.344, -4.366, 25.83], ['C774', 9.803, -3.246, 24.903], ['O775', 9.09, -2.888, 23.946], ['C776', 9.623, -5.738, 25.159], ['O777', 9.272, -6.801, 26.052], ['N778', 11.036, -2.886, 25.08], ['C779', 11.771, -1.999, 24.19], ['C780', 12.227, -2.791, 22.967], ['O781', 12.509, -4.008, 23.083], ['C782', 13.014, -1.512, 24.952], ['C783', 12.932, -0.049, 25.403], ['C784', 11.504, 0.502, 25.511], ['C785', 13.776, 0.208, 26.656], ['N786', 12.244, -2.159, 21.828], ['C787', 12.583, -2.833, 20.571], ['C788', 14.06, -3.205, 20.487], ['O789', 14.913, -2.48, 21.056], ['C790', 12.272, -1.845, 19.435], ['C791', 11.936, -0.514, 20.1], ['C792', 11.906, -0.747, 21.621], ['N793', 14.353, -4.209, 19.673], ['C794', 15.722, -4.583, 19.309], ['C795', 16.046, -3.985, 17.949], ['O796', 17.232, -3.736, 17.625], ['C797', 15.837, -6.116, 19.177], ['O798', 15.061, -6.563, 18.056], ['C799', 15.35, -6.813, 20.461], ['N800', 15.019, -3.878, 17.149], ['C801', 15.098, -3.43, 15.752], ['C802', 14.056, -2.362, 15.474], ['O803', 12.994, -2.348, 16.139], ['C804', 14.802, -4.633, 14.835], ['O805', 13.477, -5.109, 15.103], ['N806', 14.279, -1.563, 14.461], ['C807', 13.26, -0.583, 14.039], ['C808', 12.205, -1.245, 13.178], ['O809', 12.565, -2.04, 12.283], ['C810', 13.904, 0.568, 13.244], ['S811', 15.125, 1.524, 14.164], ['N812', 10.962, -0.947, 13.421], ['C813', 9.89, -1.491, 12.588], ['C814', 9.833, -0.776, 11.238], ['O815', 10.12, 0.447, 11.139], ['C816', 8.535, -1.388, 13.306], ['N817', 9.501, -1.522, 10.224], ['C818', 9.456, -1.022, 8.851], ['C819', 8.059, -0.586, 8.425], ['O820', 7.048, -1.017, 9.032], ['C821', 9.923, -2.15, 7.895], ['O822', 11.258, -2.576, 8.237], ['N823', 8.022, 0.199, 7.359], ['C824', 6.782, 0.593, 6.703], ['C825', 5.95, -0.624, 6.31], ['O826', 6.501, -1.631, 5.794], ['C827', 7.113, 1.384, 5.427], ['N828', 4.681, -0.556, 6.6], ['C829', 3.769, -1.645, 6.294], ['C830', 3.412, -2.453, 7.53], ['O831', 2.357, -3.135, 7.531], ['N832', 4.209, -2.308, 8.563], ['C833', 3.904, -2.949, 9.858], ['C834', 2.668, -2.336, 10.52], ['O835', 2.625, -1.096, 10.717], ['C836', 5.124, -2.83, 10.809], ['O837', 6.31, -3.38, 10.194], ['C838', 4.9, -3.515, 12.174], ['N839', 1.749, -3.191, 10.922], ['C840', 0.546, -2.803, 11.645], ['C841', 0.796, -2.659, 13.149], ['O842', 1.442, -3.532, 13.781], ['C843', -0.572, -3.833, 11.402], ['C844', -1.955, -3.323, 11.881], ['C845', -2.992, -4.441, 11.807], ['O846', -2.96, -5.374, 12.649], ['N847', -3.999, -4.22, 10.985], ['N848', 0.385, -1.535, 13.695], ['C849', 0.636, -1.189, 15.097], ['C850', -0.628, -0.821, 15.857], ['O851', -1.666, -0.491, 15.249], ['C852', 1.665, -0.039, 15.175], ['S853', 3.204, -0.318, 14.27], ['N854', -0.539, -0.818, 17.15], ['C855', -1.66, -0.44, 18.003], ['C856', -1.326, 0.851, 18.753], ['O857', -0.306, 0.921, 19.49], ['C858', -1.872, -1.539, 19.044], ['C859', -3.071, -1.257, 19.962], ['C860', -4.384, -1.236, 19.174], ['C861', -3.119, -2.241, 21.146], ['N862', -2.182, 1.823, 18.538], ['C863', -2.088, 3.139, 19.158], ['C864', -3.263, 3.334, 20.095], ['O865', -4.387, 2.906, 19.756], ['C866', -2.083, 4.24, 18.072], ['C867', -0.985, 3.988, 17.022], ['C868', -1.963, 5.665, 18.664], ['C869', -1.151, 4.872, 15.769], ['N870', -3.024, 3.82, 21.293], ['C871', -4.111, 3.933, 22.285], ['C872', -4.027, 5.206, 23.139], ['O873', -2.945, 5.81, 23.268], ['C874', -4.096, 2.679, 23.191], ['O875', -2.769, 2.483, 23.682], ['N876', -5.144, 5.639, 23.666], ['C877', -5.177, 6.814, 24.531], ['C878', -6.574, 7.327, 24.818], ['O879', -7.575, 6.821, 24.259], ['N880', -6.601, 8.349, 25.649], ['C881', -7.826, 8.998, 26.113], ['C882', -8.056, 10.355, 25.454], ['O883', -8.83, 11.177, 25.994], ['C884', -7.762, 9.191, 27.648], ['C885', -7.911, 7.869, 28.428], ['C886', -9.05, 7.22, 28.732], ['C887', -6.889, 7.124, 29.021], ['N888', -8.762, 6.088, 29.502], ['C889', -7.501, 6.028, 29.665], ['C890', -5.514, 7.336, 29.078], ['C891', -6.772, 5.08, 30.364], ['C892', -4.78, 6.387, 29.788], ['C893', -5.39, 5.288, 30.414], ['N894', -7.415, 10.576, 24.326], ['C895', -7.516, 11.862, 23.607], ['C896', -8.837, 12.089, 22.883], ['O897', -9.708, 11.184, 22.825], ['N898', -8.964, 13.286, 22.339], ['C899', -10.145, 13.723, 21.579], ['C900', -10.505, 12.759, 20.446], ['O901', -9.591, 12.239, 19.748], ['C902', -9.88, 15.149, 21.026], ['C903', -11.097, 15.733, 20.316], ['O904', -12.26, 15.333, 20.546], ['N905', -10.827, 16.824, 19.625], ['N906', -11.78, 12.461, 20.371], ['C907', -12.314, 11.508, 19.39], ['C908', -12.94, 12.169, 18.165], ['O909', -13.4, 11.443, 17.243], ['C910', -13.36, 10.58, 20.009], ['O911', -14.49, 11.351, 20.427], ['C912', -12.786, 9.756, 21.185], ['N913', -12.897, 13.491, 18.123], ['C914', -13.427, 14.216, 16.961], ['C915', -12.383, 15.028, 16.187], ['O916', -11.455, 15.626, 16.793], ['C917', -14.614, 15.106, 17.374], ['C918', -15.724, 14.287, 18.058], ['C919', -16.226, 13.113, 17.196], ['C920', -17.049, 12.115, 18.03], ['N921', -17.276, 10.886, 17.261], ['N922', -12.495, 14.994, 14.865], ['C923', -11.565, 15.707, 13.977], ['C924', -11.959, 17.173, 13.856], ['O925', -11.108, 18.063, 13.6], ['C926', -11.579, 15.083, 12.575], ['O927', -12.829, 15.384, 11.939], ['N928', -13.222, 17.409, 14.098], ['C929', -13.797, 18.753, 14.167], ['C930', -14.663, 18.861, 15.413], ['O931', -15.521, 17.97, 15.647], ['C932', -14.645, 19.023, 12.909], ['O933', -13.838, 18.818, 11.74], ['N934', -14.278, 19.75, 16.286], ['C935', -14.91, 19.854, 17.602], ['C936', -14.24, 18.954, 18.637], ['O937', -13.088, 18.489, 18.418], ['N938', -14.845, 18.93, 19.802], ['C939', -14.257, 18.389, 21.032], ['C940', -15.145, 17.354, 21.72], ['O941', -16.282, 17.682, 22.148], ['C942', -14.047, 19.584, 21.979], ['O943', -13.247, 20.578, 21.323], ['C944', -13.399, 19.191, 23.318], ['N945', -14.593, 16.168, 21.917], ['C946', -15.243, 15.111, 22.706], ['C947', -14.282, 14.078, 23.279], ['O948', -13.71, 13.253, 22.528], ['C949', -16.298, 14.363, 21.898], ['O950', -16.914, 13.42, 22.769], ['N951', -14.056, 14.204, 24.558], ['C952', -13.096, 13.376, 25.263], ['C953', -13.786, 12.191, 25.921], ['O954', -14.781, 12.402, 26.657], ['C955', -12.362, 14.216, 26.317], ['C956', -11.33, 15.159, 25.673], ['C957', -9.994, 14.825, 25.712], ['C958', -11.727, 16.328, 25.065], ['C959', -9.047, 15.652, 25.122], ['C960', -10.79, 17.162, 24.473], ['C961', -9.45, 16.813, 24.499], ['O962', -8.47, 17.677, 23.902], ['N963', -13.292, 11.0, 25.634], ['C964', -13.799, 9.727, 26.186], ['C965', -13.349, 9.567, 27.637], ['O966', -12.228, 10.005, 28.006], ['C967', -13.098, 8.606, 25.387], ['C968', -11.938, 9.261, 24.623], ['C969', -12.112, 10.775, 24.785], ['N970', -14.102, 8.838, 28.401], ['C971', -13.623, 8.481, 29.733], ['C972', -12.858, 7.154, 29.74], ['O973', -12.047, 6.916, 30.669], ['C974', -14.781, 8.449, 30.76], ['C975', -15.345, 9.854, 30.945], ['O976', -14.574, 10.831, 30.842], ['O977', -16.577, 10.067, 30.836], ['N978', -13.101, 6.32, 28.739], ['C979', -12.439, 5.003, 28.606], ['C980', -11.417, 4.929, 27.477], ['O981', -11.448, 5.785, 26.559], ['C982', -13.454, 3.864, 28.415], ['C983', -14.353, 3.656, 29.645], ['C984', -14.279, 4.05, 27.126], ['N985', -10.505, 3.998, 27.598], ['C986', -9.362, 3.858, 26.681], ['C987', -9.827, 3.53, 25.261], ['O988', -10.595, 2.552, 25.076], ['C989', -8.482, 2.676, 27.148], ['C990', -6.965, 2.951, 27.232], ['C991', -6.079, 1.707, 27.122], ['C992', -6.412, 4.129, 26.431], ['N993', -9.335, 4.295, 24.307], ['C994', -9.602, 4.069, 22.879], ['C995', -8.375, 3.525, 22.158], ['O996', -7.23, 3.799, 22.576], ['C997', -10.068, 5.362, 22.182], ['C998', -11.377, 5.932, 22.743], ['C999', -12.562, 5.03, 22.388], ['C1000', -13.883, 5.634, 22.891], ['N1001', -15.011, 4.775, 22.5], ['N1002', -8.61, 2.648, 21.211], ['C1003', -7.555, 1.946, 20.471], ['C1004', -7.681, 2.14, 18.96], ['O1005', -8.791, 2.407, 18.461], ['C1006', -7.616, 0.424, 20.76], ['S1007', -6.808, -0.087, 22.282], ['N1008', -6.579, 2.033, 18.263], ['C1009', -6.521, 2.202, 16.797], ['C1010', -5.422, 1.319, 16.226], ['O1011', -4.248, 1.493, 16.627], ['C1012', -6.204, 3.687, 16.458], ['C1013', -6.125, 3.972, 14.937], ['C1014', -7.413, 3.593, 14.192], ['C1015', -5.731, 5.426, 14.62], ['N1016', -5.753, 0.483, 15.268], ['C1017', -4.719, -0.23, 14.515], ['C1018', -4.361, 0.522, 13.239], ['O1019', -5.279, 0.969, 12.507], ['C1020', -5.166, -1.652, 14.163], ['C1021', -5.313, -2.52, 15.425], ['C1022', -5.791, -3.936, 15.05], ['C1023', -6.037, -4.82, 16.281], ['N1024', -6.402, -6.181, 15.836], ['N1025', -3.098, 0.829, 13.091], ['C1026', -2.62, 1.652, 11.966], ['C1027', -1.261, 1.185, 11.466], ['O1028', -0.398, 0.785, 12.279], ['C1029', -2.509, 3.117, 12.427], ['N1030', -1.053, 1.243, 10.181], ['C1031', 0.243, 0.933, 9.543], ['C1032', 1.27, 2.051, 9.716], ['O1033', 0.941, 3.252, 9.541], ['C1034', -0.023, 0.845, 8.027], ['C1035', -1.44, 1.395, 7.801], ['C1036', -2.069, 1.631, 9.183], ['N1037', 2.506, 1.658, 9.799], ['C1038', 3.612, 2.584, 9.615], ['C1039', 3.758, 2.9, 8.137], ['O1040', 3.781, 1.953, 7.311], ['C1041', 4.933, 2.009, 10.161], ['C1042', 4.807, 1.723, 11.674], ['C1043', 6.141, 2.936, 9.868], ['C1044', 6.099, 1.156, 12.282], ['N1045', 3.723, 4.17, 7.811], ['C1046', 3.889, 4.653, 6.436], ['C1047', 5.351, 4.75, 6.022], ['O1048', 6.27, 4.809, 6.884], ['C1049', 3.244, 6.053, 6.295], ['C1050', 1.737, 6.006, 6.621], ['C1051', 1.083, 7.39, 6.569], ['C1052', 0.972, 5.017, 5.726], ['N1053', 5.579, 4.772, 4.733], ['C1054', 6.935, 4.962, 4.238], ['C1055', 7.476, 6.354, 4.55], ['O1056', 6.695, 7.336, 4.563], ['C1057', 6.981, 4.772, 2.707], ['O1058', 6.202, 5.796, 2.074], ['N1059', 8.778, 6.408, 4.722], ['C1060', 9.557, 7.637, 4.878], ['C1061', 9.21, 8.667, 3.803], ['O1062', 9.016, 9.871, 4.104], ['C1063', 11.028, 7.228, 4.718], ['C1064', 11.909, 8.467, 4.639], ['O1065', 12.7, 8.702, 5.586], ['O1066', 12.111, 8.896, 3.41], ['N1067', 9.079, 8.167, 2.59], ['C1068', 8.729, 8.948, 1.404], ['C1069', 7.372, 9.609, 1.543], ['O1070', 7.258, 10.846, 1.34], ['C1071', 8.716, 8.029, 0.152], ['O1072', 9.979, 7.359, 0.044], ['N1073', 6.391, 8.82, 1.902], ['C1074', 5.037, 9.33, 2.064], ['C1075', 4.949, 10.29, 3.247], ['O1076', 4.218, 11.307, 3.182], ['C1077', 3.992, 8.196, 2.186], ['O1078', 4.212, 7.438, 3.382], ['N1079', 5.783, 10.036, 4.228], ['C1080', 5.812, 10.878, 5.424], ['C1081', 6.394, 12.268, 5.13], ['O1082', 5.789, 13.313, 5.492], ['C1083', 6.617, 10.168, 6.538], ['S1084', 6.487, 10.899, 8.184], ['N1085', 7.55, 12.274, 4.499], ['C1086', 8.253, 13.507, 4.158], ['C1087', 7.508, 14.286, 3.085], ['O1088', 7.569, 15.539, 3.069], ['C1089', 9.711, 13.22, 3.71], ['C1090', 10.57, 12.656, 4.855], ['C1091', 12.059, 12.575, 4.484], ['C1092', 12.916, 11.931, 5.588], ['N1093', 12.843, 12.708, 6.828], ['N1094', 6.721, 13.591, 2.302], ['C1095', 5.917, 14.267, 1.289], ['C1096', 4.642, 14.875, 1.854], ['O1097', 4.217, 15.961, 1.379], ['C1098', 5.583, 13.324, 0.119], ['O1099', 4.737, 12.267, 0.579], ['N1100', 4.16, 14.314, 2.942], ['C1101', 3.036, 14.905, 3.687], ['C1102', 3.468, 16.134, 4.489], ['O1103', 2.666, 17.082, 4.643], ['C1104', 2.394, 13.886, 4.646], ['N1105', 4.669, 16.086, 5.036], ['C1106', 5.229, 17.14, 5.907], ['C1107', 6.593, 17.626, 5.446], ['O1108', 7.608, 17.364, 6.128], ['C1109', 5.399, 16.632, 7.35], ['C1110', 4.039, 16.293, 7.994], ['C1111', 3.612, 14.981, 8.122], ['C1112', 3.248, 17.324, 8.452], ['C1113', 2.401, 14.708, 8.751], ['C1114', 2.042, 17.064, 9.061], ['C1115', 1.634, 15.759, 9.235], ['O1116', 0.412, 15.509, 9.91], ['N1117', 6.647, 18.293, 4.301], ['C1118', 7.912, 18.734, 3.712], ['C1119', 8.739, 19.587, 4.671], ['O1120', 8.191, 20.546, 5.259], ['C1121', 7.573, 19.529, 2.435], ['C1122', 6.045, 19.539, 2.301], ['C1123', 5.501, 18.748, 3.49], ['N1124', 9.982, 19.2, 4.848], ['C1125', 10.94, 19.924, 5.691], ['C1126', 10.782, 19.716, 7.192], ['O1127', 11.457, 20.428, 7.979], ['N1128', 9.821, 18.904, 7.592], ['C1129', 9.507, 18.747, 9.012], ['C1130', 9.883, 17.385, 9.581], ['O1131', 9.974, 17.243, 10.823], ['C1132', 8.012, 18.995, 9.227], ['C1133', 7.682, 20.462, 8.85], ['C1134', 6.205, 20.638, 8.53], ['O1135', 5.824, 20.61, 7.327], ['N1136', 5.404, 20.657, 9.559], ['N1137', 10.056, 16.381, 8.747], ['C1138', 10.361, 15.062, 9.302], ['C1139', 11.86, 14.82, 9.438], ['O1140', 12.606, 14.94, 8.44], ['C1141', 9.695, 13.968, 8.462], ['C1142', 8.197, 14.275, 8.26], ['C1143', 9.955, 12.546, 9.025], ['C1144', 7.387, 14.282, 9.57], ['N1145', 12.295, 14.439, 10.615], ['C1146', 13.68, 14.048, 10.877], ['C1147', 13.819, 12.531, 10.987], ['O1148', 12.779, 11.824, 10.992], ['C1149', 14.158, 14.649, 12.214], ['O1150', 13.602, 13.922, 13.333], ['C1151', 13.869, 16.163, 12.31], ['N1152', 15.04, 12.073, 11.116], ['C1153', 15.364, 10.643, 11.273], ['C1154', 14.67, 10.001, 12.469], ['O1155', 14.686, 8.754, 12.611], ['C1156', 16.88, 10.499, 11.504], ['O1157', 17.195, 11.009, 12.807], ['N1158', 14.311, 10.844, 13.42], ['C1159', 13.822, 10.411, 14.734], ['C1160', 12.311, 10.386, 14.766], ['O1161', 11.701, 10.287, 15.864], ['C1162', 14.304, 11.383, 15.804], ['C1163', 15.826, 11.324, 15.832], ['O1164', 16.387, 10.202, 15.826], ['N1165', 16.453, 12.471, 16.034], ['N1166', 11.738, 10.49, 13.588], ['C1167', 10.281, 10.472, 13.464], ['C1168', 9.807, 9.395, 12.494], ['O1169', 10.456, 9.196, 11.435], ['C1170', 9.745, 11.827, 12.958], ['C1171', 10.155, 13.012, 13.849], ['S1172', 9.7, 14.645, 13.222], ['C1173', 10.471, 15.638, 14.515], ['N1174', 8.576, 9.001, 12.678], ['C1175', 7.849, 8.275, 11.634], ['C1176', 6.385, 8.668, 11.546], ['O1177', 5.8, 9.117, 12.557], ['C1178', 8.027, 6.729, 11.687], ['C1179', 7.344, 6.024, 12.881], ['C1180', 6.037, 5.6, 12.791], ['C1181', 8.05, 5.793, 14.032], ['C1182', 5.426, 4.957, 13.858], ['C1183', 7.447, 5.157, 15.106], ['C1184', 6.137, 4.74, 15.022], ['N1185', 5.798, 8.417, 10.387], ['C1186', 4.361, 8.59, 10.208], ['C1187', 3.665, 7.244, 10.274], ['O1188', 4.183, 6.222, 9.755], ['C1189', 3.957, 9.263, 8.878], ['S1190', 4.49, 10.976, 8.582], ['N1191', 2.508, 7.287, 10.849], ['C1192', 1.607, 6.139, 10.891], ['C1193', 0.163, 6.588, 10.76], ['O1194', -0.195, 7.707, 11.198], ['C1195', 1.796, 5.308, 12.179], ['N1196', -0.626, 5.755, 10.137], ['C1197', -2.016, 6.103, 9.946], ['C1198', -2.407, 5.979, 8.486], ['O1199', -1.974, 5.012, 7.802], ['N1200', -3.361, 6.8, 8.146], ['C1201', -4.097, 6.744, 6.875], ['C1202', -4.089, 8.094, 6.159], ['O1203', -4.515, 9.121, 6.743], ['C1204', -5.561, 6.328, 7.151], ['C1205', -5.638, 4.965, 7.865], ['C1206', -5.696, 4.898, 9.245], ['C1207', -5.61, 3.805, 7.122], ['C1208', -5.715, 3.667, 9.892], ['C1209', -5.643, 2.569, 7.759], ['C1210', -5.686, 2.507, 9.143], ['O1211', -5.709, 1.239, 9.8], ['N1212', -3.529, 8.105, 4.98], ['C1213', -3.41, 9.318, 4.158], ['C1214', -4.789, 9.809, 3.717], ['O1215', -4.985, 11.012, 3.413], ['C1216', -2.557, 8.991, 2.912], ['C1217', -1.085, 8.672, 3.242], ['C1218', -0.384, 7.937, 2.085], ['C1219', -0.306, 9.931, 3.675], ['N1220', -5.754, 8.91, 3.77], ['C1221', -7.166, 9.21, 3.492], ['C1222', -7.801, 9.986, 4.643], ['O1223', -8.841, 10.672, 4.477], ['C1224', -7.907, 7.873, 3.289], ['C1225', -9.375, 8.068, 2.884], ['C1226', -9.937, 6.736, 2.396], ['O1227', -9.363, 6.126, 1.457], ['O1228', -11.16, 6.467, 2.803], ['N1229', -7.155, 9.91, 5.784], ['C1230', -7.676, 10.526, 7.006], ['C1231', -8.747, 9.659, 7.674], ['O1232', -8.883, 8.451, 7.347], ['N1233', -9.5, 10.264, 8.564], ['C1234', -10.601, 9.606, 9.275], ['C1235', -10.178, 8.882, 10.552], ['O1236', -11.027, 8.663, 11.443], ['N1237', -8.96, 8.397, 10.576], ['C1238', -8.417, 7.612, 11.7], ['C1239', -7.039, 8.124, 12.101], ['O1240', -6.118, 8.17, 11.244], ['C1241', -8.283, 6.113, 11.339], ['C1242', -9.615, 5.465, 10.9], ['C1243', -9.447, 3.954, 10.631], ['C1244', -10.759, 3.251, 10.247], ['N1245', -10.503, 1.818, 10.052], ['N1246', -6.914, 8.542, 13.355], ['C1247', -5.656, 9.124, 13.831], ['C1248', -5.567, 9.116, 15.363], ['O1249', -6.626, 9.048, 16.035], ['C1250', -5.642, 10.595, 13.323], ['C1251', -4.251, 11.201, 13.168], ['O1252', -4.119, 12.307, 12.59], ['O1253', -3.217, 10.602, 13.519], ['N1254', -4.434, 9.542, 15.859], ['C1255', -4.342, 10.03, 17.24], ['C1256', -4.657, 11.535, 17.309], ['O1257', -4.709, 12.231, 16.257], ['C1258', -2.93, 9.771, 17.754], ['O1259', -2.005, 10.522, 16.961], ['N1260', -4.971, 12.027, 18.489], ['C1261', -5.41, 13.417, 18.673], ['C1262', -4.969, 14.015, 20.015], ['O1263', -4.113, 13.413, 20.711], ['C1264', -6.937, 13.484, 18.455], ['S1265', -7.625, 15.069, 17.907], ['N1266', -5.379, 15.238, 20.288], ['C1267', -5.006, 15.959, 21.501], ['C1268', -5.399, 15.135, 22.715], ['O1269', -6.584, 14.761, 22.857], ['C1270', -5.769, 17.294, 21.558], ['C1271', -5.529, 18.125, 20.276], ['C1272', -6.893, 18.497, 19.691], ['O1273', -7.04, 18.587, 18.447], ['N1274', -7.815, 18.833, 20.577], ['N1275', -4.452, 14.909, 23.559], ['C1276', -4.683, 14.14, 24.775], ['C1277', -4.089, 12.746, 24.661], ['O1278', -3.897, 12.081, 25.701], ['N1279', -3.83, 12.305, 23.431], ['C1280', -3.166, 11.018, 23.177], ['C1281', -1.661, 11.123, 23.326], ['O1282', -0.95, 10.085, 23.376], ['C1283', -3.449, 10.526, 21.75], ['C1284', -4.91, 10.129, 21.636], ['O1285', -5.518, 10.287, 20.558], ['O1286', -5.476, 9.545, 22.586], ['N1287', -1.189, 12.357, 23.322], ['C1288', 0.262, 12.692, 23.36], ['C1289', 1.045, 11.945, 24.426], ['O1290', 0.572, 11.825, 25.58], ['C1291', 0.472, 14.185, 23.672], ['O1292', 0.018, 14.954, 22.559], ['N1293', 2.192, 11.458, 24.05], ['C1294', 3.032, 10.7, 24.979], ['C1295', 2.702, 9.209, 25.027], ['O1296', 3.483, 8.44, 25.623], ['N1297', 1.574, 8.808, 24.453], ['C1298', 1.135, 7.404, 24.499], ['C1299', 1.854, 6.474, 23.519], ['O1300', 2.681, 6.932, 22.7], ['N1301', 1.631, 5.181, 23.677], ['C1302', 2.341, 4.105, 22.95], ['C1303', 1.893, 3.918, 21.498], ['O1304', 0.672, 3.841, 21.22], ['C1305', 1.979, 2.782, 23.67], ['C1306', 0.847, 3.102, 24.657], ['C1307', 0.698, 4.634, 24.674], ['N1308', 2.848, 3.498, 20.706], ['C1309', 2.617, 2.82, 19.437], ['C1310', 3.369, 1.486, 19.43], ['O1311', 4.624, 1.484, 19.547], ['C1312', 3.083, 3.654, 18.221], ['C1313', 2.737, 2.961, 16.894], ['C1314', 2.577, 5.107, 18.251], ['N1315', 2.614, 0.424, 19.577], ['C1316', 3.173, -0.921, 19.8], ['C1317', 2.974, -1.816, 18.592], ['O1318', 1.815, -2.003, 18.15], ['C1319', 2.535, -1.556, 21.038], ['C1320', 2.875, -3.052, 21.192], ['C1321', 2.931, -0.746, 22.288], ['N1322', 4.075, -2.294, 18.073], ['C1323', 4.105, -3.151, 16.881], ['C1324', 4.768, -4.472, 17.226], ['O1325', 5.886, -4.442, 17.792], ['C1326', 4.94, -2.448, 15.789], ['S1327', 4.691, -0.659, 15.643], ['N1328', 4.086, -5.564, 16.936], ['C1329', 4.606, -6.902, 17.253], ['C1330', 5.113, -7.049, 18.685], ['O1331', 6.191, -7.659, 18.889], ['C1332', 5.751, -7.298, 16.295], ['O1333', 5.351, -7.09, 14.932], ['N1334', 4.36, -6.504, 19.616], ['C1335', 4.641, -6.632, 21.046], ['C1336', 5.796, -5.771, 21.551], ['O1337', 6.197, -5.899, 22.742], ['N1338', 6.303, -4.88, 20.72], ['C1339', 7.376, -3.969, 21.172], ['C1340', 6.954, -2.502, 21.037], ['O1341', 6.162, -2.163, 20.117], ['C1342', 8.674, -4.167, 20.36], ['C1343', 9.168, -5.633, 20.34], ['C1344', 9.613, -6.189, 21.712], ['C1345', 11.066, -6.724, 21.644], ['N1346', 11.496, -7.282, 22.927], ['N1347', 7.472, -1.668, 21.925], ['C1348', 7.198, -0.228, 21.861], ['C1349', 7.995, 0.439, 20.742], ['O1350', 9.199, 0.727, 20.937], ['C1351', 7.551, 0.435, 23.213], ['C1352', 7.194, 1.946, 23.267], ['C1353', 5.687, 2.214, 23.207], ['C1354', 7.861, 2.629, 24.48], ['N1355', 7.349, 0.736, 19.631], ['C1356', 8.028, 1.402, 18.509], ['C1357', 7.872, 2.92, 18.432], ['O1358', 8.757, 3.605, 17.865], ['C1359', 7.656, 0.784, 17.154], ['C1360', 8.1, -0.695, 17.024], ['C1361', 9.618, -0.846, 16.828], ['O1362', 10.103, -2.001, 16.764], ['N1363', 10.247, 0.154, 16.295], ['N1364', 6.765, 3.424, 18.931], ['C1365', 6.482, 4.858, 18.819], ['C1366', 5.939, 5.508, 20.089], ['O1367', 5.382, 4.831, 20.988], ['N1368', 5.981, 6.821, 20.059], ['C1369', 5.364, 7.721, 21.04], ['C1370', 4.566, 8.791, 20.307], ['O1371', 5.149, 9.472, 19.423], ['C1372', 6.438, 8.412, 21.925], ['C1373', 7.362, 7.396, 22.62], ['C1374', 5.793, 9.34, 22.973], ['C1375', 8.535, 8.098, 23.3], ['N1376', 3.296, 8.896, 20.643], ['C1377', 2.406, 9.925, 20.067], ['C1378', 2.951, 11.345, 20.253], ['O1379', 3.205, 11.802, 21.4], ['C1380', 0.983, 9.811, 20.624], ['C1381', 0.058, 10.84, 19.961], ['C1382', 0.392, 8.381, 20.568], ['N1383', 3.39, 11.914, 19.145], ['C1384', 4.158, 13.158, 19.174], ['C1385', 3.412, 14.354, 18.586], ['O1386', 3.067, 15.294, 19.341], ['C1387', 5.518, 12.981, 18.484], ['O1388', 6.253, 14.198, 18.606], ['N1389', 3.207, 14.383, 17.287], ['C1390', 2.499, 15.516, 16.676], ['C1391', 1.771, 15.202, 15.371], ['O1392', 1.645, 14.022, 14.977], ['C1393', 3.445, 16.716, 16.451], ['C1394', 4.626, 16.449, 15.499], ['C1395', 5.798, 15.858, 15.766], ['C1396', 4.736, 16.891, 14.172], ['N1397', 6.627, 15.892, 14.64], ['C1398', 6.007, 16.501, 13.712], ['C1399', 3.845, 17.586, 13.365], ['C1400', 6.444, 16.771, 12.425], ['C1401', 4.291, 17.859, 12.075], ['C1402', 5.55, 17.464, 11.623], ['N1403', 1.179, 16.239, 14.792], ['C1404', 0.442, 16.141, 13.533], ['C1405', -0.158, 17.495, 13.18], ['O1406', -0.147, 18.418, 14.03], ['N1407', -0.705, 17.603, 12.002], ['C1408', -1.401, 18.832, 11.652], ['C1409', -2.904, 18.665, 11.791], ['O1410', -3.53, 17.996, 10.939], ['C1411', -1.031, 19.287, 10.236], ['O1412', -1.696, 20.538, 10.03], ['N1413', -3.402, 18.998, 12.949], ['C1414', -4.77, 18.626, 13.33], ['C1415', -4.899, 17.115, 13.552], ['O1416', -3.886, 16.436, 13.835], ['N1417', -6.085, 16.585, 13.404], ['C1418', -6.343, 15.143, 13.59], ['C1419', -7.164, 14.593, 12.438], ['O1420', -8.247, 15.156, 12.152], ['C1421', -7.139, 14.912, 14.894], ['S1422', -6.417, 15.667, 16.36], ['N1423', -6.78, 13.43, 11.981], ['C1424', -7.55, 12.597, 11.049], ['C1425', -7.889, 13.33, 9.756], ['O1426', -8.883, 12.991, 9.064], ['C1427', -8.843, 12.09, 11.713], ['N1428', -7.105, 14.355, 9.46], ['C1429', -7.271, 15.1, 8.214], ['C1430', -6.545, 14.38, 7.068], ['O1431', -5.5, 13.709, 7.28], ['C1432', -6.75, 16.554, 8.392], ['C1433', -7.854, 17.642, 8.575], ['C1434', -8.764, 17.392, 9.778], ['O1435', -9.766, 16.641, 9.659], ['N1436', -8.526, 18.124, 10.85], ['N1437', -7.104, 14.528, 5.879], ['C1438', -6.561, 13.987, 4.634], ['C1439', -5.138, 14.461, 4.392], ['O1440', -4.86, 15.677, 4.528], ['C1441', -7.448, 14.491, 3.463], ['C1442', -7.1, 13.821, 2.124], ['C1443', -7.936, 14.402, 0.967], ['C1444', -7.577, 13.756, -0.385], ['N1445', -8.353, 14.375, -1.466], ['N1446', -4.275, 13.533, 4.091], ['C1447', -2.845, 13.743, 3.804], ['C1448', -2.065, 14.334, 4.971], ['O1449', -0.928, 14.835, 4.773], ['C1450', -2.607, 14.592, 2.537], ['C1451', -2.898, 13.751, 1.288], ['O1452', -2.033, 12.936, 0.88], ['N1453', -3.907, 14.176, 0.56], ['N1454', -2.636, 14.229, 6.163], ['C1455', -1.949, 14.703, 7.375], ['C1456', -1.937, 13.665, 8.496], ['O1457', -2.693, 13.835, 9.481], ['C1458', -2.615, 15.989, 7.911], ['C1459', -2.441, 17.197, 6.965], ['C1460', -0.944, 17.54, 6.806], ['C1461', -0.721, 18.711, 5.825], ['N1462', 0.703, 19.045, 5.741], ['N1463', -1.155, 12.602, 8.341], ['C1464', -1.122, 11.482, 9.304], ['C1465', -0.479, 11.901, 10.62], ['O1466', 0.297, 12.886, 10.639], ['C1467', -0.258, 10.374, 8.681], ['C1468', 0.394, 10.969, 7.43], ['C1469', -0.21, 12.36, 7.227], ['N1470', -0.623, 11.069, 11.636], ['C1471', 0.11, 11.272, 12.879], ['C1472', 1.608, 11.072, 12.72], ['O1473', 2.024, 10.196, 11.924], ['N1474', 2.365, 11.853, 13.475], ['C1475', 3.824, 11.772, 13.569], ['C1476', 4.302, 11.354, 14.963], ['O1477', 3.717, 11.778, 15.991], ['C1478', 4.505, 13.085, 13.134], ['C1479', 6.037, 12.93, 12.965], ['C1480', 3.847, 13.68, 11.869], ['N1481', 5.149, 10.351, 14.967], ['C1482', 5.505, 9.602, 16.178], ['C1483', 7.01, 9.585, 16.388], ['O1484', 7.785, 9.501, 15.406], ['C1485', 4.986, 8.137, 16.024], ['C1486', 3.451, 8.095, 15.897], ['C1487', 2.672, 8.155, 17.024], ['C1488', 2.855, 8.096, 14.648], ['C1489', 1.296, 8.198, 16.927], ['C1490', 1.47, 8.161, 14.53], ['C1491', 0.695, 8.215, 15.676], ['O1492', -0.718, 8.264, 15.579], ['N1493', 7.422, 9.651, 17.623], ['C1494', 8.825, 9.538, 17.986], ['C1495', 9.31, 8.108, 17.749], ['O1496', 8.617, 7.159, 18.174], ['C1497', 9.04, 9.967, 19.472], ['O1498', 8.51, 11.286, 19.683], ['C1499', 10.521, 9.962, 19.873], ['N1500', 10.428, 7.973, 17.063], ['C1501', 10.997, 6.654, 16.685], ['C1502', 11.856, 6.053, 17.784], ['O1503', 13.077, 6.305, 17.834], ['C1504', 11.825, 6.837, 15.413], ['C1505', 12.039, 5.547, 14.606], ['C1506', 12.673, 5.932, 13.257], ['C1507', 12.614, 4.795, 12.238], ['N1508', 13.233, 5.227, 10.979], ['N1509', 11.2, 5.371, 18.696], ['C1510', 11.8, 4.832, 19.921], ['C1511', 13.06, 3.988, 19.695], ['O1512', 13.98, 4.005, 20.543], ['C1513', 10.718, 4.059, 20.729], ['C1514', 11.256, 3.338, 21.991], ['C1515', 9.515, 4.95, 21.09], ['N1516', 13.133, 3.266, 18.582], ['C1517', 14.294, 2.404, 18.345], ['C1518', 15.614, 3.173, 18.304], ['O1519', 16.67, 2.585, 18.64], ['C1520', 14.14, 1.576, 17.055], ['S1521', 14.061, 2.556, 15.556], ['N1522', 15.548, 4.483, 18.038], ['C1523', 16.746, 5.33, 18.003], ['C1524', 17.247, 5.698, 19.4], ['O1525', 18.362, 6.265, 19.53], ['C1526', 16.471, 6.648, 17.232], ['C1527', 16.294, 6.404, 15.736], ['O1528', 16.448, 5.261, 15.259], ['N1529', 16.101, 7.479, 15.004], ['N1530', 16.407, 5.46, 20.378], ['C1531', 16.648, 5.928, 21.748], ['C1532', 16.952, 4.848, 22.778], ['O1533', 17.073, 5.165, 23.984], ['C1534', 15.467, 6.778, 22.251], ['C1535', 15.241, 8.027, 21.375], ['C1536', 16.063, 9.125, 21.502], ['C1537', 14.235, 8.023, 20.435], ['C1538', 15.909, 10.215, 20.665], ['C1539', 14.073, 9.109, 19.589], ['C1540', 14.925, 10.193, 19.697], ['O1541', 14.737, 11.311, 18.839], ['N1542', 16.933, 3.613, 22.35], ['C1543', 17.059, 2.476, 23.284], ['C1544', 18.313, 2.558, 24.156], ['O1545', 18.223, 2.344, 25.389], ['C1546', 16.987, 1.132, 22.514], ['C1547', 17.316, -0.058, 23.429], ['C1548', 15.613, 0.929, 21.833], ['N1549', 19.419, 2.917, 23.552], ['C1550', 20.701, 3.027, 24.241], ['C1551', 20.644, 4.119, 25.299], ['O1552', 21.069, 3.874, 26.456], ['C1553', 21.865, 3.31, 23.266], ['O1554', 21.905, 2.286, 22.264], ['N1555', 20.017, 5.214, 24.94], ['C1556', 19.836, 6.344, 25.871], ['C1557', 18.958, 5.946, 27.051], ['O1558', 19.374, 6.174, 28.217], ['C1559', 19.226, 7.567, 25.163], ['C1560', 18.872, 8.695, 26.155], ['C1561', 19.701, 9.505, 26.838], ['C1562', 17.581, 9.082, 26.529], ['N1563', 18.954, 10.386, 27.633], ['C1564', 17.716, 10.138, 27.454], ['C1565', 16.337, 8.63, 26.125], ['C1566', 16.623, 10.765, 28.029], ['C1567', 15.232, 9.283, 26.684], ['C1568', 15.374, 10.322, 27.619], ['N1569', 17.868, 5.276, 26.727], ['C1570', 16.955, 4.744, 27.739], ['C1571', 17.644, 3.789, 28.714], ['O1572', 17.562, 4.004, 29.947], ['C1573', 15.727, 4.069, 27.098], ['C1574', 14.881, 5.101, 26.34], ['C1575', 14.867, 3.351, 28.145], ['C1576', 13.701, 4.444, 25.628], ['N1577', 18.364, 2.828, 28.189], ['C1578', 19.025, 1.866, 29.065], ['C1579', 20.087, 2.487, 29.965], ['O1580', 20.117, 2.177, 31.189], ['C1581', 19.649, 0.725, 28.256], ['C1582', 18.633, -0.035, 27.392], ['C1583', 19.209, -1.375, 26.894], ['C1584', 20.597, -1.217, 26.244], ['N1585', 20.515, -0.394, 25.031], ['N1586', 20.881, 3.368, 29.387], ['C1587', 21.962, 4.059, 30.121], ['C1588', 21.412, 4.9, 31.274], ['O1589', 21.956, 4.868, 32.408], ['C1590', 22.761, 4.947, 29.138], ['C1591', 23.722, 5.964, 29.798], ['C1592', 24.806, 5.267, 30.617], ['O1593', 25.463, 4.324, 30.11], ['N1594', 24.74, 5.508, 31.913], ['N1595', 20.338, 5.6, 30.957], ['C1596', 19.691, 6.497, 31.915], ['C1597', 19.079, 5.728, 33.073], ['O1598', 19.316, 6.089, 34.257], ['C1599', 18.626, 7.384, 31.238], ['O1600', 19.24, 8.164, 30.218], ['C1601', 17.955, 8.34, 32.219], ['N1602', 18.375, 4.676, 32.72], ['C1603', 17.716, 3.839, 33.717], ['C1604', 18.742, 3.174, 34.625], ['O1605', 18.529, 3.131, 35.866], ['C1606', 16.824, 2.762, 33.051], ['C1607', 15.387, 3.219, 32.787], ['C1608', 16.761, 1.476, 33.903], ['C1609', 15.256, 4.536, 32.018], ['N1610', 19.876, 2.821, 34.064], ['C1611', 20.955, 2.157, 34.825], ['C1612', 21.625, 3.065, 35.85], ['O1613', 22.318, 2.561, 36.768], ['C1614', 22.033, 1.65, 33.864], ['N1615', 21.52, 4.358, 35.641], ['C1616', 22.243, 5.314, 36.474], ['C1617', 21.367, 6.24, 37.294], ['O1618', 21.883, 7.208, 37.906], ['C1619', 23.207, 6.152, 35.622], ['O1620', 24.083, 5.25, 34.925], ['N1621', 20.074, 6.038, 37.224], ['C1622', 19.126, 6.947, 37.89], ['C1623', 18.083, 6.203, 38.704], ['O1624', 17.319, 6.853, 39.455], ['C1625', 18.394, 7.853, 36.88], ['C1626', 19.315, 8.949, 36.343], ['O1627', 19.585, 9.905, 37.11], ['N1628', 20.096, 8.605, 35.338], ['O1629', 18.181, 4.969, 38.876]]\n"
     ]
    }
   ],
   "source": [
    "# Read in the trypsin.xyz file, split and process each line, \n",
    "# and append this to the atoms list\n",
    "atoms = list()\n",
    "\n",
    "with open(\"disulfide/trypsin.xyz\") as file_in:\n",
    "    for line in file_in:\n",
    "        atom_list = line.strip().split(\"\\t\")\n",
    "        #atom_list = line.strip().split()\n",
    "        atom_list[1] = float(atom_list[1])\n",
    "        atom_list[2] = float(atom_list[2])\n",
    "        atom_list[3] = float(atom_list[3])\n",
    "        atoms.append(atom_list)\n",
    "print(atoms)\n",
    "\n",
    "\n",
    "\n"
   ]
  },
  {
   "cell_type": "markdown",
   "metadata": {},
   "source": [
    "__Once this has been done, write a loop to extract all of the sulphur atoms (and their coordinates) to a new list called__ `sulphurs`__.__ \n",
    "\n",
    "_HINT: If you remember from session 1, strings can also be treated like lists and that is how the `'C'` of `'C2'` can be accessed._\n",
    "\n"
   ]
  },
  {
   "cell_type": "code",
   "execution_count": 105,
   "metadata": {},
   "outputs": [
    {
     "name": "stdout",
     "output_type": "stream",
     "text": [
      "[['S48', -7.877, 0.698, 23.833], ['S185', 0.938, 14.837, 27.445], ['S298', 2.798, 14.431, 26.757], ['S647', 8.68, 14.472, 30.581], ['S811', 15.125, 1.524, 14.164], ['S853', 3.204, -0.318, 14.27], ['S1007', -6.808, -0.087, 22.282], ['S1084', 6.487, 10.899, 8.184], ['S1172', 9.7, 14.645, 13.222], ['S1190', 4.49, 10.976, 8.582], ['S1265', -7.625, 15.069, 17.907], ['S1327', 4.691, -0.659, 15.643], ['S1422', -6.417, 15.667, 16.36], ['S1521', 14.061, 2.556, 15.556]]\n"
     ]
    }
   ],
   "source": [
    "# Now extract the sulphur atoms from this list and store them in a new list\n",
    "\n",
    "#atoms = list()\n",
    "\n",
    "\n",
    "sulphurs = list()\n",
    "\n",
    "for atom in atoms:\n",
    "    if atom[0][0] == \"S\":\n",
    "        sulphurs.append(atom)\n",
    "print(sulphurs)"
   ]
  },
  {
   "cell_type": "markdown",
   "metadata": {},
   "source": [
    "The next step will be to write some functions which we will use later when we compare the positions of all the different sulphur atoms. We will first start by importing a module. Importing modules is done with the `import` statement and we write this at the beginning of our Python program. This allows us to use `math.sqrt(number)` which only works after importing the `math` module.\n",
    "\n",
    "A function called `difference()` has also been written for you and this will return the absolute difference between 2 values:\n",
    "\n",
    "    a = 3\n",
    "    b = 7\n",
    "    print(difference(a, b))  -->   4\n",
    "    \n",
    "__You now need to write a function to calculate the distance between 2 atoms, given their coordinates.__ How might you use the `difference()` function to do this? "
   ]
  },
  {
   "cell_type": "code",
   "execution_count": 104,
   "metadata": {},
   "outputs": [],
   "source": [
    "import math # allows us to use math.sqrt()\n",
    "\n",
    "# Returns the absolute difference between two integers\n",
    "def difference(a, b):\n",
    "    if (a < 0) and (b > 0):\n",
    "        return b-a\n",
    "    elif (a > 0) and (b < 0):\n",
    "        return a-b\n",
    "    elif (a < 0) and (b < 0):\n",
    "        return abs(a-b)\n",
    "    elif (a > b):\n",
    "        return a-b\n",
    "    elif (a < b):\n",
    "        return b-a\n",
    "    else:\n",
    "        return 0\n",
    "\n",
    "# Write a function to calculate the distance between 2 atoms using Pythagoras theorem (See equation above!)\n",
    "def distance(atom1, atom2):\n",
    "    a = difference(atom1[1], atom2[1])\n",
    "    b = difference(atom1[2], atom2[2])\n",
    "    c = difference(atom1[3], atom2[3])\n",
    "    distance = math.sqrt(a**2 + b**2 + c**2)\n",
    "    # Your code goes here \n",
    "    return distance\n"
   ]
  },
  {
   "cell_type": "markdown",
   "metadata": {},
   "source": [
    "We now have all the components assembled to finally identify possible disulfide bonds. To compare all the sulphur atoms with each other, we can use a for-loop within a for-loop. This is known as a nested for-loop. __Before attempting this part, you should attempt the extension exercise at the end of session 1 as this goes over nested loops.__\n",
    "\n",
    "One of these for-loops cycles through our list of sulphur atoms (i) whilst the other cycles through our list starting at __n+1__ (k). This way, each sulphur atom can be compared to every sulphur atom exactly once. This is shown below.\n",
    "\n",
    "<img src=\"figures/S2_7.png\" width=\"360\"/>\n",
    "\n",
    "The blue circles represent the sulphur atoms and in the first permutation of our first for-loop, all the sulphurs are compared against our starting sphere. In the second permutation of the first for-loop, all the sulphur atoms after the previous one are compared (since we only need to check once).\n",
    "\n",
    "Use this and the `distance()` function to identify possible disulfide bonds."
   ]
  },
  {
   "cell_type": "code",
   "execution_count": 108,
   "metadata": {},
   "outputs": [
    {
     "name": "stdout",
     "output_type": "stream",
     "text": [
      "['S48', -7.877, 0.698, 23.833] ['S1007', -6.808, -0.087, 22.282]\n",
      "['S185', 0.938, 14.837, 27.445] ['S298', 2.798, 14.431, 26.757]\n",
      "['S811', 15.125, 1.524, 14.164] ['S1521', 14.061, 2.556, 15.556]\n",
      "['S853', 3.204, -0.318, 14.27] ['S1327', 4.691, -0.659, 15.643]\n",
      "['S1084', 6.487, 10.899, 8.184] ['S1190', 4.49, 10.976, 8.582]\n",
      "['S1265', -7.625, 15.069, 17.907] ['S1422', -6.417, 15.667, 16.36]\n"
     ]
    }
   ],
   "source": [
    "vdW_radius = 1.80\n",
    "# Compare all sulphur atoms against each other (only need to make 1 comparison)\n",
    "with open(\"disulfide/results.txt\", \"w\") as file_out:\n",
    "    for j in range(0, len(sulphurs)):\n",
    "        for k in range(j+1, len(sulphurs)):\n",
    "            dist = distance(sulphurs[j], sulphurs[k])\n",
    "            if dist < 3.6:\n",
    "                print(sulphurs[j], sulphurs[k])\n",
    "                file_out.write(str(sulphurs[j]) + \"<-->\" + str(sulphurs[k]) + \"\\n\" + \"Distance =\" + str(dist) + \"A\\n\\n\")\n",
    "\n",
    "\n",
    "    \n",
    "\n"
   ]
  },
  {
   "cell_type": "markdown",
   "metadata": {},
   "source": [
    "__Now modify the code to output the results to a file which should look like this:__\n",
    "\n",
    "    Possible covalent bonds between:\n",
    "    ['S48', -7.877, 0.698, 23.833]     <-->   ['S1007', -6.808, -0.087, 22.282]\n",
    "    Distance = 2.0407 A\n",
    "\n",
    "    ['S185', 0.938, 14.837, 27.445]    <-->   ['S298', 2.798, 14.431, 26.757]\n",
    "    Distance = 2.0243 A\n",
    "\n",
    "    ...\n",
    "    \n",
    "There should be 6 possible disulfide bonds so if you have this many, your code has worked!"
   ]
  }
 ],
 "metadata": {
  "kernelspec": {
   "display_name": "Python 3 (ipykernel)",
   "language": "python",
   "name": "python3"
  },
  "language_info": {
   "codemirror_mode": {
    "name": "ipython",
    "version": 3
   },
   "file_extension": ".py",
   "mimetype": "text/x-python",
   "name": "python",
   "nbconvert_exporter": "python",
   "pygments_lexer": "ipython3",
   "version": "3.9.7"
  }
 },
 "nbformat": 4,
 "nbformat_minor": 2
}
