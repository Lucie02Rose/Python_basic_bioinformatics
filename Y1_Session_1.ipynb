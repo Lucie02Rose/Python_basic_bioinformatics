{
 "cells": [
  {
   "cell_type": "markdown",
   "metadata": {},
   "source": [
    "<h1><center>An Introduction to Python - Session 1</center></h1>\n",
    "The activitities set out in this workbook are intended to teach you how to use coding skills to solve real-world biological problems. There are many aspects to programming in Python and there will be a few optional exercises along the way.\n",
    "\n",
    "We will be running Python code inside of a Jupyter notebook and so all code must be written in code blocks which look like this:"
   ]
  },
  {
   "cell_type": "code",
   "execution_count": 2,
   "metadata": {},
   "outputs": [
    {
     "name": "stdout",
     "output_type": "stream",
     "text": [
      "Hello drek\n"
     ]
    }
   ],
   "source": [
    "# Code goes here\n",
    "print(\"Hello drek\")"
   ]
  },
  {
   "cell_type": "markdown",
   "metadata": {},
   "source": [
    "To run code in a code block, you must select the code block and press the run button at the top, or simply highlight the block and press `Ctrl+Enter`.\n",
    "\n",
    "You can also save your progress at any point by going to __File --> Save and Checkpoint__.\n",
    "\n",
    "As you work through this practical, you may also be presented with error codes. These are shown in the <span style=\"color: red\">red boxes</span> and will help you figure out what has gone wrong."
   ]
  },
  {
   "cell_type": "markdown",
   "metadata": {},
   "source": [
    "## Your First Program\n",
    "Let's start by simply displaying some text. To do this, Python has a function called `print()`. Remember the verbs/actions from the pseudocode examples? Functions are blocks of reusable code that can be called upon to perform the same task each time. Python has many pre-built functions like `print()` and later on you will make your own."
   ]
  },
  {
   "cell_type": "code",
   "execution_count": 5,
   "metadata": {},
   "outputs": [
    {
     "name": "stdout",
     "output_type": "stream",
     "text": [
      "Please enter an amino acid sequence:\n",
      "oihjregwerg\n",
      "The length of input sequence is \n",
      "11\n"
     ]
    }
   ],
   "source": [
    "#print(\"Hello world Derek!\") # Click this box and press run!\n"
   ]
  },
  {
   "cell_type": "markdown",
   "metadata": {},
   "source": [
    "__Now use the__ `print()` __function but change the words and use numbers__. Also use/write `print()` on multiple lines to see what it does."
   ]
  },
  {
   "cell_type": "code",
   "execution_count": null,
   "metadata": {},
   "outputs": [],
   "source": [
    "sequence = input(\"Please enter an amino acid sequence:\\n\")\n",
    "length = len(sequence)\n",
    "print(\"The length of input sequence is\" + str(length))\n",
    "\n",
    "\n",
    "\n"
   ]
  },
  {
   "cell_type": "markdown",
   "metadata": {},
   "source": [
    "What happens when we introduce a `\\n` inside the quotation marks? "
   ]
  },
  {
   "cell_type": "code",
   "execution_count": null,
   "metadata": {},
   "outputs": [],
   "source": [
    "print(\"What does \\n this do?\")\n",
    "print(\"how about \\n this\")"
   ]
  },
  {
   "cell_type": "markdown",
   "metadata": {},
   "source": [
    "This saves us having to write `print()` for each newline we want to introduce. The `\\n` character tells Python to insert a new line here. __Use this to rewrite the following code within a single print() statement.__"
   ]
  },
  {
   "cell_type": "code",
   "execution_count": 13,
   "metadata": {},
   "outputs": [
    {
     "name": "stdout",
     "output_type": "stream",
     "text": [
      "My first name is John.\n",
      "I am 21 years old.\n",
      "I have 3 cats and 2 dogs.\n",
      "My first name is John.\n",
      " I am 21 years old. \n",
      " I have 3 cats and 2 dogs.\n"
     ]
    }
   ],
   "source": [
    "print(\"My first name is John.\")\n",
    "print(\"I am 21 years old.\")\n",
    "print(\"I have 3 cats and 2 dogs.\")\n",
    "\n",
    "# Write your code here\n",
    "print(\"My first name is John.\\n I am 21 years old. \\n I have 3 cats and 2 dogs.\")\n",
    "\n",
    "\n",
    "\n",
    "\n"
   ]
  },
  {
   "cell_type": "markdown",
   "metadata": {},
   "source": [
    "Before we get more involved, it is important to mention the use of __comments__. Comments are a way of describing parts of your code in English or preventing certain parts of your code from running. You can use them to make notes throughout this practical and to note what parts of your code do when things become more complicated.\n",
    "\n",
    "__Run the code below to see how comments work.__"
   ]
  },
  {
   "cell_type": "code",
   "execution_count": null,
   "metadata": {},
   "outputs": [],
   "source": [
    "# This is a comment so you can read your program later\n",
    "# Anything after the # is ignored by Python\n",
    "\n",
    "print(\"Your code could be like this.\") # and the comment after is ignored\n",
    "\n",
    "# You can also use a comment to \"disable\" or comment out a piece of code:\n",
    "# print(\"This won't run.\")\n",
    "\n",
    "print (\"This will run.\")"
   ]
  },
  {
   "cell_type": "markdown",
   "metadata": {},
   "source": [
    "## Numbers and Math\n",
    "Every programming language has some kind of way of carrying out math. There are generally two types of operations used, the first of which is the arithmetic operations. These are used for simple math:\n",
    "\n",
    "    +    addition\n",
    "    -    subtraction\n",
    "    *    multiplication\n",
    "    /    division\n",
    "    %    modulus (returns the remainder of a division)\n",
    "    **   exponential\n",
    "\n",
    "There are also the comparison operators which instead of returning a number as a result, they return either `True` or `False`:\n",
    "\n",
    "    ==   equal to\n",
    "    !=   not equal to\n",
    "    >    greater-than\n",
    "    <    less-than\n",
    "    >=   greater-than or equal to\n",
    "    <=   smaller-than or equal to\n",
    "\n",
    "__Now use all these operators with the__ `print()` __function to carry out some math.__\n",
    "\n",
    "Notice how with the `print()` function, we can use a __comma__ after our first argument and then give it something else to print? This also inserts a space between each argument:"
   ]
  },
  {
   "cell_type": "code",
   "execution_count": 15,
   "metadata": {},
   "outputs": [
    {
     "name": "stdout",
     "output_type": "stream",
     "text": [
      "4.333333333333334\n",
      "How many apples are there? 6\n",
      "Is 7 less-than 9? True\n",
      "10 multiplied by 4 equals 40\n",
      "2.0\n",
      "add up numbers 3\n",
      "True\n"
     ]
    }
   ],
   "source": [
    "print(2 + 7 / 3)\n",
    "print(\"How many apples are there?\", 6)\n",
    "print(\"Is 7 less-than 9?\", 7 < 9)\n",
    "print(10, \"multiplied by\", 4, \"equals\", 10*4)\n",
    "\n",
    "# Write your code below here\n",
    "print(3/3+1)\n",
    "print(\"add up numbers\", 1+2)\n",
    "print(10==10)\n",
    "\n",
    "\n",
    "\n"
   ]
  },
  {
   "cell_type": "markdown",
   "metadata": {},
   "source": [
    "## Variables\n",
    "To make our programs more useful, we can store information within variables. Variables are nothing more than names for bits of code and by using them we can make our code read more like English. They work in a similar way, conceptually, to mathematical algebra — they are just labels that can be used to represent data/information. \n",
    "\n",
    "It's important to use good names otherwise programs can become very confusing when there are many lines of code. Names for variables in Python cannot contain any whitespace and so use the `_` character instead of space. Using underscores will also make variable names easier to read."
   ]
  },
  {
   "cell_type": "code",
   "execution_count": null,
   "metadata": {},
   "outputs": [],
   "source": [
    "first_name = \"John\""
   ]
  },
  {
   "cell_type": "markdown",
   "metadata": {},
   "source": [
    "We create/define a variable by giving it a name and using an `=` to assign a value to it. You may have also noticed that all the words used so far have been surrounded in `\" \"` (quotation marks). This is because there are different sorts of variables and we need a way to differentiate between them, as follows:\n",
    "\n",
    "<img src=\"figures/S1_1.png\" width=\"300\" />\n",
    "\n",
    "A _string_ is a type of variable which is used to store text and you can use single (`'`) or double (`\"`) quotation marks. \n",
    "\n",
    "An _integer_ is a variable that is a whole number...\n",
    "\n",
    "...whilst a _float_ is a number with a decimal point. \n",
    "\n",
    "A _boolean_ is a type of variable that is either `True` or `False`. Importantly, the T and F of these booleans needs to captilased for Python to recognise it as a boolean!\n",
    "\n",
    "__Using the following piece of code as a guide, assign your name to variables and use those to print your first name and second name.__"
   ]
  },
  {
   "cell_type": "code",
   "execution_count": 19,
   "metadata": {},
   "outputs": [
    {
     "name": "stdout",
     "output_type": "stream",
     "text": [
      "His name is John Doe\n",
      "Her name is Lucie Ruzickova\n"
     ]
    }
   ],
   "source": [
    "first_name = \"John\"\n",
    "second_name = \"Doe\"\n",
    "print(\"His name is\", first_name + \" \" + second_name)\n",
    "\n",
    "# Your code goes here\n",
    "f_name = \"Lucie\"\n",
    "s_name = \"Ruzickova\"\n",
    "print(\"Her name is\", f_name + \" \" + s_name)\n",
    "\n"
   ]
  },
  {
   "cell_type": "markdown",
   "metadata": {},
   "source": [
    "What happens when we try to combine two variables that are of different types? Run the code below and see what happens if we add a string to an integer."
   ]
  },
  {
   "cell_type": "code",
   "execution_count": 20,
   "metadata": {},
   "outputs": [
    {
     "ename": "TypeError",
     "evalue": "can only concatenate str (not \"int\") to str",
     "output_type": "error",
     "traceback": [
      "\u001b[1;31m---------------------------------------------------------------------------\u001b[0m",
      "\u001b[1;31mTypeError\u001b[0m                                 Traceback (most recent call last)",
      "\u001b[1;32m~\\AppData\\Local\\Temp/ipykernel_33132/3244119572.py\u001b[0m in \u001b[0;36m<module>\u001b[1;34m\u001b[0m\n\u001b[0;32m      1\u001b[0m \u001b[0ma\u001b[0m \u001b[1;33m=\u001b[0m \u001b[1;34m'6'\u001b[0m\u001b[1;33m\u001b[0m\u001b[1;33m\u001b[0m\u001b[0m\n\u001b[0;32m      2\u001b[0m \u001b[0mb\u001b[0m \u001b[1;33m=\u001b[0m \u001b[1;36m4\u001b[0m\u001b[1;33m\u001b[0m\u001b[1;33m\u001b[0m\u001b[0m\n\u001b[1;32m----> 3\u001b[1;33m \u001b[0mc\u001b[0m \u001b[1;33m=\u001b[0m \u001b[0ma\u001b[0m \u001b[1;33m+\u001b[0m \u001b[0mb\u001b[0m\u001b[1;33m\u001b[0m\u001b[1;33m\u001b[0m\u001b[0m\n\u001b[0m",
      "\u001b[1;31mTypeError\u001b[0m: can only concatenate str (not \"int\") to str"
     ]
    }
   ],
   "source": [
    "a = '6'\n",
    "b = 4\n",
    "c = a + b"
   ]
  },
  {
   "cell_type": "markdown",
   "metadata": {},
   "source": [
    "__Now write a program that adds the following types of variables together, using the above code for reference. Note down which variable types work together and those that don't:__\n",
    "\n",
    "    string + string\n",
    "    integer + integer\n",
    "    float + float\n",
    "    string + float\n",
    "    integer + float\n",
    "\n",
    "You'll have to do this one at a time as Python only runs code up to the first error point!"
   ]
  },
  {
   "cell_type": "code",
   "execution_count": 26,
   "metadata": {},
   "outputs": [
    {
     "name": "stdout",
     "output_type": "stream",
     "text": [
      "13.3\n",
      "104\n"
     ]
    },
    {
     "ename": "TypeError",
     "evalue": "unsupported operand type(s) for +: 'float' and 'str'",
     "output_type": "error",
     "traceback": [
      "\u001b[1;31m---------------------------------------------------------------------------\u001b[0m",
      "\u001b[1;31mTypeError\u001b[0m                                 Traceback (most recent call last)",
      "\u001b[1;32m~\\AppData\\Local\\Temp/ipykernel_33132/3294770920.py\u001b[0m in \u001b[0;36m<module>\u001b[1;34m\u001b[0m\n\u001b[0;32m      6\u001b[0m \u001b[0mprint\u001b[0m\u001b[1;33m(\u001b[0m\u001b[0ma\u001b[0m\u001b[1;33m+\u001b[0m\u001b[0mc\u001b[0m\u001b[1;33m)\u001b[0m\u001b[1;33m\u001b[0m\u001b[1;33m\u001b[0m\u001b[0m\n\u001b[0;32m      7\u001b[0m \u001b[0mprint\u001b[0m\u001b[1;33m(\u001b[0m\u001b[0md\u001b[0m\u001b[1;33m+\u001b[0m\u001b[0mb\u001b[0m\u001b[1;33m)\u001b[0m\u001b[1;33m\u001b[0m\u001b[1;33m\u001b[0m\u001b[0m\n\u001b[1;32m----> 8\u001b[1;33m \u001b[0mprint\u001b[0m\u001b[1;33m(\u001b[0m\u001b[0mc\u001b[0m\u001b[1;33m+\u001b[0m\u001b[0md\u001b[0m\u001b[1;33m)\u001b[0m\u001b[1;33m\u001b[0m\u001b[1;33m\u001b[0m\u001b[0m\n\u001b[0m\u001b[0;32m      9\u001b[0m \u001b[1;33m\u001b[0m\u001b[0m\n\u001b[0;32m     10\u001b[0m \u001b[1;33m\u001b[0m\u001b[0m\n",
      "\u001b[1;31mTypeError\u001b[0m: unsupported operand type(s) for +: 'float' and 'str'"
     ]
    }
   ],
   "source": [
    "# What works and what doesn't?\n",
    "a = 5.7\n",
    "b = \"4\"\n",
    "c = 7.6\n",
    "d = \"10\"\n",
    "print(a+c)\n",
    "print(d+b)\n",
    "print(c+d)\n",
    "\n",
    "\n",
    "\n",
    "\n"
   ]
  },
  {
   "cell_type": "markdown",
   "metadata": {},
   "source": [
    "We get an error when we do some of these variable manipulations and it tells us that we cannot add these two types of variable together. This occurs because Python does not know how to add a string (str) to an integer (int) and a str to a float. The same is true when manipulating other types of variables that we are yet to meet. To get around this, we can perform __casting__."
   ]
  },
  {
   "cell_type": "code",
   "execution_count": 29,
   "metadata": {},
   "outputs": [],
   "source": [
    "a = '6'\n",
    "b = 4\n",
    "c = int(a) + b # a is 'casted' to an int (integer) before performing the operation"
   ]
  },
  {
   "cell_type": "markdown",
   "metadata": {},
   "source": [
    "Casting can also be used to convert variables to strings with the `str()` function and integers to floats with the `float()` function. This is illustrated below where only strings can be added together, and not an integer and a string."
   ]
  },
  {
   "cell_type": "code",
   "execution_count": 30,
   "metadata": {},
   "outputs": [
    {
     "ename": "TypeError",
     "evalue": "can only concatenate str (not \"int\") to str",
     "output_type": "error",
     "traceback": [
      "\u001b[1;31m---------------------------------------------------------------------------\u001b[0m",
      "\u001b[1;31mTypeError\u001b[0m                                 Traceback (most recent call last)",
      "\u001b[1;32m~\\AppData\\Local\\Temp/ipykernel_33132/2005961263.py\u001b[0m in \u001b[0;36m<module>\u001b[1;34m\u001b[0m\n\u001b[0;32m      1\u001b[0m \u001b[1;31m# This generates an error\u001b[0m\u001b[1;33m\u001b[0m\u001b[1;33m\u001b[0m\u001b[0m\n\u001b[1;32m----> 2\u001b[1;33m \u001b[0mprint\u001b[0m\u001b[1;33m(\u001b[0m\u001b[1;34m\"I am \"\u001b[0m \u001b[1;33m+\u001b[0m \u001b[1;36m32\u001b[0m \u001b[1;33m+\u001b[0m \u001b[1;34m\" years old.\"\u001b[0m\u001b[1;33m)\u001b[0m\u001b[1;33m\u001b[0m\u001b[1;33m\u001b[0m\u001b[0m\n\u001b[0m",
      "\u001b[1;31mTypeError\u001b[0m: can only concatenate str (not \"int\") to str"
     ]
    }
   ],
   "source": [
    "# This generates an error\n",
    "print(\"I am \" + 32 + \" years old.\")"
   ]
  },
  {
   "cell_type": "markdown",
   "metadata": {},
   "source": [
    "If you look at the error returned above, you will see that Python reminds you if you forget to cast a variable before manipulating it. We can fix this issue as follows:"
   ]
  },
  {
   "cell_type": "code",
   "execution_count": 31,
   "metadata": {},
   "outputs": [
    {
     "name": "stdout",
     "output_type": "stream",
     "text": [
      "I am 32 years old.\n"
     ]
    }
   ],
   "source": [
    "# This works as the integer is cast to a string before addition\n",
    "print(\"I am \" + str(32) + \" years old.\")"
   ]
  },
  {
   "cell_type": "markdown",
   "metadata": {},
   "source": [
    "The following code block below is calculating the percent of Gs and Cs in the nucleotide sequence. The `len()` function returns the length of a string, which is the length of our sequence. __This should not be confused with casting; instead__ `len()` __is similar to__ `print()` __and is a function.__\n",
    "\n",
    "__Using your knowledge of variables and casting, figure out why the following code gives an error and then fix it:__ \n",
    "\n",
    "_(HINT: The error message will point out lines with errors each time it crashes. There are multiple changes that you will need to make, and it will crash until all errors are fixed.)_"
   ]
  },
  {
   "cell_type": "code",
   "execution_count": 34,
   "metadata": {},
   "outputs": [
    {
     "name": "stdout",
     "output_type": "stream",
     "text": [
      "TGCTAGCGATCCAGAT has a GC content of 50.0%\n"
     ]
    }
   ],
   "source": [
    "sequence = \"TGCTAGCGATCCAGAT\"\n",
    "sequence_length = len(sequence)\n",
    "GCs = 8\n",
    "\n",
    "GC_content = GCs / sequence_length * 100\n",
    "\n",
    "print(str(sequence) + \" has a GC content of \" + str(GC_content) + \"%\")\n"
   ]
  },
  {
   "cell_type": "markdown",
   "metadata": {},
   "source": [
    "## User Input\n",
    "To make our programs more dynamic, we can ask for user input. This saves us having to change the code each time we want to use our algorithms to process a new piece of data. The `input()` function can be assigned to a variable so that the input is stored in our program. Run the below code to see how `input()` works."
   ]
  },
  {
   "cell_type": "code",
   "execution_count": 35,
   "metadata": {},
   "outputs": [
    {
     "name": "stdout",
     "output_type": "stream",
     "text": [
      "Lucie\n",
      "Your name is Lucie.\n"
     ]
    }
   ],
   "source": [
    "name = input()\n",
    "print(\"Your name is \" + name + \".\")"
   ]
  },
  {
   "cell_type": "markdown",
   "metadata": {},
   "source": [
    "You can also specify a prompt for the user input and you can use this to tell the user what sort of input is needed."
   ]
  },
  {
   "cell_type": "code",
   "execution_count": 46,
   "metadata": {},
   "outputs": [
    {
     "name": "stdout",
     "output_type": "stream",
     "text": [
      "What is your age?\n",
      "4\n",
      "Your age is 4\n"
     ]
    }
   ],
   "source": [
    "age = input(\"What is your age?\\n\")\n",
    "print(\"Your age is \" + age)"
   ]
  },
  {
   "cell_type": "markdown",
   "metadata": {},
   "source": [
    "If you look at the code, you will see that we have used the `\"\\n\"` escape character again. This tells Python to insert a new line and, in this case, it means that the user input is requested on a new line below the text that was printed to screen. __Use__ `input()` __to ask for the user's age, calculate what their age minus 10 years is and print the result.__\n",
    "\n",
    "_HINT: The `input()` function returns a string variable and if you remember from before, you cannot do math with a string and an integer._ __Use your knowledge of casting to fix this.__"
   ]
  },
  {
   "cell_type": "code",
   "execution_count": null,
   "metadata": {},
   "outputs": [],
   "source": [
    "# Your code goes here\n",
    "age = int(input(\"How old are you?\\n\"))\n",
    "age_younger = age - 10\n",
    "if age < 10:\n",
    "    print(\"you are too young to take this test\")\n",
    "else:\n",
    "    print(\"If you were 10 years younger, you would be \" + str(age_younger))\n",
    "\n",
    "\n",
    "\n",
    "\n",
    "\n"
   ]
  },
  {
   "cell_type": "markdown",
   "metadata": {},
   "source": [
    "Now we will try this out in a biological context. __Write a program that asks the user for a nucleotide sequence and prints the length of the given sequence__. You can use the `len()` function to get the length of a string."
   ]
  },
  {
   "cell_type": "code",
   "execution_count": null,
   "metadata": {},
   "outputs": [],
   "source": [
    "# Your code goes here\n",
    "sequence = input(\"Please enter an amino acid sequence:\\n\")\n",
    "length = len(sequence)\n",
    "print(\"The length of input sequence is \\n\" + \"\" + str(length))\n",
    "\n",
    "\n",
    "\n"
   ]
  },
  {
   "cell_type": "markdown",
   "metadata": {},
   "source": [
    "## Conditional Statements\n",
    "To make our programs more complex, we can introduce a level of logic. `if/else` statements are a way of testing if a condition is true and then executing a piece of a code:"
   ]
  },
  {
   "cell_type": "code",
   "execution_count": null,
   "metadata": {},
   "outputs": [],
   "source": [
    "sequence = \"TCTTACGCACGATAGCC\"\n",
    "answer = input(\"Do you want to know the sequence length? (yes/no)\\n\")\n",
    "\n",
    "if (answer == 'yes'):\n",
    "    print(\"Sequence:\", sequence)\n",
    "    print(\"The sequence is\", len(sequence), \"bp long.\")"
   ]
  },
  {
   "cell_type": "markdown",
   "metadata": {},
   "source": [
    "But what happens if the user doesn't answer with exactly *yes*? We can use an `else` statement to handle this:"
   ]
  },
  {
   "cell_type": "code",
   "execution_count": null,
   "metadata": {},
   "outputs": [],
   "source": [
    "sequence = \"TCTTACGCACGATAGCC\"\n",
    "answer = input(\"Do you want to know the sequence length? (yes/no)\\n\")\n",
    "\n",
    "if (answer == 'yes'):\n",
    "    print(\"Sequence:\", sequence)\n",
    "    print(\"The sequence is\", len(sequence), \"bp long.\")\n",
    "else:\n",
    "    print(\"You did not answer \\'yes\\'.\")"
   ]
  },
  {
   "cell_type": "markdown",
   "metadata": {},
   "source": [
    "In simpler terms, the if-statement is doing this:\n",
    "\n",
    "<img src=\"figures/S1_2.png\" width=\"300\"/>\n",
    "\n",
    "This can be expanded, as seen in the pseudocode examples, so that we can test multiple cases:\n",
    "\n",
    "<img src=\"figures/S1_3.png\" width=\"350\"/>\n",
    "\n",
    "The `elif` is shorthand in Python for else if. To use `if/else` statements in Python, you need to make sure to end the statement line with a colon (`:`) and then indent any code you want to run beneath it. Indentations can be created by pressing the `Tab` button on your keyboard. This tells Python to only run this code if the condition is true.\n",
    "\n",
    "__Using your knowledge so far, write a program that asks the user for 2 input sequences of at least 10 bp and prints out the combined sequence__. If the sequences are less than 10 bp each, tell the user to try again.\n",
    "\n",
    "For example:\n",
    "\n",
    "    Sequence1 = TCTTACGCACGATAGCC\n",
    "    Sequence2 = CGGATCCATTAACTCGT\n",
    "    Result = TCTTACGCACGATAGCCCGGATCCATTAACTCGT"
   ]
  },
  {
   "cell_type": "code",
   "execution_count": null,
   "metadata": {},
   "outputs": [],
   "source": [
    "# Your code goes here\n",
    "condition_statement = True\n",
    "while condition_statement == True:\n",
    "    sequence_1 = input(\"Please, enter first sequence:\\n\")\n",
    "    sequence_2 = input(\"Please, enter second sequence:\\n\")\n",
    "    if len(sequence_1) <= 10:\n",
    "        print(\"First sequence is too short.\")\n",
    "    if len(sequence_2) <= 10:\n",
    "        print(\"Second sequence is too short.\\n Try again:\\n\")\n",
    "    else:\n",
    "        print(\"sum of sequences is \\n\" + sequence_1 + sequence_2)\n",
    "\n",
    "\n",
    "\n",
    "\n",
    "\n",
    "\n",
    "\n",
    "\n",
    "\n",
    "\n",
    "\n",
    "\n"
   ]
  },
  {
   "cell_type": "markdown",
   "metadata": {},
   "source": [
    "We could even build on this exercise in order to tell the user which sequence is too short. In order to do this, we will need the logic operator `and`. This `and` operator can be used to check multiple variables, much like the following example:"
   ]
  },
  {
   "cell_type": "code",
   "execution_count": null,
   "metadata": {},
   "outputs": [],
   "source": [
    "print(\"Give two integers that are the same and divisible by 2.\")\n",
    "\n",
    "a = int(input(\"First integer: \"))\n",
    "b = int(input(\"Second integer: \"))\n",
    "\n",
    "if (a == b and a % 2 == 0 and b % 2 == 0):\n",
    "    print(\"Correct input!\")\n",
    "elif (a != b):\n",
    "    print(\"These two integers do not equal each other.\")\n",
    "else:\n",
    "    print(\"These integers are not divisible by 2!\")"
   ]
  },
  {
   "cell_type": "markdown",
   "metadata": {},
   "source": [
    "Can you apply this to your previous example? __Using the logic above and the `and` operator, figure out which sequence is shorter than 10 bp.__ Rewrite your code below:"
   ]
  },
  {
   "cell_type": "code",
   "execution_count": null,
   "metadata": {},
   "outputs": [],
   "source": [
    "# Your code goes here\n",
    "print(\"Give two amino acid sequences longer than 10pb\")\n",
    "condition_statement = True\n",
    "while condition_statement == True:\n",
    "    sequence_1 = input(\"Please, enter first sequence:\\n\")\n",
    "    sequence_2 = input(\"Please, enter second sequence:\\n\")\n",
    "    if (len(sequence_1) >= 10 and len(sequence_2) >= 10 and len(sequence_1) == len(sequence_2)):\n",
    "        print(\"Correct input. Sum of sequences is \\n\" + sequence_1 + sequence_2)\n",
    "    elif (len(sequence_1) != len(sequence_2))\n",
    "        print(\"Input sequences are not the same length. Please enter sequences of the same length.\")\n",
    "    elif (len(sequence_1) <= 10):\n",
    "        print(\"Sequence 1 is too short. Enter a longer sequence.\")\n",
    "    elif (len(sequence_2) <= 10):\n",
    "        print(\"Sequence 2 is too short. Enter a longer sequence.\")\n",
    "    else:\n",
    "        print(\"All wrong, try again.\")\n",
    "        \n",
    "\n",
    "\n",
    "\n",
    "\n",
    "\n",
    "    \n",
    "    \n",
    "\n",
    "    \n"
   ]
  },
  {
   "cell_type": "markdown",
   "metadata": {},
   "source": [
    "## Lists\n",
    "Quite often in programming, we want to be able to store a list of similar variables, such as readings from a spectrophotometer or DNA sequences of the same region from different individuals. Lists are another type of variable that can be used to store sets of other variables. An example of the syntax (the way to write programming languages) is shown below:"
   ]
  },
  {
   "cell_type": "code",
   "execution_count": null,
   "metadata": {},
   "outputs": [],
   "source": [
    "sequences = [\"ACCACTCGGG\", \"GTAGTCGTTG\", \"GGCTTATGCA\", \"CCGTAAAGTC\"]\n",
    "spectroscopy_readings = [0.31, 0.76, 0.43]\n",
    "sequence_and_length = [[\"CTCCG\", 5], [\"CCGGCCT\", 7], [\"ACAG\", 4]]\n",
    "\n",
    "print(sequences)\n",
    "print(spectroscopy_readings)\n",
    "print(sequence_and_length)"
   ]
  },
  {
   "cell_type": "markdown",
   "metadata": {},
   "source": [
    "As you can see, lists can be used to contain any type of variable and each element of a list does not have to be the same type of variable, so you can mix your strings together with integers and so on. You can even have lists within lists! To create a list, you write the list name, followed by `=` and then a `[` (left square bracket), which “opens” the list. Then you write each item you want to include in the list, each separated by commas. The list is then closed with a `]` (right square bracket).\n",
    "\n",
    "To access specific elements within a list, we use the following syntax:\n",
    "\n",
    "    list_name[index] # where index is an integer that represents the position in the list\n",
    "\n",
    "It is important to note that computers often __start counting from 0__, so to access the first element of a list we would write:\n",
    "\n",
    "    list_name[0] # first element\n",
    "\n",
    "This is shown in the following example:"
   ]
  },
  {
   "cell_type": "code",
   "execution_count": null,
   "metadata": {},
   "outputs": [],
   "source": [
    "spectroscopy_readings = [0.31, 0.76, 0.43]\n",
    "\n",
    "print(\"The first reading is\", spectroscopy_readings[0], \"with an index of 0.\")\n",
    "print(\"The second reading is\", spectroscopy_readings[1], \"with an index of 1.\")\n",
    "print(\"The third reading is\", spectroscopy_readings[2], \"with an index of 2.\\n\")\n",
    "\n",
    "# This is an example of a list within a list (a nested list)\n",
    "time_absorbance = [[0, 0.50], [0.1, 0.45], [0.2, 0.40]]\n",
    "\n",
    "print(\"Time:\", time_absorbance[0][0], \"seconds | Absorbance:\", time_absorbance[0][1])\n",
    "print(\"Time:\", time_absorbance[1][0], \"seconds | Absorbance:\", time_absorbance[1][1])\n",
    "print(\"Time:\", time_absorbance[2][0], \"seconds | Absorbance:\", time_absorbance[2][1])"
   ]
  },
  {
   "cell_type": "markdown",
   "metadata": {},
   "source": [
    "Can you see how a list within a list (a nested list) can also be accessed? \n",
    "\n",
    "This is done by having 2 indexes: \n",
    "\n",
    "The _first_ index picks out the list within the `time_absorbance` list. \n",
    "\n",
    "The _second_ index then picks out individual elements of the nested list, i.e. the time and abosrbance.\n",
    "\n",
    "__Use these principles to complete the code example below.__"
   ]
  },
  {
   "cell_type": "code",
   "execution_count": null,
   "metadata": {},
   "outputs": [],
   "source": [
    "sequences = [\"ACTCGG\", \"GTAGTCGTTG\", \"GGTTATGCA\", [\"CCGTAAAC\", \"TAACTCGA\"]]\n",
    "\n",
    "# Complete this code to print the sequences in the list with the length of each sequence\n",
    "print(\"Sequence 1:\", sequences[0],\"Length of sequence 1:\", len(sequences[0]))\n",
    "print(\"Sequence 2:\",sequences[1],\"Length of sequence 2:\",len(sequences[1]))\n",
    "print(\"Sequence 3:\",sequences[2],\"Length of sequence 3:\",len(sequences[2]))\n",
    "print(\"Sequence 4:\",sequences[3][1],\"Length of sequence 4:\",len(sequences[3][1]))\n",
    "print(\"Sequence 5:\",sequences[3][2],\"Length of sequence 5:\",len(sequences[3][2]))\n",
    "\n",
    "\n",
    "\n",
    "\n"
   ]
  },
  {
   "cell_type": "markdown",
   "metadata": {},
   "source": [
    "There are also a pre-built functions associated with lists:\n",
    "\n",
    "    my_list.append(variable)             # Adds a variable to the end of the list\n",
    "    my_list.extend(list)                 # Adds a list to the end of another list\n",
    "    my_list.insert(index, variable)      # Inserts a variable at a specific index within a list\n",
    "    my_list.pop()                        # Removes the last item from a list\n",
    "    my_list.reverse()                    # Reverses a list\n",
    "    del my_list[index]                   # Removes an item at a specific index from a list\n",
    "\n",
    "__Using these functions, complete the following code.__"
   ]
  },
  {
   "cell_type": "code",
   "execution_count": null,
   "metadata": {},
   "outputs": [],
   "source": [
    "sequences = [\"ACTCGG\", 89192, \"GTAGTCGTTG\", \"This shouldn't be here\", 1.2, \"GGTTATGCA\", \"CCGTAAAC\", False]\n",
    "\n",
    "# Remove non-sequences from the list (with code) using the above functions\n",
    "del sequences[1]\n",
    "del sequences[2]\n",
    "del sequences[2]\n",
    "del sequences[4]\n",
    "\n",
    "\n",
    "# Ask for a sequence from the user and add that to the list with 'append()'\n",
    "sequence = input(\"Please, enter a sequence:\")\n",
    "append(sequence)\n",
    "\n",
    "\n",
    "\n",
    "# Print all the sequences from the list\n",
    "\n",
    "print(sequences)\n",
    "\n"
   ]
  },
  {
   "cell_type": "markdown",
   "metadata": {},
   "source": [
    "Strings can also be used like lists and you can use this feature to access specific characters in a string, as follows:"
   ]
  },
  {
   "cell_type": "code",
   "execution_count": null,
   "metadata": {},
   "outputs": [],
   "source": [
    "full_name = \"John Doe\"\n",
    "first_name = full_name[0:4]\n",
    "print(first_name)"
   ]
  },
  {
   "cell_type": "markdown",
   "metadata": {},
   "source": [
    "This is called __string slicing__ and it can be used to extract regions of a string to a new variable. Try using this to extract the start codon from the sequence below:"
   ]
  },
  {
   "cell_type": "code",
   "execution_count": null,
   "metadata": {},
   "outputs": [],
   "source": [
    "sequence = \"AUGTACCGATTCGGC\"\n",
    "# Extract and print the start codon\n",
    "start_codon = sequence[0:3]\n",
    "print(start_codon)\n",
    "\n"
   ]
  },
  {
   "cell_type": "markdown",
   "metadata": {},
   "source": [
    "## Loops\n",
    "Often we need our programs to do repetitive things that would otherwise lead to repeating lines of code. Fortunately, there is a convinient way to carry out these tasks. Loops allow our code to carry out these repetitive tasks and there are two types of loops in Python.\n",
    "\n",
    "### For-Loops\n",
    "An example of a for-loop is shown below. This loop iterates through each item of a list or string and it performs a specific task for each iteration. Any code that is indented (using the `Tab` key) beneath the loop statement is run on each iteration. Run the example below to see how this works:"
   ]
  },
  {
   "cell_type": "code",
   "execution_count": null,
   "metadata": {},
   "outputs": [],
   "source": [
    "sequence = \"AUGTACCGATTCGGC\"\n",
    "\n",
    "for nucleotide in sequence:\n",
    "    print(nucleotide)\n",
    "    # at this point, it will go to next nucleotide until the sequence is finished"
   ]
  },
  {
   "cell_type": "markdown",
   "metadata": {},
   "source": [
    "When you run this you should see that it prints each nucleotide on a newline and this is equivalent to writing:\n",
    "\n",
    "    print(sequence[0])\n",
    "    print(sequence[1])\n",
    "    print(sequence[2])\n",
    "    print(sequence[3])\n",
    "    ...\n",
    "\n",
    "This for-loop can be broken down further:\n",
    "\n",
    "<img src=\"figures/S1_4.png\" width=\"500\"/>\n",
    "\n",
    "So `nucleotide` is a variable name that describes the current iteration of the loop. If we were iterating through a list it would correspond to each element of that list. `sequence` is the variable that we iterate through. This variable needs to correspond to a variable somewhere else in the code, whereas the `nucleotide` variable could be called anything, since this is specific to the loop. \n",
    "\n",
    "Loops are used frequently together to cycle through each element in a list. Using this, we can rewrite code our code from a previous example as follows:"
   ]
  },
  {
   "cell_type": "code",
   "execution_count": null,
   "metadata": {},
   "outputs": [],
   "source": [
    "sequences = [\"ACTCGG\", \"GTAGTCGTTG\", \"GGTTATGCA\", \"CCGTAAAC\", \"TAACTCGA\"]\n",
    "\n",
    "# Without a loop\n",
    "print(sequences[0])\n",
    "print(sequences[1])\n",
    "print(sequences[2])\n",
    "print(sequences[3])\n",
    "print(sequences[4])\n",
    "\n",
    "# With a loop\n",
    "for sequence in sequences:\n",
    "    print(sequence)"
   ]
  },
  {
   "cell_type": "markdown",
   "metadata": {},
   "source": [
    "__Now use a for-loop to cycle through the elements of the following list to find the total sum of the elements in the list. The final answer should be stored in__ `result`. Remember that you will need to convert the numbers to integers!"
   ]
  },
  {
   "cell_type": "code",
   "execution_count": null,
   "metadata": {},
   "outputs": [],
   "source": [
    "number_list = [\"4\", \"28\", \"71\", \"91\", \"2\", \"5\"]\n",
    "result = 0\n",
    "\n",
    "# Your code here\n",
    "for number in number_list:\n",
    "    result = result + int(number)\n",
    "print(result)\n",
    "\n"
   ]
  },
  {
   "cell_type": "markdown",
   "metadata": {},
   "source": [
    "Instead of specifying a variable to iterate through, we can also specify a range. Run the code below to see what it does:"
   ]
  },
  {
   "cell_type": "code",
   "execution_count": null,
   "metadata": {},
   "outputs": [],
   "source": [
    "for i in range(0, 11):\n",
    "    print(i)"
   ]
  },
  {
   "cell_type": "markdown",
   "metadata": {},
   "source": [
    "`range()` is a function that generates a sequence of numbers that loops can iterate through. A start and end is required for this to work. __Also notice how sequence only goes up to__ `end - 1` — this is important to remember. For example, if you are using this range function to cycle through a list, you will go beyond the last index of that list if you forget about this, so then an error will be generated. Run the example below to see how this error can occur. __Then, fix the code so that all the elements are printed and no error occurs.__"
   ]
  },
  {
   "cell_type": "code",
   "execution_count": null,
   "metadata": {},
   "outputs": [],
   "source": [
    "my_list = [\"Element 1\", \"Element 2\", \"Element 3\", \"Element 4\", \"Element 5\"]\n",
    "\n",
    "for i in range(0, 5):\n",
    "    print(my_list[i])\n",
    "    \n",
    "    "
   ]
  },
  {
   "cell_type": "markdown",
   "metadata": {},
   "source": [
    "We can also specify a step argument for the `range()` function. This tells Python to count up the range with a number other than 1:"
   ]
  },
  {
   "cell_type": "code",
   "execution_count": null,
   "metadata": {},
   "outputs": [],
   "source": [
    "my_list = [\"Element 1\", \"Element 2\", \"Element 3\", \"Element 4\", \"Element 5\"]\n",
    "\n",
    "for i in range(0, len(my_list), 2):\n",
    "    print(my_list[i])"
   ]
  },
  {
   "cell_type": "markdown",
   "metadata": {},
   "source": [
    "When the step is 2, the numeric sequence generated by range will be 0, 2, 4. Since list counting starts at 0, this will print the first, third and fifth elements of `my_list`. Also notice how the end range is now defined using the `len()` function? This is a convenient way to define the end of the range when working with lists because we won't necessarily always know the length of a list that we are working with.\n",
    "\n",
    "__Use a for-loop and range() to print this sequence of numbers:__\n",
    "\n",
    "    1, 3, 5, 7, 9, 11, 13, 15, 17, 19"
   ]
  },
  {
   "cell_type": "code",
   "execution_count": null,
   "metadata": {},
   "outputs": [],
   "source": [
    "# Your code here\n",
    "list = [1,3,5,7,9,11,13,15,17,19]\n",
    "for number in range(0,len(list)):\n",
    "    print(list[number])\n",
    "\n"
   ]
  },
  {
   "cell_type": "markdown",
   "metadata": {},
   "source": [
    "We can also use for-loops in reverse so that they cycle backwards through a list:"
   ]
  },
  {
   "cell_type": "code",
   "execution_count": null,
   "metadata": {},
   "outputs": [],
   "source": [
    "my_list = [1, 2, 3, 4, 5, 6, 7, 8, 9, 10]\n",
    "\n",
    "for i in range(len(my_list)-1, -1, -1):\n",
    "    print(my_list[i])"
   ]
  },
  {
   "cell_type": "markdown",
   "metadata": {},
   "source": [
    "To go backwards, the start value for the range is the length of the list. We have to do `len(my_list)-1` since list counting starts at 0 in Python and the last element of the list is position 9 in the list. The end value is the beginning of the list but since range counts to `end - 1`, we need to use -1 so that the last value in the range sequence is 0, which is the first element in the list. The step for the range function is now -1 and this tells the sequence to count down from the start, to the end range.\n",
    "\n",
    "__To better understand what is going on, there are a few more examples below that you can run.__"
   ]
  },
  {
   "cell_type": "code",
   "execution_count": null,
   "metadata": {},
   "outputs": [],
   "source": [
    "# Counts from 0 to 4\n",
    "for i in range(0, 5, 1):\n",
    "    print(i)\n",
    "\n",
    "# Counts from 1 to 4\n",
    "print('\\n')\n",
    "for i in range(1, 5, 1):\n",
    "    print(i)\n",
    "\n",
    "# Counts from 5 to 1\n",
    "print('\\n')\n",
    "for i in range(5, 0, -1):\n",
    "    print(i)\n",
    "\n",
    "# Counts from 5 to 2\n",
    "print('\\n')\n",
    "for i in range(5, 1, -1):\n",
    "    print(i)"
   ]
  },
  {
   "cell_type": "markdown",
   "metadata": {},
   "source": [
    "__Now use a for-loop to change every 3rd element of the following list to__ `True`. Remember that booleans are either `True` or `False` and that the T and F need to be capitalised.\n",
    "\n",
    "    Input:\n",
    "    boolean_list = [False, False, False, False, False, False, False, False, ...]\n",
    "    \n",
    "    Output\n",
    "    boolean_list = [True, False, False, True, False, False, True, False, False, ...]\n",
    "    \n",
    "To change a list element you can set a new value at the required index position with '=' e.g.:\n",
    "\n",
    "    boolean_list[1] = TRUE\n"
   ]
  },
  {
   "cell_type": "code",
   "execution_count": null,
   "metadata": {},
   "outputs": [],
   "source": [
    "boolean_list = [False, False, False, False, False, False, False, False, False, False, False, False]\n",
    "\n",
    "# Your code here\n",
    "for i in range(0,len(boolean_list),3):\n",
    "    boolean_list[i] = True\n",
    "print(boolean_list)\n",
    "\n",
    "\n",
    "    \n",
    "    "
   ]
  },
  {
   "cell_type": "markdown",
   "metadata": {},
   "source": [
    "__Let's now do something more useful with our loops. Use a for-loop with the range function to print each codon in the sequence.__ You will need to iterate through the sequence 3 nucleotides at a time. You will also need to use string slicing to extract the codon (`codon = sequence[x:x+3]`). The result should look like this:\n",
    "\n",
    "    Sequence = GTCTAAGATATCACTCAAGATATATACTCA\n",
    "    Codons:\n",
    "    GTC\n",
    "    TAA\n",
    "    GAT\n",
    "    ..."
   ]
  },
  {
   "cell_type": "code",
   "execution_count": null,
   "metadata": {},
   "outputs": [],
   "source": [
    "sequence = \"GTCTAAGATATCACTCAAGATATATACTCA\"\n",
    "i = sequence[0]\n",
    "codon = sequence[0:3]\n",
    "# Loop through and print each codon\n",
    "for i in range(0,len(sequence),3):\n",
    "    codon = sequence[i+3:i+6]\n",
    "    print(codon)\n",
    "\n",
    "    \n",
    "    \n",
    "    \n",
    "    \n",
    "    "
   ]
  },
  {
   "cell_type": "markdown",
   "metadata": {},
   "source": [
    "## From Pseudocode to Python\n",
    "Now you should have the knowledge to return to some of the pseudocode examples and turn them into Python scripts.\n",
    "\n",
    "### Problem  1\n",
    "Our first example was an algorithm that __converted the single letter nucleotide codes__ (G, C, A, T) __to their full names__ (guanine, cytosine, adenosine, thymine) for a given sequence. The pseudocode is shown below.\n",
    "\n",
    "    enter sequence\n",
    "    \n",
    "    for each nucleotide in sequence\n",
    "        if nucleotide is A\n",
    "            say adenine\n",
    "        else if nucleotide is T\n",
    "            say thymine\n",
    "        else if nucleotide is C\n",
    "            say cytosine\n",
    "        else\n",
    "            say guanine\n",
    "        go to next nucleotide\n",
    "    \n",
    "    quit\n",
    "\n",
    "__Now turn this into a Python script.__"
   ]
  },
  {
   "cell_type": "code",
   "execution_count": null,
   "metadata": {},
   "outputs": [],
   "source": [
    "# Defining a variable called sequence\n",
    "sequence = \"ATGCAGCTACGCGTTCAGGA\"\n",
    "\n",
    "# Complete the loop to check for the presence of each nucleotide\n",
    "for nucleotide in sequence:\n",
    "    if nucleotide == 'A':\n",
    "        print(\"Adenine\")\n",
    "    elif nucleotide == \"C\":\n",
    "        print(\"Cytosine\")\n",
    "    elif nucleotide == \"T\":\n",
    "        print(\"Thymine\")\n",
    "    else:\n",
    "        print(\"Guanine\")\n",
    "        \n",
    "\n",
    "        "
   ]
  },
  {
   "cell_type": "markdown",
   "metadata": {},
   "source": [
    "### Problem 2\n",
    "Let's move onto our second example. Given a nucleotide sequence, __calculate the complementary base pair sequence__. This code will be similar to the previous example but we need to store the result and print it once the loop has finished. Here is a reminder of the pseudocode:\n",
    "\n",
    "    enter sequence\n",
    "    result = empty string\n",
    "    \n",
    "    for each nucleotide in sequence\n",
    "        if nucleotide is A\n",
    "            result = result + T\n",
    "        else if nucleotide is T\n",
    "            result = result + A\n",
    "        else if nucleotide is C\n",
    "            result = result + G\n",
    "        else\n",
    "            result = result + C\n",
    "        go to next nucleotide\n",
    "    \n",
    "    say result\n",
    "    quit\n",
    "\n",
    "To create an empty string, we can use the following syntax:\n",
    "\n",
    "    my_string = str()\n",
    "\n",
    "Additionally, instead of writing `result = result + 'T'`, you can write `result += 'T'` which is equivalent. This tells Python to add `'T'` to the end of the `result` variable."
   ]
  },
  {
   "cell_type": "code",
   "execution_count": null,
   "metadata": {},
   "outputs": [],
   "source": [
    "sequence = \"ATGCAGCTACGCGTTCAGGA\"\n",
    "result = str()\n",
    "for nucleotide in sequence:\n",
    "    if nucleotide == 'A':\n",
    "        result += 'T'\n",
    "    elif nucleotide == \"C\":\n",
    "        result += \"G\"\n",
    "    elif nucleotide == \"T\":\n",
    "        result += \"A\"\n",
    "    else:\n",
    "        result += \"C\"\n",
    "print(result)\n",
    "\n"
   ]
  },
  {
   "cell_type": "markdown",
   "metadata": {},
   "source": [
    "To take this further, we could calculate the reverse complement which is the complementary sequence but reversed to get the correct 5' -> 3' directionality. There are a variety of ways to reverse the order of a string but the simplest way is to use string __slicing__. To get the reverse of a string, you can use:\n",
    "\n",
    "    rev = forward[::-1]\n",
    "\n",
    "This is shorthand for copying the reverse of string and it slices from the end to the beginning of the string. Although this is useful, we will try to replicate this but with a for-loop instead. __Modify the code below to output the reverse sequence using a for-loop instead of string slicing.__"
   ]
  },
  {
   "cell_type": "code",
   "execution_count": null,
   "metadata": {},
   "outputs": [],
   "source": [
    "sequence = \"ATGCAGCTACGCGTTCAGGA\"\n",
    "\n",
    "print(\"Sequence:\", sequence, \"\\nResult we want:\", sequence[::-1])\n",
    "\n",
    "reverse = str() # creates an empty string\n",
    "for i in range(len(sequence)-1, -1, -1):\n",
    "    # Modify and complete the code:\n",
    "reverse+= sequence[i]\n",
    "\n",
    "    print(reverse)\n",
    "    \n",
    "\n",
    "  \n",
    "\n",
    "\n",
    "    \n"
   ]
  },
  {
   "cell_type": "markdown",
   "metadata": {},
   "source": [
    "See how the range of the for-loop has changed so that it can count backwards? We define the start as the end of our list (needs to be `n-1` as lists count from 0). The end is defined as -1 since range only counts to one before the end. The step is also -1 so to count down. \n",
    "\n",
    "__Once you've done that, now modify the codeblock so that it calculates the reverse complement.__"
   ]
  },
  {
   "cell_type": "markdown",
   "metadata": {},
   "source": [
    "### Problem 3\n",
    "Finally, write a Python script to __calculate the GC content of a given sequence__. Here is the pseudocode to remind you of what the algorithm should do:\n",
    "\n",
    "    enter sequence\n",
    "    total_GCs = 0\n",
    "    \n",
    "    for each nucleotide in sequence\n",
    "        if nucleotide is G\n",
    "            total_GCs = total_GCs + 1\n",
    "        else if nucleotide is C\n",
    "            total_GCs = total_GCs + 1\n",
    "        go to next nucleotide\n",
    "    \n",
    "    sequence_length = length sequence\n",
    "    result = total_GCs / sequence_length * 100\n",
    "    say result\n",
    "    quit"
   ]
  },
  {
   "cell_type": "code",
   "execution_count": null,
   "metadata": {},
   "outputs": [],
   "source": [
    "sequence = input(\"Please insert a DNA sequence\")\n",
    "sequence_length = len(sequence)\n",
    "total_GCs = 0\n",
    "for nucleotide in sequence:\n",
    "    if nucleotide == \"G\":\n",
    "        total_GCs += 1\n",
    "    elif nucleotide == \"C\":\n",
    "        total_GCs += 1\n",
    "result = (total_GCs/sequence_length)*100\n",
    "print(\"Your input DNA sequence is:\\n\" + str(len(sequence)))\n",
    "print(\"This is the percentage of GC in input sequence:\\n\" + str(result))\n",
    "# Your code goes below here\n",
    "\n",
    "\n",
    "\n",
    "\n",
    "\n",
    "\n",
    "\n"
   ]
  },
  {
   "cell_type": "markdown",
   "metadata": {},
   "source": [
    "__Now modify the program ask for user input so that the script calculates the GC content of any given nucleotide sequence.__\n",
    "\n",
    "### Counting Point Mutations\n",
    "We can also use a for-loop to count the number of point mutations between two sequences. __Complete the code below so that the sequences are compared against each other and the number of point mutations counted.__ Remember that you will need to store the mutation count outside of the loop."
   ]
  },
  {
   "cell_type": "code",
   "execution_count": null,
   "metadata": {},
   "outputs": [],
   "source": [
    "seq1 = \"GAGCCTACTAACGGGAT\"\n",
    "seq2 = \"CATCGTAATGACGGCCT\"\n",
    "mutation_count = 0\n",
    "for nucleotide in range(len(seq1)):\n",
    "    if seq1[nucleotide] != seq2[nucleotide]:\n",
    "        mutation_count += 1\n",
    "print(mutation_count)\n",
    "\n",
    "# Your code here\n",
    "\n",
    "\n",
    "\n",
    "\n"
   ]
  },
  {
   "cell_type": "markdown",
   "metadata": {},
   "source": [
    "### While Loops\n",
    "While loops are an alternative type of loop which run whilst a condition is true. The following loop only runs when the user input is not equal to 3. If the user input is 3, then the loop will stop and the following lines of code will run."
   ]
  },
  {
   "cell_type": "code",
   "execution_count": null,
   "metadata": {},
   "outputs": [],
   "source": [
    "while (int(input(\"What is 1 + 2? \")) != 3):\n",
    "    print(\"Wrong answer! Try again.\")\n",
    "\n",
    "print(\"Correct answer!\")"
   ]
  },
  {
   "cell_type": "markdown",
   "metadata": {},
   "source": [
    "The syntax of a while loop is much simpler than a for-loop but we have to be careful that the while loop doesn't run forever as this will stop a Python program from working! While loops can also be used to iterate through lists but we need to make a note of which iteration we are at each time. This can be seen below:"
   ]
  },
  {
   "cell_type": "code",
   "execution_count": 1,
   "metadata": {},
   "outputs": [
    {
     "name": "stdout",
     "output_type": "stream",
     "text": [
      "Sequence number 1:\n",
      "ACTCGG\n",
      "Sequence number 2:\n",
      "GTAGTCGTTG\n",
      "Sequence number 3:\n",
      "GGTTATGCA\n",
      "Sequence number 4:\n",
      "CCGTAAAC\n",
      "Sequence number 5:\n",
      "TAACTCGA\n"
     ]
    }
   ],
   "source": [
    "sequences = [\"ACTCGG\", \"GTAGTCGTTG\", \"GGTTATGCA\", \"CCGTAAAC\", \"TAACTCGA\"]\n",
    "counter = 0\n",
    "\n",
    "while (counter < len(sequences)):\n",
    "    print(\"Sequence number\", str(counter+1) + \":\")\n",
    "    print(sequences[counter])\n",
    "    counter += 1"
   ]
  },
  {
   "cell_type": "markdown",
   "metadata": {},
   "source": [
    "It is very important that `counter` is defined outside of the loop. If, however, we wrote this:\n",
    "\n",
    "    while (counter < a value):\n",
    "        counter = 0\n",
    "        # Do something\n",
    "        counter += 1\n",
    "\n",
    "the loop would continue forever as each time it runs, it resets `counter` back to 0, even though at the end of the loop it is adding 1 to the counter value. This is why we need to define counter outside of the loop!\n",
    "\n",
    "__Using a while loop, loop through the sequences list and combine all of the sequences into one string and print the result.__\n",
    "\n",
    "    Input:\n",
    "    sequences = [\"ACTCGG\", \"GTAGTCGTTG\", \"GGTTATGCA\", \"CCGTAAAC\", \"TAACTCGA\"]\n",
    "\n",
    "    Output:\n",
    "    ACTCGGGTAGTCGTTGGGTTATGCACCGTAAACTAACTCGA"
   ]
  },
  {
   "cell_type": "code",
   "execution_count": 2,
   "metadata": {},
   "outputs": [
    {
     "name": "stdout",
     "output_type": "stream",
     "text": [
      "ACTCGGGTAGTCGTTGGGTTATGCACCGTAAACTAACTCGA\n"
     ]
    }
   ],
   "source": [
    "sequences = [\"ACTCGG\", \"GTAGTCGTTG\", \"GGTTATGCA\", \"CCGTAAAC\", \"TAACTCGA\"]\n",
    "\n",
    "# Your code here\n",
    "counter = 0\n",
    "result = str()\n",
    "while counter < 5:\n",
    "    result = result + sequences[counter]\n",
    "    counter = counter + 1\n",
    "print(result)\n",
    "\n",
    "\n",
    "\n",
    "\n",
    "\n"
   ]
  },
  {
   "cell_type": "markdown",
   "metadata": {},
   "source": [
    "A few exercises ago, you wrote a program that asked the user for 2 input sequences of at least 5 bp and it printed out the combined sequence. __Now, using a while loop, rewrite this program so that it keeps looping until the user provides sequences of at least 5 bp each.__ The while loop should be used to check whether either of the sequences are too short. This can be done with the `or` operator:\n",
    "\n",
    "    if (this_is_true or this_is_true):\n",
    "        # Do something\n",
    "\n",
    "__You should then use if statements to check which sequence is too short and get the user to input a new sequence.__"
   ]
  },
  {
   "cell_type": "code",
   "execution_count": null,
   "metadata": {},
   "outputs": [
    {
     "name": "stdout",
     "output_type": "stream",
     "text": [
      "Give two nucleotide sequences longer than 5bp\n",
      "Please, enter first sequence:\n",
      "atcgt\n",
      "Please, enter second sequence:\n",
      "atcta\n",
      "Correct input. Sum of sequences is \n",
      "atcgtatcta\n",
      "Please, enter first sequence:\n",
      "atc\n",
      "Please, enter second sequence:\n",
      "actca\n",
      "Input sequences are not the same length. Please enter sequences of the same length.\n",
      "Please, enter first sequence:\n",
      "atc\n",
      "Please, enter second sequence:\n",
      "atc\n",
      "Sequence 1 is too short. Enter a longer sequence.\n",
      "Please, enter first sequence:\n",
      "atcat\n",
      "Please, enter second sequence:\n",
      "atc\n",
      "Input sequences are not the same length. Please enter sequences of the same length.\n",
      "Please, enter first sequence:\n",
      "atca\n",
      "Please, enter second sequence:\n",
      "atca\n",
      "Sequence 1 is too short. Enter a longer sequence.\n",
      "Please, enter first sequence:\n",
      "atcatc\n",
      "Please, enter second sequence:\n",
      "atcatc\n",
      "Correct input. Sum of sequences is \n",
      "atcatcatcatc\n"
     ]
    }
   ],
   "source": [
    "print(\"Give two nucleotide sequences longer than 5bp\")\n",
    "condition_statement = True\n",
    "while condition_statement == True:\n",
    "    sequence_1 = input(\"Please, enter first sequence:\\n\")\n",
    "    sequence_2 = input(\"Please, enter second sequence:\\n\")\n",
    "    if (len(sequence_1) >= 5 and len(sequence_2) >= 5):\n",
    "        print(\"Correct input. Sum of sequences is \\n\" + sequence_1 + sequence_2)\n",
    "    elif (len(sequence_1) < 5):\n",
    "        print(\"Sequence 1 is too short. Enter a longer sequence.\")\n",
    "    elif (len(sequence_2) < 5):\n",
    "        print(\"Sequence 2 is too short. Enter a longer sequence.\")\n",
    "    else:\n",
    "        print(\"All wrong, try again.\")\n",
    "\n",
    "\n",
    "# You will need to set up the while loop with the appropriate \n",
    "# The rest of your code goes here\n",
    "    \n",
    "    \n",
    "    \n",
    "    \n",
    "    \n",
    "    \n",
    "    \n",
    "    \n",
    "    \n",
    "    \n",
    "    \n"
   ]
  },
  {
   "cell_type": "markdown",
   "metadata": {},
   "source": [
    "## Dictionaries\n",
    "Dictionaries are a different type of variable that work similarly to lists. They can be used to store lots of different bits of information but their syntax differs slightly. When you use dictionaries, you extract information using 'keys' rather than a numeric index as you would in lists.\n",
    "\n",
    "Each element of a dictionary is made up of a key and a value:\n",
    "\n",
    "    my_dictionary = {'key1': 'value1', 'key2': 'value2', ...}\n",
    "\n",
    "Values can be added to a dictionary by using this syntax:\n",
    "\n",
    "    my_dictionary[\"new key\"] = \"new value\"\n",
    "\n",
    "And in Python code, using a dictionary looks like this:"
   ]
  },
  {
   "cell_type": "code",
   "execution_count": null,
   "metadata": {},
   "outputs": [],
   "source": [
    "# Using a list\n",
    "my_list = [\"John Doe\", 24, \"Imperial College\"]\n",
    "print(my_list[0], \"is\", my_list[1], \"years old and he goes to\", my_list[2])\n",
    "\n",
    "# Using a dictionary\n",
    "my_dictionary = {\"Name\": \"John Doe\", \"Age\": 24, \"University\": \"Imperial College\"}\n",
    "print(my_dictionary[\"Name\"], \"is\", my_dictionary[\"Age\"], \"years old and he goes to\", my_dictionary[\"University\"])\n",
    "\n",
    "# So, when you use a dictionary, you pull information out using the key rather than a numeric index.\n",
    "\n",
    "my_dictionary = {\"Name\": \"John Doe\", \"Age\": 24, \"University\": \"Imperial College\"}\n",
    "print(\"Before:\", my_dictionary)\n",
    "\n",
    "my_dictionary[\"Gender\"] = \"Male\" # adds a new value to the dictionary\n",
    "print(\"After\", my_dictionary)"
   ]
  },
  {
   "cell_type": "markdown",
   "metadata": {},
   "source": [
    "You will now use dictionaries to rewrite some of the pseudocode exercises. The first example was an algorithm that converted the single letter nucleotide codes (G, C, A, T) to their full names (guanine, cytosine, adenosine, thymine) for a given sequence. \n",
    "\n",
    "__Use the dictionary called__ `convert` __to complete the following code so that the result contains a list of full name nucleotides from the sequence.__\n",
    "\n",
    "    i.e. \"ATGCAGC...\" --> [\"Alanine\", \"Thymine\", \"Guanine\", \"Cytosine\", ...]\n",
    "\n",
    "The dictionary should be used to turn the nucleotide into its full name. The loop should now only need one line of code to complete!"
   ]
  },
  {
   "cell_type": "code",
   "execution_count": null,
   "metadata": {},
   "outputs": [],
   "source": [
    "sequence = \"ATGCAGCTACGCGTTCAGGA\"\n",
    "result = list() # creates an empty list\n",
    "\n",
    "convert = {\"A\": \"Alanine\", \"T\": \"Thymine\", \"G\": \"Guanine\", \"C\": \"Cytosine\"}\n",
    "\n",
    "for nucleotide in sequence:  \n",
    "    result.append(convert[nucleotide])   \n",
    "        \n",
    "print(result)\n"
   ]
  },
  {
   "cell_type": "markdown",
   "metadata": {},
   "source": [
    "__Now use a dictionary to find the complementary base pair sequence in the codeblock below.__ This will work similarly to the above example but you will need to think about what needs to be changed."
   ]
  },
  {
   "cell_type": "code",
   "execution_count": null,
   "metadata": {},
   "outputs": [],
   "source": [
    "sequence = \"ATGCAGCTACGCGTTCAGGA\"\n",
    "result = str()  # creates an string list\n",
    "\n",
    "convert = {\"A\": \"T\", \"T\": \"A\", \"G\": \"C\", \"C\": \"G\"}\n",
    "\n",
    "for nucleotide in sequence:\n",
    "    result += (convert[nucleotide])\n",
    "\n",
    "print(result)\n",
    "\n",
    "\n"
   ]
  },
  {
   "cell_type": "markdown",
   "metadata": {},
   "source": [
    "### Translating a DNA Sequence\n",
    "To really demonstrate the usefulness of dictionaries, we will now use them to translate a nucleotide sequence into a protein sequence. Nucleotide sequences comprise of 3 base pair codons which code for a particular amino acid. __You will now write a program that cycles through each codon in the sequence and uses the codon dictionary to translate that into an amino acid. This amino acid should then be added to the result string.__\n",
    "\n",
    "If you're having trouble figuring out what the loop is doing, refer back the previous exercise where a for-loop was used to print the codons of a nucleotide sequence."
   ]
  },
  {
   "cell_type": "code",
   "execution_count": null,
   "metadata": {},
   "outputs": [],
   "source": [
    "sequence = \"GGCAGATTCCCCCTAGACCCGCCCGCACCATGGTCAGGCATGCCCCTCCTCATCGCTGGG\"\n",
    "translated = str()\n",
    "\n",
    "codons = {'ATA': 'I', 'ATC': 'I', 'ATT': 'I', 'ATG': 'M', \n",
    "          'ACA': 'T', 'ACC': 'T', 'ACG': 'T', 'ACT': 'T', \n",
    "          'AAC': 'N', 'AAT': 'N', 'AAA': 'K', 'AAG': 'K', \n",
    "          'AGC': 'S', 'AGT': 'S', 'AGA': 'R', 'AGG': 'R', \n",
    "          'CTA': 'L', 'CTC': 'L', 'CTG': 'L', 'CTT': 'L', \n",
    "          'CCA': 'P', 'CCC': 'P', 'CCG': 'P', 'CCT': 'P', \n",
    "          'CAC': 'H', 'CAT': 'H', 'CAA': 'Q', 'CAG': 'Q', \n",
    "          'CGA': 'R', 'CGC': 'R', 'CGG': 'R', 'CGT': 'R', \n",
    "          'GTA': 'V', 'GTC': 'V', 'GTG': 'V', 'GTT': 'V', \n",
    "          'GCA': 'A', 'GCC': 'A', 'GCG': 'A', 'GCT': 'A', \n",
    "          'GAC': 'D', 'GAT': 'D', 'GAA': 'E', 'GAG': 'E', \n",
    "          'GGA': 'G', 'GGC': 'G', 'GGG': 'G', 'GGT': 'G', \n",
    "          'TCA': 'S', 'TCC': 'S', 'TCG': 'S', 'TCT': 'S', \n",
    "          'TTC': 'F', 'TTT': 'F', 'TTA': 'L', 'TTG': 'L', \n",
    "          'TAC': 'Y', 'TAT': 'Y', 'TAA': '_', 'TAG': '_', \n",
    "          'TGC': 'C', 'TGT': 'C', 'TGA': '_', 'TGG': 'W'}\n",
    "\n",
    "for i in range(0, len(sequence), 3):\n",
    "    translated += codons[sequence[i:i+3]]\n",
    "print (translated)\n",
    "    # Your code here\n",
    "    \n",
    "    \n",
    "\n",
    "    "
   ]
  },
  {
   "cell_type": "markdown",
   "metadata": {},
   "source": [
    "## Extension: Finding The Likely Common Ancestor"
   ]
  },
  {
   "cell_type": "markdown",
   "metadata": {},
   "source": [
    "Before jumping into the extension exercise, it is important to understand how __nested loops__ work. \n",
    "\n",
    "### Nested Loops\n",
    "Loops can be written inside of loops and these are called nested loops. An example is shown below:"
   ]
  },
  {
   "cell_type": "code",
   "execution_count": null,
   "metadata": {},
   "outputs": [],
   "source": [
    "for x in range(5):\n",
    "    for y in range(5):\n",
    "        print('x is:', str(x))\n",
    "        print('y is:', str(y))\n",
    "    print('\\n')"
   ]
  },
  {
   "cell_type": "markdown",
   "metadata": {},
   "source": [
    "If you run the code above, you will see that for each iteration of the first loop (x), the y-loop iterates through all 5 values. Nested loops are essential for working with nested lists or manipulating strings within a list:"
   ]
  },
  {
   "cell_type": "code",
   "execution_count": null,
   "metadata": {},
   "outputs": [],
   "source": [
    "words = [\"These\", \"are\", \"strings\"]\n",
    "for word in words:\n",
    "    for letter in word:\n",
    "        print(letter)"
   ]
  },
  {
   "cell_type": "markdown",
   "metadata": {},
   "source": [
    "__Using the nested loop provided, complete the following codeblock so that it translates each of the sequences and appends the translated sequences to the__ `translated` __list.__"
   ]
  },
  {
   "cell_type": "code",
   "execution_count": null,
   "metadata": {},
   "outputs": [],
   "source": [
    "sequences = [\"TTGGAACTC\", \"ATGCCATTG\", \"ATGGCACTC\"]\n",
    "translated = list()\n",
    "\n",
    "for seq in sequences:\n",
    "    for i in range(0, len(seq), 3):\n",
    "        translated += sequences[i:i+3]\n",
    "print(translated)\n",
    "# Your code here     \n",
    "            \n",
    "for seq in sequences:\n",
    "    seq_translated = str()\n",
    "    for i in range(0, len(seq), 3):\n",
    "        seq_translated += codons[seq[i:i + 3]]\n",
    "    translated.append(seq_translated)\n",
    "print(translated)\n",
    "\n",
    "\n"
   ]
  },
  {
   "cell_type": "markdown",
   "metadata": {},
   "source": [
    "### Finding The Common Ancestor\n",
    "When calculating point mutations between sequences earlier, we calculated the minimum number of mismatches between two strings of equal length. This modelled the problem of finding the minimum number of point mutations occurring on the evolutionary path between two homologous strands of DNA. \n",
    "\n",
    "If we instead have several homologous strands that we want to analyze simultaneously, we can calculate a position frequency matrix (PFM). This is a matrix, or a table, that shows the frequency of each nucleotide at each position in a set of aligned sequences. This is shown below.\n",
    "\n",
    "\n",
    "                     A T C C A G C T\n",
    "                     G G G C A A C T\n",
    "                     A T G G A T C T\n",
    "    DNA Strings      A A G C A A C C\n",
    "                     T T G G A A C T\n",
    "                     A T G C C A T T\n",
    "                     A T G G C A C T\n",
    "\n",
    "\t             A   5 1 0 0 5 5 0 0\n",
    "    Matrix       C   0 0 1 4 2 0 6 1\n",
    "                 G   1 1 6 3 0 1 0 0\n",
    "                 T   1 5 0 0 0 1 1 6\n",
    "                 \n",
    "This PFM can then be used to generate an average sequence that at some level represents the common ancestor of these homologous sequences. __Complete the codeblock below so that a PFM is calculated for the sequences list.__ This PFM should be stored in the `matrix` variable and the final result should look like this:\n",
    "\n",
    "    [\n",
    "        {'A': 5, 'T': 1, 'G': 1, 'C': 0}, \n",
    "        {'A': 1, 'T': 5, 'G': 1, 'C': 0}, \n",
    "        {'A': 0, 'T': 0, 'G': 6, 'C': 1}, \n",
    "        {'A': 0, 'T': 0, 'G': 3, 'C': 4}, \n",
    "        {'A': 5, 'T': 0, 'G': 0, 'C': 2}, \n",
    "        {'A': 5, 'T': 1, 'G': 1, 'C': 0}, \n",
    "        {'A': 0, 'T': 1, 'G': 0, 'C': 6}, \n",
    "        {'A': 0, 'T': 6, 'G': 0, 'C': 1}\n",
    "    ]"
   ]
  },
  {
   "cell_type": "code",
   "execution_count": null,
   "metadata": {},
   "outputs": [],
   "source": [
    "sequences = [\"ATCCAGCT\", \"GGGCAACT\", \"ATGGATCT\", \"AAGCAACC\", \"TTGGAACT\", \"ATGCCATT\", \"ATGGCACT\"]\n",
    "matrix = list()\n",
    "\n",
    "for i in range(0, len(sequences[0])):\n",
    "    A, T, G, C = 0, 0, 0, 0 # sets all these variables to 0\n",
    "    for seq in sequences:\n",
    "        # Your code here\n",
    "        \n",
    "        \n",
    "        \n",
    "        \n",
    "        "
   ]
  },
  {
   "cell_type": "markdown",
   "metadata": {},
   "source": [
    "Now that you have a matrix in the format:\n",
    "\n",
    "    [\n",
    "        {'A': 5, 'T': 1, 'G': 1, 'C': 0}, \n",
    "        {'A': 1, 'T': 5, 'G': 1, 'C': 0}, \n",
    "        {'A': 0, 'T': 0, 'G': 6, 'C': 1}, \n",
    "        {'A': 0, 'T': 0, 'G': 3, 'C': 4}, \n",
    "        {'A': 5, 'T': 0, 'G': 0, 'C': 2}, \n",
    "        {'A': 5, 'T': 1, 'G': 1, 'C': 0}, \n",
    "        {'A': 0, 'T': 1, 'G': 0, 'C': 6}, \n",
    "        {'A': 0, 'T': 6, 'G': 0, 'C': 1}\n",
    "    ]\n",
    "\n",
    "You will now use a for-loop to loop through each dictionary and identify the nucleotide with the highest frequency. This nucleotide will then be added to the `result` string. To find the maximum value of a dictionary, there are multiple ways of doing this. A convinient way to do this is to use the max function:\n",
    "\n",
    "    max(my_dictionary, key=my_dictionary.get)\n",
    "    \n",
    "This will return the key of the dictionary that has the highest integer value associated with it. So if this function was used with:\n",
    "\n",
    "    {'A': 5, 'T': 1, 'G': 1, 'C': 0} --> 'A'\n",
    "\n",
    "The result would be `'A'`. __Use this function to complete the following codeblock and calculate the average sequence.__"
   ]
  },
  {
   "cell_type": "code",
   "execution_count": null,
   "metadata": {},
   "outputs": [],
   "source": [
    "result = str() # store the final sequence here\n",
    "\n",
    "for position in matrix:\n",
    "    # Your code here\n",
    "\n",
    "    \n",
    "    \n",
    "    \n",
    "    "
   ]
  }
 ],
 "metadata": {
  "kernelspec": {
   "display_name": "Python 3 (ipykernel)",
   "language": "python",
   "name": "python3"
  },
  "language_info": {
   "codemirror_mode": {
    "name": "ipython",
    "version": 3
   },
   "file_extension": ".py",
   "mimetype": "text/x-python",
   "name": "python",
   "nbconvert_exporter": "python",
   "pygments_lexer": "ipython3",
   "version": "3.9.7"
  }
 },
 "nbformat": 4,
 "nbformat_minor": 2
}
