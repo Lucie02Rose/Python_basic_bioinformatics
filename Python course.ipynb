{
 "cells": [
  {
   "cell_type": "code",
   "execution_count": null,
   "id": "932277cd",
   "metadata": {},
   "outputs": [],
   "source": [
    "# stacking things together\n",
    "for number in range(5):\n",
    "    if number == 0:\n",
    "        print('Zero')\n",
    "    elif number%2 == 1:\n",
    "        print('Odd')\n",
    "    else:\n",
    "        print('Even')"
   ]
  },
  {
   "cell_type": "markdown",
   "id": "93e2963f",
   "metadata": {},
   "source": [
    "Add a cell using the plus sign"
   ]
  },
  {
   "cell_type": "code",
   "execution_count": null,
   "id": "4132a0b4",
   "metadata": {},
   "outputs": [],
   "source": [
    "names = ['maria', 'isaac', 'sam', 'aisha']"
   ]
  },
  {
   "cell_type": "markdown",
   "id": "127e4d9b",
   "metadata": {},
   "source": [
    "Another line as non-code"
   ]
  },
  {
   "cell_type": "code",
   "execution_count": null,
   "id": "b8997cc7",
   "metadata": {},
   "outputs": [],
   "source": []
  }
 ],
 "metadata": {
  "kernelspec": {
   "display_name": "Python 3 (ipykernel)",
   "language": "python",
   "name": "python3"
  },
  "language_info": {
   "codemirror_mode": {
    "name": "ipython",
    "version": 3
   },
   "file_extension": ".py",
   "mimetype": "text/x-python",
   "name": "python",
   "nbconvert_exporter": "python",
   "pygments_lexer": "ipython3",
   "version": "3.9.7"
  }
 },
 "nbformat": 4,
 "nbformat_minor": 5
}
